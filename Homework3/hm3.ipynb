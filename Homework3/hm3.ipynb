{
 "cells": [
  {
   "cell_type": "markdown",
   "source": [
    "# Karger algorithm"
   ],
   "metadata": {
    "collapsed": false,
    "pycharm": {
     "name": "#%% md\n"
    }
   }
  },
  {
   "cell_type": "markdown",
   "source": [
    "## Support objects"
   ],
   "metadata": {
    "collapsed": false,
    "pycharm": {
     "name": "#%% md\n"
    }
   }
  },
  {
   "cell_type": "code",
   "execution_count": 122,
   "outputs": [],
   "source": [
    "class Node:\n",
    "    def __init__(self,  isContract, tag = -1,):\n",
    "        self.tag = tag\n",
    "        self.adjacencyList = []\n",
    "        self.isContract = isContract\n",
    "\n",
    "class Graph:\n",
    "    def __init__(self):\n",
    "        self.n_nodes, self.n_edges = 0, 0\n",
    "        self.nodes = defaultdict(Node)\n",
    "\n",
    "    def createNodes(self, nums: int):\n",
    "        for i in range(1, nums+1):\n",
    "            self.nodes[i] = Node(False, i)\n",
    "            self.n_nodes += 1\n",
    "\n",
    "    def addNode(self, tag:int, adjTag:int):\n",
    "        self.nodes[tag].adjacencyList.append(self.nodes[adjTag])\n",
    "        #self.nodes[adjTag].adjacencyList.append(self.nodes[tag]) # Graph is undirected\n",
    "        if tag <= adjTag: self.n_edges += 1\n",
    "\n",
    "    def buildGraph(self):\n",
    "        self.createNodes(len(dataset))\n",
    "        for v in dataset:\n",
    "            for i in range (1, len(v)):\n",
    "                self.addNode(v[0], v[i])"
   ],
   "metadata": {
    "collapsed": false,
    "pycharm": {
     "name": "#%%\n"
    }
   }
  },
  {
   "cell_type": "markdown",
   "source": [
    "## Reading the input"
   ],
   "metadata": {
    "collapsed": false,
    "pycharm": {
     "name": "#%% md\n"
    }
   }
  },
  {
   "cell_type": "code",
   "execution_count": 123,
   "outputs": [],
   "source": [
    "from collections import defaultdict\n",
    "def readInput(path: str):\n",
    "    lines = open(path, \"r\").read().split(\"\\n\")\n",
    "    input = []\n",
    "    for line in range(len(lines)-1):\n",
    "        input.append(list(map(int, lines[line].split()))) # Transform list of strings to list of integers\n",
    "\n",
    "    return input"
   ],
   "metadata": {
    "collapsed": false,
    "pycharm": {
     "name": "#%%\n"
    }
   }
  },
  {
   "cell_type": "markdown",
   "source": [
    "## Karger implementation"
   ],
   "metadata": {
    "collapsed": false,
    "pycharm": {
     "name": "#%% md\n"
    }
   }
  },
  {
   "cell_type": "code",
   "execution_count": 124,
   "outputs": [],
   "source": [
    "import random\n",
    "import math\n",
    "import copy\n",
    "\n",
    "def makeCopy(g: Graph):\n",
    "        graph = Graph()\n",
    "        graph.nodes = copy.deepcopy(g.nodes)\n",
    "        graph.n_edges, graph.n_nodes = g.n_edges, g.n_nodes\n",
    "        return graph\n",
    "\n",
    "def fullContraction(g):\n",
    "    graph = makeCopy(g)\n",
    "    for i in range(graph.n_nodes-2):\n",
    "        print(\"iteration =\", i)\n",
    "        print(\"n_nodes =\", graph.n_nodes)\n",
    "        print(\"n_edges =\", graph.n_edges)\n",
    "\n",
    "        # Select two linked nodes (arch)\n",
    "        print(\"len(nodes) =\", len(graph.nodes))\n",
    "        n1 = random.choice([n for n in graph.nodes.values() if not n.isContract])\n",
    "        n1.isContract = True\n",
    "        print(\"selected node = \", n1.tag)\n",
    "        n2 = random.choice([n for n in n1.adjacencyList if not n.isContract])\n",
    "        n2.isContract = True\n",
    "        print(n1.tag,n2.tag, \"\\n\")\n",
    "\n",
    "        # Contraction\n",
    "        id = \"Z_\"+str(n1.tag)+str(n2.tag)\n",
    "        graph.nodes[id] = Node(False)\n",
    "        available_nodes = [n for n in graph.nodes.values() if not n.isContract and n != n1 and n != n2]\n",
    "        for n in available_nodes:\n",
    "            if n1 in n.adjacencyList or n2 in n.adjacencyList:\n",
    "                n.adjacencyList.append(graph.nodes[id])\n",
    "                graph.nodes[id].adjacencyList.append(n)\n",
    "        graph.n_nodes -= 1\n",
    "        graph.n_edges -= 1  # Need to compute molteplicity\n",
    "        del n1\n",
    "        del n2\n",
    "\n",
    "    return graph.n_edges, graph\n",
    "\n",
    "def karger(graph, k):\n",
    "    min = math.inf\n",
    "    for i in range(k):\n",
    "        print(\"ciao\")\n",
    "        t, g = fullContraction(graph)\n",
    "        if t < min: min = t\n",
    "    return min, g"
   ],
   "metadata": {
    "collapsed": false,
    "pycharm": {
     "name": "#%%\n"
    }
   }
  },
  {
   "cell_type": "code",
   "execution_count": 125,
   "outputs": [
    {
     "name": "stdout",
     "output_type": "stream",
     "text": [
      "ciao\n",
      "iteration = 0\n",
      "n_nodes = 6\n",
      "n_edges = 9\n",
      "len(nodes) = 6\n",
      "selected node =  5\n",
      "5 6 \n",
      "\n",
      "iteration = 1\n",
      "n_nodes = 5\n",
      "n_edges = 8\n",
      "len(nodes) = 7\n",
      "selected node =  2\n",
      "2 -1 \n",
      "\n",
      "iteration = 2\n",
      "n_nodes = 4\n",
      "n_edges = 7\n",
      "len(nodes) = 8\n",
      "selected node =  4\n",
      "4 -1 \n",
      "\n",
      "iteration = 3\n",
      "n_nodes = 3\n",
      "n_edges = 6\n",
      "len(nodes) = 9\n",
      "selected node =  -1\n",
      "-1 3 \n",
      "\n",
      "final result = 5\n",
      "(1, <__main__.Node object at 0x7f671c3852b0>)\n",
      "(2, <__main__.Node object at 0x7f671ca9fd30>)\n",
      "(3, <__main__.Node object at 0x7f670bfe8e48>)\n",
      "(4, <__main__.Node object at 0x7f670bfe8748>)\n",
      "(5, <__main__.Node object at 0x7f670bfe8780>)\n",
      "(6, <__main__.Node object at 0x7f670bfe8e80>)\n",
      "('Z_56', <__main__.Node object at 0x7f670bfe8b70>)\n",
      "('Z_2-1', <__main__.Node object at 0x7f670bfe8860>)\n",
      "('Z_4-1', <__main__.Node object at 0x7f670b67ab70>)\n",
      "('Z_-13', <__main__.Node object at 0x7f670b67ac88>)\n"
     ]
    }
   ],
   "source": [
    "dataset = readInput(\"mincut_dataset/input_random_1_6.txt\")\n",
    "k = 1\n",
    "graph = Graph()\n",
    "graph.buildGraph()\n",
    "#print(graph.n_nodes, graph.n_edges)\n",
    "result, g = karger(graph, k)\n",
    "print(\"final result =\", result)\n",
    "for n in g.nodes.items():\n",
    "    print(n)"
   ],
   "metadata": {
    "collapsed": false,
    "pycharm": {
     "name": "#%%\n"
    }
   }
  }
 ],
 "metadata": {
  "kernelspec": {
   "name": "pycharm-6c910683",
   "language": "python",
   "display_name": "PyCharm (Homework1)"
  },
  "language_info": {
   "codemirror_mode": {
    "name": "ipython",
    "version": 2
   },
   "file_extension": ".py",
   "mimetype": "text/x-python",
   "name": "python",
   "nbconvert_exporter": "python",
   "pygments_lexer": "ipython2",
   "version": "2.7.17-final"
  },
  "colab": {
   "name": "hm2.ipynb",
   "provenance": [],
   "toc_visible": true
  }
 },
 "nbformat": 4,
 "nbformat_minor": 0
}