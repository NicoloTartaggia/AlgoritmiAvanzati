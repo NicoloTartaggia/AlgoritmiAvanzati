{
 "cells": [
  {
   "cell_type": "markdown",
   "source": [
    "# Karger algorithm"
   ],
   "metadata": {
    "collapsed": false,
    "pycharm": {
     "name": "#%% md\n"
    }
   }
  },
  {
   "cell_type": "markdown",
   "source": [
    "## Support objects"
   ],
   "metadata": {
    "collapsed": false,
    "pycharm": {
     "name": "#%% md\n"
    }
   }
  },
  {
   "cell_type": "code",
   "execution_count": 217,
   "outputs": [],
   "source": [
    "class Node:\n",
    "    def __init__(self,  isContract, tag = -1,):\n",
    "        self.tag = tag\n",
    "        self.adjacencyList = []\n",
    "        self.isContract = isContract\n",
    "\n",
    "class Graph:\n",
    "    def __init__(self):\n",
    "        self.n_nodes, self.n_edges = 0, 0\n",
    "        self.nodes = defaultdict(Node)\n",
    "\n",
    "    def createNodes(self, nums: int):\n",
    "        for i in range(1, nums+1):\n",
    "            self.nodes[i] = Node(False, i)\n",
    "            self.n_nodes += 1\n",
    "\n",
    "    def addNode(self, tag:int, adjTag:int):\n",
    "        self.nodes[tag].adjacencyList.append(self.nodes[adjTag])\n",
    "        self.nodes[adjTag].adjacencyList.append(self.nodes[tag]) # Graph is undirected\n",
    "        if tag <= adjTag: self.n_edges += 1\n",
    "\n",
    "    def buildGraph(self):\n",
    "        self.createNodes(len(dataset))\n",
    "        for v in dataset:\n",
    "            for i in range (1, len(v)):\n",
    "                self.addNode(v[0], v[i])"
   ],
   "metadata": {
    "collapsed": false,
    "pycharm": {
     "name": "#%%\n"
    }
   }
  },
  {
   "cell_type": "markdown",
   "source": [
    "## Reading the input"
   ],
   "metadata": {
    "collapsed": false,
    "pycharm": {
     "name": "#%% md\n"
    }
   }
  },
  {
   "cell_type": "code",
   "execution_count": 218,
   "outputs": [],
   "source": [
    "from collections import defaultdict\n",
    "def readInput(path: str):\n",
    "    lines = open(path, \"r\").read().split(\"\\n\")\n",
    "    input = []\n",
    "    for line in range(len(lines)-1):\n",
    "        input.append(list(map(int, lines[line].split()))) # Transform list of strings to list of integers\n",
    "\n",
    "    return input"
   ],
   "metadata": {
    "collapsed": false,
    "pycharm": {
     "name": "#%%\n"
    }
   }
  },
  {
   "cell_type": "markdown",
   "source": [
    "## Karger implementation"
   ],
   "metadata": {
    "collapsed": false,
    "pycharm": {
     "name": "#%% md\n"
    }
   }
  },
  {
   "cell_type": "code",
   "execution_count": 219,
   "outputs": [],
   "source": [
    "import random\n",
    "import math\n",
    "def fullContraction(graph):\n",
    "    for i in range (graph.n_nodes-2):\n",
    "        print(\"iteration =\", i)\n",
    "        print(\"n_nodes =\", graph.n_nodes)\n",
    "        print(\"n_edges =\", graph.n_edges)\n",
    "\n",
    "        # Select two linked nodes (arch)\n",
    "        print(\"len(nodes) =\", len(graph.nodes))\n",
    "        n1 = random.choice([n for n in graph.nodes.values() if not n.isContract])\n",
    "        n1.isContract = True\n",
    "        print(\"selected node = \", n1.tag)\n",
    "        n2 = random.choice([n for n in n1.adjacencyList if not n.isContract])\n",
    "        n2.isContract = True\n",
    "        print(n1.tag,n2.tag)\n",
    "        molteplicity = 0\n",
    "\n",
    "        # Contraction\n",
    "        #id = \"Z_\"+str(n1.tag)+str(n2.tag)\n",
    "        #graph.nodes[id] = Node(True)\n",
    "        #available_nodes = [n for n in graph.nodes.values() if not n.isContract and n != n1 and n != n2]\n",
    "        #for n in available_nodes:\n",
    "        #    if n1 in n.adjacencyList or n2 in n.adjacencyList:\n",
    "        #        n.adjacencyList.append(graph.nodes[id])\n",
    "        #        graph.nodes[id].adjacencyList.append(n)\n",
    "        #graph.n_nodes -= 1\n",
    "        # graph.n_edges -= molteplicity  # Need to compute molteplicity\n",
    "\n",
    "    return graph.n_edges\n",
    "\n",
    "def karger(graph, k):\n",
    "    min = math.inf\n",
    "    for i in range(k):\n",
    "        t = fullContraction(graph)\n",
    "        if t < min: min = t\n",
    "    return min"
   ],
   "metadata": {
    "collapsed": false,
    "pycharm": {
     "name": "#%%\n"
    }
   }
  },
  {
   "cell_type": "code",
   "execution_count": 220,
   "outputs": [
    {
     "name": "stdout",
     "output_type": "stream",
     "text": [
      "iteration = 0\n",
      "n_nodes = 6\n",
      "n_edges = 9\n",
      "len(nodes) = 6\n",
      "selected node =  6\n",
      "6 2\n",
      "molteplicity =  4 \n",
      "\n",
      "iteration = 1\n",
      "n_nodes = 5\n",
      "n_edges = 5\n",
      "len(nodes) = 7\n",
      "selected node =  3\n",
      "3 1\n",
      "molteplicity =  4 \n",
      "\n",
      "iteration = 2\n",
      "n_nodes = 4\n",
      "n_edges = 1\n",
      "len(nodes) = 8\n",
      "selected node =  4\n",
      "4 5\n",
      "molteplicity =  4 \n",
      "\n",
      "iteration = 3\n",
      "n_nodes = 3\n",
      "n_edges = -3\n",
      "len(nodes) = 9\n"
     ]
    },
    {
     "ename": "IndexError",
     "evalue": "Cannot choose from an empty sequence",
     "output_type": "error",
     "traceback": [
      "\u001B[0;31m---------------------------------------------------------------------------\u001B[0m",
      "\u001B[0;31mIndexError\u001B[0m                                Traceback (most recent call last)",
      "\u001B[0;32m<ipython-input-220-2c91e86536c3>\u001B[0m in \u001B[0;36m<module>\u001B[0;34m\u001B[0m\n\u001B[1;32m      4\u001B[0m \u001B[0mgraph\u001B[0m\u001B[0;34m.\u001B[0m\u001B[0mbuildGraph\u001B[0m\u001B[0;34m(\u001B[0m\u001B[0;34m)\u001B[0m\u001B[0;34m\u001B[0m\u001B[0;34m\u001B[0m\u001B[0m\n\u001B[1;32m      5\u001B[0m \u001B[0;31m#print(graph.n_nodes, graph.n_edges)\u001B[0m\u001B[0;34m\u001B[0m\u001B[0;34m\u001B[0m\u001B[0;34m\u001B[0m\u001B[0m\n\u001B[0;32m----> 6\u001B[0;31m \u001B[0mresult\u001B[0m \u001B[0;34m=\u001B[0m \u001B[0mkarger\u001B[0m\u001B[0;34m(\u001B[0m\u001B[0mgraph\u001B[0m\u001B[0;34m,\u001B[0m \u001B[0mk\u001B[0m\u001B[0;34m)\u001B[0m\u001B[0;34m\u001B[0m\u001B[0;34m\u001B[0m\u001B[0m\n\u001B[0m",
      "\u001B[0;32m<ipython-input-219-3a52ca78b946>\u001B[0m in \u001B[0;36mkarger\u001B[0;34m(graph, k)\u001B[0m\n\u001B[1;32m     38\u001B[0m     \u001B[0mmin\u001B[0m \u001B[0;34m=\u001B[0m \u001B[0mmath\u001B[0m\u001B[0;34m.\u001B[0m\u001B[0minf\u001B[0m\u001B[0;34m\u001B[0m\u001B[0;34m\u001B[0m\u001B[0m\n\u001B[1;32m     39\u001B[0m     \u001B[0;32mfor\u001B[0m \u001B[0mi\u001B[0m \u001B[0;32min\u001B[0m \u001B[0mrange\u001B[0m\u001B[0;34m(\u001B[0m\u001B[0mk\u001B[0m\u001B[0;34m)\u001B[0m\u001B[0;34m:\u001B[0m\u001B[0;34m\u001B[0m\u001B[0;34m\u001B[0m\u001B[0m\n\u001B[0;32m---> 40\u001B[0;31m         \u001B[0mt\u001B[0m \u001B[0;34m=\u001B[0m \u001B[0mfullContraction\u001B[0m\u001B[0;34m(\u001B[0m\u001B[0mgraph\u001B[0m\u001B[0;34m)\u001B[0m\u001B[0;34m\u001B[0m\u001B[0;34m\u001B[0m\u001B[0m\n\u001B[0m\u001B[1;32m     41\u001B[0m         \u001B[0;32mif\u001B[0m \u001B[0mt\u001B[0m \u001B[0;34m<\u001B[0m \u001B[0mmin\u001B[0m\u001B[0;34m:\u001B[0m \u001B[0mmin\u001B[0m \u001B[0;34m=\u001B[0m \u001B[0mt\u001B[0m\u001B[0;34m\u001B[0m\u001B[0;34m\u001B[0m\u001B[0m\n\u001B[1;32m     42\u001B[0m     \u001B[0;32mreturn\u001B[0m \u001B[0mmin\u001B[0m\u001B[0;34m\u001B[0m\u001B[0;34m\u001B[0m\u001B[0m\n",
      "\u001B[0;32m<ipython-input-219-3a52ca78b946>\u001B[0m in \u001B[0;36mfullContraction\u001B[0;34m(graph)\u001B[0m\n\u001B[1;32m      9\u001B[0m         \u001B[0;31m# Select two linked nodes (arch)\u001B[0m\u001B[0;34m\u001B[0m\u001B[0;34m\u001B[0m\u001B[0;34m\u001B[0m\u001B[0m\n\u001B[1;32m     10\u001B[0m         \u001B[0mprint\u001B[0m\u001B[0;34m(\u001B[0m\u001B[0;34m\"len(nodes) =\"\u001B[0m\u001B[0;34m,\u001B[0m \u001B[0mlen\u001B[0m\u001B[0;34m(\u001B[0m\u001B[0mgraph\u001B[0m\u001B[0;34m.\u001B[0m\u001B[0mnodes\u001B[0m\u001B[0;34m)\u001B[0m\u001B[0;34m)\u001B[0m\u001B[0;34m\u001B[0m\u001B[0;34m\u001B[0m\u001B[0m\n\u001B[0;32m---> 11\u001B[0;31m         \u001B[0mn1\u001B[0m \u001B[0;34m=\u001B[0m \u001B[0mrandom\u001B[0m\u001B[0;34m.\u001B[0m\u001B[0mchoice\u001B[0m\u001B[0;34m(\u001B[0m\u001B[0;34m[\u001B[0m\u001B[0mn\u001B[0m \u001B[0;32mfor\u001B[0m \u001B[0mn\u001B[0m \u001B[0;32min\u001B[0m \u001B[0mgraph\u001B[0m\u001B[0;34m.\u001B[0m\u001B[0mnodes\u001B[0m\u001B[0;34m.\u001B[0m\u001B[0mvalues\u001B[0m\u001B[0;34m(\u001B[0m\u001B[0;34m)\u001B[0m \u001B[0;32mif\u001B[0m \u001B[0;32mnot\u001B[0m \u001B[0mn\u001B[0m\u001B[0;34m.\u001B[0m\u001B[0misContract\u001B[0m\u001B[0;34m]\u001B[0m\u001B[0;34m)\u001B[0m\u001B[0;34m\u001B[0m\u001B[0;34m\u001B[0m\u001B[0m\n\u001B[0m\u001B[1;32m     12\u001B[0m         \u001B[0mn1\u001B[0m\u001B[0;34m.\u001B[0m\u001B[0misContract\u001B[0m \u001B[0;34m=\u001B[0m \u001B[0;32mTrue\u001B[0m\u001B[0;34m\u001B[0m\u001B[0;34m\u001B[0m\u001B[0m\n\u001B[1;32m     13\u001B[0m         \u001B[0mprint\u001B[0m\u001B[0;34m(\u001B[0m\u001B[0;34m\"selected node = \"\u001B[0m\u001B[0;34m,\u001B[0m \u001B[0mn1\u001B[0m\u001B[0;34m.\u001B[0m\u001B[0mtag\u001B[0m\u001B[0;34m)\u001B[0m\u001B[0;34m\u001B[0m\u001B[0;34m\u001B[0m\u001B[0m\n",
      "\u001B[0;32m/usr/lib/python3.6/random.py\u001B[0m in \u001B[0;36mchoice\u001B[0;34m(self, seq)\u001B[0m\n\u001B[1;32m    258\u001B[0m             \u001B[0mi\u001B[0m \u001B[0;34m=\u001B[0m \u001B[0mself\u001B[0m\u001B[0;34m.\u001B[0m\u001B[0m_randbelow\u001B[0m\u001B[0;34m(\u001B[0m\u001B[0mlen\u001B[0m\u001B[0;34m(\u001B[0m\u001B[0mseq\u001B[0m\u001B[0;34m)\u001B[0m\u001B[0;34m)\u001B[0m\u001B[0;34m\u001B[0m\u001B[0;34m\u001B[0m\u001B[0m\n\u001B[1;32m    259\u001B[0m         \u001B[0;32mexcept\u001B[0m \u001B[0mValueError\u001B[0m\u001B[0;34m:\u001B[0m\u001B[0;34m\u001B[0m\u001B[0;34m\u001B[0m\u001B[0m\n\u001B[0;32m--> 260\u001B[0;31m             \u001B[0;32mraise\u001B[0m \u001B[0mIndexError\u001B[0m\u001B[0;34m(\u001B[0m\u001B[0;34m'Cannot choose from an empty sequence'\u001B[0m\u001B[0;34m)\u001B[0m \u001B[0;32mfrom\u001B[0m \u001B[0;32mNone\u001B[0m\u001B[0;34m\u001B[0m\u001B[0;34m\u001B[0m\u001B[0m\n\u001B[0m\u001B[1;32m    261\u001B[0m         \u001B[0;32mreturn\u001B[0m \u001B[0mseq\u001B[0m\u001B[0;34m[\u001B[0m\u001B[0mi\u001B[0m\u001B[0;34m]\u001B[0m\u001B[0;34m\u001B[0m\u001B[0;34m\u001B[0m\u001B[0m\n\u001B[1;32m    262\u001B[0m \u001B[0;34m\u001B[0m\u001B[0m\n",
      "\u001B[0;31mIndexError\u001B[0m: Cannot choose from an empty sequence"
     ]
    }
   ],
   "source": [
    "dataset = readInput(\"mincut_dataset/input_random_1_6.txt\")\n",
    "k = 1\n",
    "graph = Graph()\n",
    "graph.buildGraph()\n",
    "#print(graph.n_nodes, graph.n_edges)\n",
    "result = karger(graph, k)"
   ],
   "metadata": {
    "collapsed": false,
    "pycharm": {
     "name": "#%%\n"
    }
   }
  }
 ],
 "metadata": {
  "kernelspec": {
   "name": "pycharm-6c910683",
   "language": "python",
   "display_name": "PyCharm (Homework1)"
  },
  "language_info": {
   "codemirror_mode": {
    "name": "ipython",
    "version": 2
   },
   "file_extension": ".py",
   "mimetype": "text/x-python",
   "name": "python",
   "nbconvert_exporter": "python",
   "pygments_lexer": "ipython2",
   "version": "2.7.17-final"
  },
  "colab": {
   "name": "hm2.ipynb",
   "provenance": [],
   "toc_visible": true
  }
 },
 "nbformat": 4,
 "nbformat_minor": 0
}