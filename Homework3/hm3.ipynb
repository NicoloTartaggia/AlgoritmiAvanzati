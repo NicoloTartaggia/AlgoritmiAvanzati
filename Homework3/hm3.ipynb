{
  "nbformat": 4,
  "nbformat_minor": 0,
  "metadata": {
    "kernelspec": {
      "name": "pycharm-6c910683",
      "language": "python",
      "display_name": "PyCharm (Homework1)"
    },
    "language_info": {
      "codemirror_mode": {
        "name": "ipython",
        "version": 2
      },
      "file_extension": ".py",
      "mimetype": "text/x-python",
      "name": "python",
      "nbconvert_exporter": "python",
      "pygments_lexer": "ipython2",
      "version": "2.7.17-final"
    },
    "colab": {
      "name": "hm3_temp (1).ipynb",
      "provenance": [],
      "toc_visible": true,
      "include_colab_link": true
    }
  },
  "cells": [
    {
      "cell_type": "markdown",
      "metadata": {
        "id": "view-in-github",
        "colab_type": "text"
      },
      "source": [
        "<a href=\"https://colab.research.google.com/github/cipz/AlgoritmiAvanzati/blob/master/Homework3/hm3.ipynb\" target=\"_parent\"><img src=\"https://colab.research.google.com/assets/colab-badge.svg\" alt=\"Open In Colab\"/></a>"
      ]
    },
    {
      "cell_type": "markdown",
      "metadata": {
        "collapsed": false,
        "pycharm": {
          "name": "#%% md\n"
        },
        "id": "Jh_pL63vSxXW",
        "colab_type": "text"
      },
      "source": [
        "# Karger algorithm"
      ]
    },
    {
      "cell_type": "code",
      "metadata": {
        "id": "5dc_dnm81EHb",
        "colab_type": "code",
        "colab": {
          "base_uri": "https://localhost:8080/",
          "height": 34
        },
        "outputId": "dcc6ca3a-df16-4bd1-b97f-b15348bce174"
      },
      "source": [
        "import copy\n",
        "import sys\n",
        "import time\n",
        "import pandas as pd\n",
        "import random\n",
        "import math\n",
        "from collections import defaultdict"
      ],
      "execution_count": 36,
      "outputs": [
        {
          "output_type": "stream",
          "text": [
            "time: 1.43 ms\n"
          ],
          "name": "stdout"
        }
      ]
    },
    {
      "cell_type": "code",
      "metadata": {
        "pycharm": {
          "name": "#%%\n"
        },
        "id": "ie0dx5rbSxXY",
        "colab_type": "code",
        "colab": {
          "base_uri": "https://localhost:8080/",
          "height": 34
        },
        "outputId": "5a806eb7-2b47-48be-aa3a-7de7071fcdfa"
      },
      "source": [
        "class Graph:\n",
        "    def __init__(self):\n",
        "        self.n_nodes, self.n_edges = 0, 0 # number of nodes, edges\n",
        "        self.nodes = defaultdict() # adjacency lists\n",
        "        self.edges = [] # list of edges\n",
        "\n",
        "    def addEdge(self, v1:int, v2:int):\n",
        "        self.nodes[v1].append(v2)\n",
        "        if (v2, v1) not in (self.edges):\n",
        "          self.edges.append((v1, v2))\n",
        "          self.n_edges += 1\n",
        "\n",
        "    def buildGraph(self, data):\n",
        "        self.n_nodes = len(data)\n",
        "        for i in range (1, len(data) + 1):\n",
        "          self.nodes[i] = []\n",
        "        for v in data:\n",
        "          for i in range (1, len(v)):\n",
        "            self.addEdge(v[0], v[i])\n",
        "                "
      ],
      "execution_count": 37,
      "outputs": [
        {
          "output_type": "stream",
          "text": [
            "time: 13.4 ms\n"
          ],
          "name": "stdout"
        }
      ]
    },
    {
      "cell_type": "markdown",
      "metadata": {
        "collapsed": false,
        "pycharm": {
          "name": "#%% md\n"
        },
        "id": "W9jDeReaSxXc",
        "colab_type": "text"
      },
      "source": [
        "## Reading the input"
      ]
    },
    {
      "cell_type": "code",
      "metadata": {
        "pycharm": {
          "name": "#%%\n"
        },
        "id": "_TRv-EenSxXd",
        "colab_type": "code",
        "colab": {
          "base_uri": "https://localhost:8080/",
          "height": 34
        },
        "outputId": "85879f12-5381-419e-92bd-e8ca209d0491"
      },
      "source": [
        "def readInput(path: str):\n",
        "    \"\"\"\n",
        "    :param path: path to the dataset\n",
        "    :return: input dataset\n",
        "    \"\"\"\n",
        "    lines = open(path, \"r\").read().split(\"\\n\")\n",
        "    input = []\n",
        "    for line in range(len(lines)-1):\n",
        "        input.append(list(map(int, lines[line].split()))) # transform list of strings to list of integers\n",
        "\n",
        "    return input"
      ],
      "execution_count": 38,
      "outputs": [
        {
          "output_type": "stream",
          "text": [
            "time: 4.28 ms\n"
          ],
          "name": "stdout"
        }
      ]
    },
    {
      "cell_type": "markdown",
      "metadata": {
        "collapsed": false,
        "pycharm": {
          "name": "#%% md\n"
        },
        "id": "dVkseWSrO91N",
        "colab_type": "text"
      },
      "source": [
        "## Deep copy"
      ]
    },
    {
      "cell_type": "code",
      "metadata": {
        "pycharm": {
          "name": "#%%\n"
        },
        "id": "ma8ImPXFO91O",
        "colab_type": "code",
        "colab": {
          "base_uri": "https://localhost:8080/",
          "height": 34
        },
        "outputId": "6b7fe447-3e23-4ce1-9f91-57fb4ddd635a"
      },
      "source": [
        "def graphCopy(graph: Graph):\n",
        "    \"\"\"\n",
        "    :param graph: graph object to copy\n",
        "    :return: deep copy of the input graph\n",
        "    \"\"\"\n",
        "    newGraph = Graph()\n",
        "    newGraph.n_nodes, newGraph.n_edges = graph.n_nodes, graph.n_edges\n",
        "    newGraph.nodes = copy.deepcopy(graph.nodes)\n",
        "    newGraph.edges = copy.deepcopy(graph.edges)\n",
        "    return newGraph"
      ],
      "execution_count": 39,
      "outputs": [
        {
          "output_type": "stream",
          "text": [
            "time: 3.62 ms\n"
          ],
          "name": "stdout"
        }
      ]
    },
    {
      "cell_type": "markdown",
      "metadata": {
        "collapsed": false,
        "pycharm": {
          "name": "#%% md\n"
        },
        "id": "iNNTJTppSxXg",
        "colab_type": "text"
      },
      "source": [
        "## Karger implementation"
      ]
    },
    {
      "cell_type": "code",
      "metadata": {
        "pycharm": {
          "name": "#%%\n"
        },
        "id": "v54GB2AVSxXh",
        "colab_type": "code",
        "colab": {
          "base_uri": "https://localhost:8080/",
          "height": 34
        },
        "outputId": "65b44abd-dfd0-47d3-c380-c4d667e87a98"
      },
      "source": [
        "def fullContraction(graph):\n",
        "    \"\"\"\n",
        "    :param graph: graph object\n",
        "    :return: minimum cut value\n",
        "    \"\"\"\n",
        "    while graph.n_nodes > 2:\n",
        "\n",
        "        e = graph.edges[random.randrange(1, graph.n_edges)] # select a random edge \n",
        "\n",
        "        # Contraction\n",
        "        id = \"Z_\" + str(e[0]) + str(e[1]) # build a new node\n",
        "        graph.nodes[id] = [] # initialize adjacency list\n",
        "\n",
        "        del_edges = 0\n",
        "        delete_list = []\n",
        "        \n",
        "        for i in range(0, len(graph.edges)): # select the indexes of the edges to remove\n",
        "          if graph.edges[i][0] == e[0] or graph.edges[i][0] == e[1] or graph.edges[i][1] == e[0] or graph.edges[i][1] == e[1]: # delete all incident edges of e\n",
        "            delete_list.append(i)\n",
        "            del_edges += 1\n",
        "\n",
        "        cont = 0\n",
        "        for i in delete_list: \n",
        "          graph.edges.pop(i - cont)\n",
        "          cont += 1\n",
        "        \n",
        "        # update adjacency lists\n",
        "        add_edges = 0\n",
        "        for v in graph.nodes[e[0]]:\n",
        "          if v != e[1]:\n",
        "            graph.nodes[id].append(v)\n",
        "            graph.edges.append((id, v))\n",
        "            graph.n_edges += 1\n",
        "            graph.nodes[v].remove(e[0])\n",
        "            graph.nodes[v].append(id)\n",
        "\n",
        "        for v in graph.nodes[e[1]]:\n",
        "          if v != e[0]:\n",
        "            graph.nodes[id].append(v)\n",
        "            graph.edges.append((id, v))\n",
        "            add_edges += 1\n",
        "            graph.nodes[v].append(id)\n",
        "            graph.nodes[v].remove(e[1])        \n",
        "\n",
        "        graph.nodes[e[0]] = []\n",
        "        graph.nodes[e[1]] = []\n",
        "\n",
        "        graph.n_nodes -= 1 # update the number of nodes\n",
        "        graph.n_edges -= (del_edges - add_edges) # update the number of edges\n",
        "\n",
        "    return graph.n_edges\n",
        "\n",
        "def karger(graphs, max_time, exact_result):\n",
        "    \"\"\"\n",
        "    :param graphs: list of the same graph object\n",
        "    :param max_time: maximum computation time\n",
        "    :param exact_result: exact solution\n",
        "    :return: minumum cut value, mean of all full contraction operation and the discovery time\n",
        "    \"\"\"\n",
        "    min = math.inf\n",
        "    discovery_time = 0 # if the discovery time is 0 after the execution, the exact value is not found\n",
        "    starting_discovery_time = time.time()\n",
        "    contraction_count = 0\n",
        "    full_contractions_time = 0\n",
        "    for g in graphs:\n",
        "      if time.time() > max_time: # check the execution time limit\n",
        "        mean_full_contraction_time = full_contractions_time / contraction_count # compute the average full contraction time\n",
        "        return min, '%.5f'%mean_full_contraction_time, '%.5f'%discovery_time\n",
        "      else:\n",
        "        contraction_count += 1\n",
        "        start_contraction_time = time.time()\n",
        "        t = fullContraction(g) # execute full contraction\n",
        "        full_contractions_time += (time.time() - start_contraction_time)\n",
        "        if t < min: # check if the result is better of the current result\n",
        "           min = t\n",
        "           if min == exact_result: # check if the result is equal to the exact result\n",
        "             discovery_time = time.time() - starting_discovery_time\n",
        "    mean_full_contraction_time = full_contractions_time / contraction_count # compute the average full contraction time\n",
        "    return min, '%.5f'%mean_full_contraction_time, '%.5f'%discovery_time"
      ],
      "execution_count": 40,
      "outputs": [
        {
          "output_type": "stream",
          "text": [
            "time: 66.4 ms\n"
          ],
          "name": "stdout"
        }
      ]
    },
    {
      "cell_type": "markdown",
      "metadata": {
        "id": "RWJdGKCpj1cu",
        "colab_type": "text"
      },
      "source": [
        "# **Main**"
      ]
    },
    {
      "cell_type": "code",
      "metadata": {
        "id": "sYqyWIh7j9B2",
        "colab_type": "code",
        "colab": {
          "base_uri": "https://localhost:8080/",
          "height": 34
        },
        "outputId": "63d36099-a09c-4260-bae2-e1655751a0b3"
      },
      "source": [
        "def execute_alg(dataset_name):\n",
        "    import time\n",
        "    dataset = readInput(path + dataset_name)\n",
        "\n",
        "    print()\n",
        "    print(\"Executing algorithm on {} dataset file\".format(dataset_name))\n",
        "\n",
        "    graph = Graph()\n",
        "    graph.buildGraph(dataset)\n",
        "\n",
        "    k = int((graph.n_nodes**2 / 2) * math.log(graph.n_nodes)) # compute k value to obtain probability of error <= 1/n\n",
        "    if k > 10000: \n",
        "      k = 10000\n",
        "    random.seed(random.randrange(1, 1000))\n",
        "    graph_set = []\n",
        "    for i in range(0, k):\n",
        "      graph_set.append(graphCopy(graph))\n",
        "\n",
        "    starting_time = time.time()\n",
        "    max_time = 60 # max computation time 60 sec \n",
        "    result, mean_full_contraction_time, discovery_time = karger(graph_set, starting_time + max_time, inputs[dataset_name])\n",
        "\n",
        "    time = '%.5f'%(time.time() - starting_time)\n",
        "    error = '%.2f'%(((result - inputs[dataset_name]) / inputs[dataset_name]*100))\n",
        "    \n",
        "    print(\"Solution found: {}\".format(result))\n",
        "    print(\"Time spent: \\t{}\".format(time))\n",
        "    print(\"Mean FC time: \\t{}\".format(mean_full_contraction_time))\n",
        "    print(\"Discovery time: \\t{}\".format(discovery_time))\n",
        "    print(\"Error %: \\t{}\".format(error))\n",
        "    print()\n",
        "    return result, time, mean_full_contraction_time, discovery_time, error"
      ],
      "execution_count": 41,
      "outputs": [
        {
          "output_type": "stream",
          "text": [
            "time: 16.1 ms\n"
          ],
          "name": "stdout"
        }
      ]
    },
    {
      "cell_type": "code",
      "metadata": {
        "id": "AUBwFn_vlein",
        "colab_type": "code",
        "colab": {}
      },
      "source": [
        "path = \"mincut_dataset/\"\n",
        "inputs = {\n",
        "    \"input_random_1_6.txt\": 2,\n",
        "    \"input_random_2_6.txt\": 1,\n",
        "    \"input_random_3_6.txt\": 3,\n",
        "    \"input_random_4_6.txt\": 4,\n",
        "    \"input_random_5_10.txt\": 4,\n",
        "    \"input_random_6_10.txt\": 3,\n",
        "    \"input_random_7_10.txt\": 2,\n",
        "    \"input_random_8_10.txt\": 1,\n",
        "    \"input_random_9_25.txt\": 7,\n",
        "    \"input_random_10_25.txt\": 6,\n",
        "    \"input_random_11_25.txt\": 8,\n",
        "    \"input_random_12_25.txt\": 9,\n",
        "    \"input_random_13_50.txt\": 15,\n",
        "    \"input_random_14_50.txt\": 16,\n",
        "    \"input_random_15_50.txt\": 14,\n",
        "    \"input_random_16_50.txt\": 10,\n",
        "    \"input_random_17_75.txt\": 19,\n",
        "    \"input_random_18_75.txt\": 15,\n",
        "    \"input_random_19_75.txt\": 18,\n",
        "    \"input_random_20_75.txt\": 16,\n",
        "    \"input_random_21_100.txt\": 22,\n",
        "    \"input_random_22_100.txt\": 23,\n",
        "    \"input_random_23_100.txt\": 19,\n",
        "    \"input_random_24_100.txt\": 24,\n",
        "    \"input_random_25_125.txt\": 34,\n",
        "    \"input_random_26_125.txt\": 29,\n",
        "    \"input_random_27_125.txt\": 36,\n",
        "    \"input_random_28_125.txt\": 31,\n",
        "    \"input_random_29_150.txt\": 37,\n",
        "    \"input_random_30_150.txt\": 35,\n",
        "    \"input_random_31_150.txt\": 41,\n",
        "    \"input_random_32_150.txt\": 39,\n",
        "    \"input_random_33_175.txt\": 42,\n",
        "    \"input_random_34_175.txt\": 45,\n",
        "    \"input_random_35_175.txt\": 53,\n",
        "    \"input_random_36_175.txt\": 43,\n",
        "    \"input_random_37_200.txt\": 54,\n",
        "    \"input_random_38_200.txt\": 52,\n",
        "    \"input_random_39_200.txt\": 51,\n",
        "    \"input_random_40_200.txt\": 61\n",
        "}\n",
        "\n",
        "res = []\n",
        "for dataset_name in inputs.keys():\n",
        "  res.append(execute_alg(dataset_name))"
      ],
      "execution_count": null,
      "outputs": []
    },
    {
      "cell_type": "code",
      "metadata": {
        "id": "jN9WrbNoz8L-",
        "colab_type": "code",
        "colab": {}
      },
      "source": [
        "header = pd.MultiIndex.from_product([['Karger'], ['Soluzione', 'Tempo(s)', 'Tempo Full Contraction(s)', 'Discovery time(s)', 'Errore(%)']], names=['','Istanza'])\n",
        "table_properties = {'font-size': '10pt','border-color': 'black','border-style' :'solid' ,'border-width': '1px','padding': '5px','text-align': 'center'}\n",
        "header_properties = [{'selector': 'th', 'props': [('font-size', '10pt'),('padding-top', '5px'),('padding-bottom', '5px'),('padding-left', '10px'),('padding-right', '10px'),('border-color', 'black'),('border-style' ,'solid') ,('border-width', '1px')]}]\n",
        "\n",
        "df = pd.DataFrame(res, index=input.keys(), columns=header).style.set_properties(**table_properties).set_table_styles(header_properties)\n",
        "df"
      ],
      "execution_count": null,
      "outputs": []
    },
    {
      "cell_type": "code",
      "metadata": {
        "id": "f584mK7-9RR5",
        "colab_type": "code",
        "colab": {}
      },
      "source": [
        "import matplotlib.pylab as plt\n",
        "exec_times = []\n",
        "mean_fc_times = []\n",
        "discovery_times = []\n",
        "errors = []\n",
        "for r in res:\n",
        "  exec_times.append(float(r[1]))\n",
        "  mean_fc_times.append(float(r[2]))\n",
        "  discovery_times.append(float(r[3]))\n",
        "  errors.append(float(r[4]))\n",
        "\n",
        "fig1, ax1 = plt.subplots(nrows=1, ncols=1)\n",
        "fig2, ax2 = plt.subplots(nrows=1, ncols=1)\n",
        "fig3, ax3 = plt.subplots(nrows=1, ncols=1)\n",
        "fig4, ax4 = plt.subplots(nrows=1, ncols=1)\n",
        "\n",
        "fig1.set_figwidth(24)\n",
        "fig1.set_figheight(8)\n",
        "fig2.set_figwidth(24)\n",
        "fig2.set_figheight(8)\n",
        "fig3.set_figwidth(24)\n",
        "fig3.set_figheight(8)\n",
        "fig4.set_figwidth(24)\n",
        "fig4.set_figheight(8)\n",
        "\n",
        "ax1.plot(list(input.keys()), exec_times)\n",
        "ax1.scatter(list(input.keys()), exec_times)\n",
        "ax1.set_xticklabels(list(input.keys()),rotation=70)\n",
        "ax1.set_title(\"Execution time(s) Comparison\")\n",
        "ax1.tick_params(axis='x', colors='white')\n",
        "ax1.tick_params(axis='y', colors='white')\n",
        "ax1.title.set_color('white')\n",
        "ax1.set_yscale(\"log\")\n",
        "fig1.show()\n",
        "\n",
        "ax2.plot(list(input.keys()), mean_fc_times)\n",
        "ax2.scatter(list(input.keys()), mean_fc_times)\n",
        "ax2.set_xticklabels(list(input.keys()),rotation=70)\n",
        "ax2.set_title(\"Mean FC time(s) Comparison\")\n",
        "ax2.tick_params(axis='x', colors='white')\n",
        "ax2.tick_params(axis='y', colors='white')\n",
        "ax2.title.set_color('white')\n",
        "ax2.set_yscale(\"log\")\n",
        "fig2.show()\n",
        "\n",
        "ax3.plot(list(input.keys()), discovery_times)\n",
        "ax3.scatter(list(input.keys()), discovery_times)\n",
        "ax3.set_xticklabels(list(input.keys()),rotation=70)\n",
        "ax3.set_title(\"Discovery time(s) Comparison\")\n",
        "ax3.tick_params(axis='x', colors='white')\n",
        "ax3.tick_params(axis='y', colors='white')\n",
        "ax3.title.set_color('white')\n",
        "ax3.set_yscale(\"log\")\n",
        "fig3.show()\n",
        "\n",
        "ax4.plot(list(input.keys()), errors)\n",
        "ax4.scatter(list(input.keys()), errors)\n",
        "ax4.set_xticklabels(list(input.keys()),rotation=70)\n",
        "ax4.set_title(\"Error(%) Comparison\")\n",
        "ax4.tick_params(axis='x', colors='white')\n",
        "ax4.tick_params(axis='y', colors='white')\n",
        "ax4.title.set_color('white')\n",
        "fig4.show()"
      ],
      "execution_count": null,
      "outputs": []
    }
  ]
}