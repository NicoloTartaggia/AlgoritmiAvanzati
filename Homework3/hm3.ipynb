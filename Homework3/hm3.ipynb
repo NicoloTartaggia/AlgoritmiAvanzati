{
 "cells": [
  {
   "cell_type": "markdown",
   "source": [
    "# Karger algorithm"
   ],
   "metadata": {
    "collapsed": false,
    "pycharm": {
     "name": "#%% md\n"
    }
   }
  },
  {
   "cell_type": "markdown",
   "source": [
    "## Support objects"
   ],
   "metadata": {
    "collapsed": false,
    "pycharm": {
     "name": "#%% md\n"
    }
   }
  },
  {
   "cell_type": "code",
   "execution_count": 401,
   "outputs": [],
   "source": [
    "class Node:\n",
    "    def __init__(self, tag: int):\n",
    "        self.tag = tag\n",
    "        self.adjacencyList = []\n",
    "\n",
    "class Graph:\n",
    "    def __init__(self):\n",
    "        self.nodes = defaultdict(Node)\n",
    "\n",
    "    def createNodes(self, nums: int):\n",
    "        for i in range(1, nums+1):\n",
    "            self.nodes[i] = Node(i)\n",
    "\n",
    "    def addNode(self, tag:int, adjTag:int):\n",
    "        self.nodes[tag].adjacencyList.append(self.nodes[adjTag])\n",
    "        self.nodes[adjTag].adjacencyList.append(self.nodes[tag]) # Graph is undirected\n",
    "\n",
    "    def buildGraph(self):\n",
    "        self.createNodes(len(dataset))\n",
    "        for v in dataset:\n",
    "            for i in range (1, len(v)):\n",
    "                self.addNode(v[0], v[i])"
   ],
   "metadata": {
    "collapsed": false,
    "pycharm": {
     "name": "#%%\n"
    }
   }
  },
  {
   "cell_type": "markdown",
   "source": [
    "## Reading the input"
   ],
   "metadata": {
    "collapsed": false,
    "pycharm": {
     "name": "#%% md\n"
    }
   }
  },
  {
   "cell_type": "code",
   "execution_count": 402,
   "outputs": [],
   "source": [
    "from collections import defaultdict\n",
    "def readInput(path: str):\n",
    "    lines = open(path, \"r\").read().split(\"\\n\")\n",
    "    input = []\n",
    "    for line in range(len(lines)-1):\n",
    "        input.append(list(map(int, lines[line].split()))) # Transform list of strings to list of integers\n",
    "\n",
    "    return input"
   ],
   "metadata": {
    "collapsed": false,
    "pycharm": {
     "name": "#%%\n"
    }
   }
  },
  {
   "cell_type": "markdown",
   "source": [
    "## Karger implementation"
   ],
   "metadata": {
    "collapsed": false,
    "pycharm": {
     "name": "#%% md\n"
    }
   }
  },
  {
   "cell_type": "code",
   "execution_count": 403,
   "outputs": [],
   "source": [
    "import random\n",
    "def karger(graph):\n",
    "    # Select two linked nodes (arch)\n",
    "    n1 = graph.nodes[random.choice(range(1,len(graph.nodes)+1))]\n",
    "    n2 = n1.adjacencyList[random.choice(range(len(n1.adjacencyList)))]\n",
    "    print(n1.tag,n2.tag)\n",
    "    # Contraction"
   ],
   "metadata": {
    "collapsed": false,
    "pycharm": {
     "name": "#%%\n"
    }
   }
  },
  {
   "cell_type": "code",
   "execution_count": 404,
   "outputs": [
    {
     "name": "stdout",
     "output_type": "stream",
     "text": [
      "6 5\n"
     ]
    }
   ],
   "source": [
    "dataset = readInput(\"mincut_dataset/input_random_1_6.txt\")\n",
    "graph = Graph()\n",
    "graph.buildGraph()\n",
    "result = karger(graph)"
   ],
   "metadata": {
    "collapsed": false,
    "pycharm": {
     "name": "#%%\n"
    }
   }
  }
 ],
 "metadata": {
  "kernelspec": {
   "name": "pycharm-6c910683",
   "language": "python",
   "display_name": "PyCharm (Homework1)"
  },
  "language_info": {
   "codemirror_mode": {
    "name": "ipython",
    "version": 2
   },
   "file_extension": ".py",
   "mimetype": "text/x-python",
   "name": "python",
   "nbconvert_exporter": "python",
   "pygments_lexer": "ipython2",
   "version": "2.7.17-final"
  },
  "colab": {
   "name": "hm2.ipynb",
   "provenance": [],
   "toc_visible": true
  }
 },
 "nbformat": 4,
 "nbformat_minor": 0
}