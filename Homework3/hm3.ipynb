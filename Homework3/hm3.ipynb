{
 "cells": [
  {
   "cell_type": "markdown",
   "source": [
    "# Karger algorithm"
   ],
   "metadata": {
    "collapsed": false,
    "pycharm": {
     "name": "#%% md\n"
    }
   }
  },
  {
   "cell_type": "markdown",
   "source": [
    "## Support objects"
   ],
   "metadata": {
    "collapsed": false,
    "pycharm": {
     "name": "#%% md\n"
    }
   }
  },
  {
   "cell_type": "code",
   "execution_count": 6,
   "outputs": [],
   "source": [
    "class Node:\n",
    "    def __init__(self,  isContract, tag = -1,):\n",
    "        self.tag = tag\n",
    "        self.adjacencyList = []\n",
    "        self.isContract = isContract\n",
    "\n",
    "class Graph:\n",
    "    def __init__(self):\n",
    "        self.n_nodes, self.n_edges = 0, 0\n",
    "        self.nodes = defaultdict(Node)\n",
    "\n",
    "    def createNodes(self, nums: int):\n",
    "        for i in range(1, nums+1):\n",
    "            self.nodes[i] = Node(False, i)\n",
    "            self.n_nodes += 1\n",
    "\n",
    "    def addNode(self, tag:int, adjTag:int):\n",
    "        self.nodes[tag].adjacencyList.append(self.nodes[adjTag])\n",
    "        #self.nodes[adjTag].adjacencyList.append(self.nodes[tag]) # Graph is undirected\n",
    "        if tag <= adjTag: self.n_edges += 1\n",
    "\n",
    "    def buildGraph(self):\n",
    "        self.createNodes(len(dataset))\n",
    "        for v in dataset:\n",
    "            for i in range (1, len(v)):\n",
    "                self.addNode(v[0], v[i])"
   ],
   "metadata": {
    "collapsed": false,
    "pycharm": {
     "name": "#%%\n"
    }
   }
  },
  {
   "cell_type": "markdown",
   "source": [
    "## Reading the input"
   ],
   "metadata": {
    "collapsed": false,
    "pycharm": {
     "name": "#%% md\n"
    }
   }
  },
  {
   "cell_type": "code",
   "execution_count": 7,
   "outputs": [],
   "source": [
    "from collections import defaultdict\n",
    "def readInput(path: str):\n",
    "    lines = open(path, \"r\").read().split(\"\\n\")\n",
    "    input = []\n",
    "    for line in range(len(lines)-1):\n",
    "        input.append(list(map(int, lines[line].split()))) # Transform list of strings to list of integers\n",
    "\n",
    "    return input\n",
    "\n",
    "def readOutput(path: str):\n",
    "    return open(path, \"r\").read().split(\"\\n\")[0]"
   ],
   "metadata": {
    "collapsed": false,
    "pycharm": {
     "name": "#%%\n"
    }
   }
  },
  {
   "cell_type": "markdown",
   "source": [
    "## Karger implementation"
   ],
   "metadata": {
    "collapsed": false,
    "pycharm": {
     "name": "#%% md\n"
    }
   }
  },
  {
   "cell_type": "code",
   "execution_count": 8,
   "outputs": [],
   "source": [
    "import random\n",
    "import math\n",
    "import copy\n",
    "\n",
    "def makeCopy(g: Graph):\n",
    "        graph = Graph()\n",
    "        graph.nodes = copy.deepcopy(g.nodes)\n",
    "        graph.n_edges, graph.n_nodes = g.n_edges, g.n_nodes\n",
    "        return graph\n",
    "\n",
    "def fullContraction(g):\n",
    "    graph = makeCopy(g)\n",
    "    for i in range(graph.n_nodes-2):\n",
    "        print(\"iteration =\", i)\n",
    "        print(\"n_nodes =\", graph.n_nodes)\n",
    "        print(\"n_edges =\", graph.n_edges)\n",
    "\n",
    "        # Select two linked nodes (arch)\n",
    "        print(\"len(nodes) =\", len(graph.nodes))\n",
    "        n1 = random.choice([n for n in graph.nodes.values() if not n.isContract])\n",
    "        n1.isContract = True\n",
    "\n",
    "        print(\"selected node = \", n1.tag)\n",
    "        n2 = random.choice([n for n in n1.adjacencyList if not n.isContract])\n",
    "        n2.isContract = True\n",
    "\n",
    "        print(n1.tag,n2.tag, \"\\n\")\n",
    "\n",
    "        # Contraction\n",
    "        id = \"Z_\"+str(n1.tag)+str(n2.tag)\n",
    "        graph.nodes[id] = Node(False)\n",
    "        available_nodes = [n for n in graph.nodes.values() if not n.isContract and n != n1 and n != n2]\n",
    "        \n",
    "        for n in available_nodes:\n",
    "            if n1 in n.adjacencyList or n2 in n.adjacencyList:\n",
    "                n.adjacencyList.append(graph.nodes[id])\n",
    "                graph.nodes[id].adjacencyList.append(n)\n",
    "        \n",
    "        graph.n_nodes -= 1\n",
    "        graph.n_edges -= 1  # Need to compute molteplicity\n",
    "\n",
    "        del n1\n",
    "        del n2\n",
    "\n",
    "    return graph.n_edges, graph\n",
    "\n",
    "def karger(graph, k):\n",
    "    min = math.inf\n",
    "    for i in range(k):\n",
    "        print(\"Round {} out of {}\\n\".format(i+1, k))\n",
    "        t, g = fullContraction(graph)\n",
    "        if t < min: min = t\n",
    "        print(\"- \"*10, \"\\n\")\n",
    "    return min, g"
   ],
   "metadata": {
    "collapsed": false,
    "pycharm": {
     "name": "#%%\n"
    }
   }
  },
  {
   "cell_type": "code",
   "execution_count": 9,
   "metadata": {
    "tags": []
   },
   "outputs": [
    {
     "output_type": "stream",
     "name": "stdout",
     "text": "Round 1 out of 10\n\niteration = 0\nn_nodes = 6\nn_edges = 9\nlen(nodes) = 6\nselected node =  4\n4 2 \n\niteration = 1\nn_nodes = 5\nn_edges = 8\nlen(nodes) = 7\nselected node =  5\n5 6 \n\niteration = 2\nn_nodes = 4\nn_edges = 7\nlen(nodes) = 8\nselected node =  -1\n-1 -1 \n\niteration = 3\nn_nodes = 3\nn_edges = 6\nlen(nodes) = 9\nselected node =  1\n1 3 \n\n- - - - - - - - - -  \n\nRound 2 out of 10\n\niteration = 0\nn_nodes = 6\nn_edges = 9\nlen(nodes) = 6\nselected node =  2\n2 5 \n\niteration = 1\nn_nodes = 5\nn_edges = 8\nlen(nodes) = 7\nselected node =  3\n3 1 \n\niteration = 2\nn_nodes = 4\nn_edges = 7\nlen(nodes) = 8\nselected node =  -1\n-1 -1 \n\niteration = 3\nn_nodes = 3\nn_edges = 6\nlen(nodes) = 9\nselected node =  4\n4 -1 \n\n- - - - - - - - - -  \n\nRound 3 out of 10\n\niteration = 0\nn_nodes = 6\nn_edges = 9\nlen(nodes) = 6\nselected node =  5\n5 6 \n\niteration = 1\nn_nodes = 5\nn_edges = 8\nlen(nodes) = 7\nselected node =  1\n1 4 \n\niteration = 2\nn_nodes = 4\nn_edges = 7\nlen(nodes) = 8\nselected node =  2\n2 -1 \n\niteration = 3\nn_nodes = 3\nn_edges = 6\nlen(nodes) = 9\nselected node =  -1\n-1 -1 \n\n- - - - - - - - - -  \n\nRound 4 out of 10\n\niteration = 0\nn_nodes = 6\nn_edges = 9\nlen(nodes) = 6\nselected node =  3\n3 1 \n\niteration = 1\nn_nodes = 5\nn_edges = 8\nlen(nodes) = 7\nselected node =  4\n4 2 \n\niteration = 2\nn_nodes = 4\nn_edges = 7\nlen(nodes) = 8\nselected node =  6\n6 -1 \n\niteration = 3\nn_nodes = 3\nn_edges = 6\nlen(nodes) = 9\nselected node =  5\n5 -1 \n\n- - - - - - - - - -  \n\nRound 5 out of 10\n\niteration = 0\nn_nodes = 6\nn_edges = 9\nlen(nodes) = 6\nselected node =  6\n6 5 \n\niteration = 1\nn_nodes = 5\nn_edges = 8\nlen(nodes) = 7\nselected node =  2\n2 -1 \n\niteration = 2\nn_nodes = 4\nn_edges = 7\nlen(nodes) = 8\nselected node =  -1\n-1 1 \n\niteration = 3\nn_nodes = 3\nn_edges = 6\nlen(nodes) = 9\nselected node =  -1\n-1 3 \n\n- - - - - - - - - -  \n\nRound 6 out of 10\n\niteration = 0\nn_nodes = 6\nn_edges = 9\nlen(nodes) = 6\nselected node =  5\n5 3 \n\niteration = 1\nn_nodes = 5\nn_edges = 8\nlen(nodes) = 7\nselected node =  -1\n-1 4 \n\niteration = 2\nn_nodes = 4\nn_edges = 7\nlen(nodes) = 8\nselected node =  2\n2 1 \n\niteration = 3\nn_nodes = 3\nn_edges = 6\nlen(nodes) = 9\nselected node =  6\n6 -1 \n\n- - - - - - - - - -  \n\nRound 7 out of 10\n\niteration = 0\nn_nodes = 6\nn_edges = 9\nlen(nodes) = 6\nselected node =  4\n4 5 \n\niteration = 1\nn_nodes = 5\nn_edges = 8\nlen(nodes) = 7\nselected node =  3\n3 1 \n\niteration = 2\nn_nodes = 4\nn_edges = 7\nlen(nodes) = 8\nselected node =  -1\n-1 6 \n\niteration = 3\nn_nodes = 3\nn_edges = 6\nlen(nodes) = 9\nselected node =  2\n2 -1 \n\n- - - - - - - - - -  \n\nRound 8 out of 10\n\niteration = 0\nn_nodes = 6\nn_edges = 9\nlen(nodes) = 6\nselected node =  5\n5 2 \n\niteration = 1\nn_nodes = 5\nn_edges = 8\nlen(nodes) = 7\nselected node =  -1\n-1 3 \n\niteration = 2\nn_nodes = 4\nn_edges = 7\nlen(nodes) = 8\nselected node =  6\n6 -1 \n\niteration = 3\nn_nodes = 3\nn_edges = 6\nlen(nodes) = 9\nselected node =  -1\n-1 4 \n\n- - - - - - - - - -  \n\nRound 9 out of 10\n\niteration = 0\nn_nodes = 6\nn_edges = 9\nlen(nodes) = 6\nselected node =  2\n2 6 \n\niteration = 1\nn_nodes = 5\nn_edges = 8\nlen(nodes) = 7\nselected node =  3\n3 5 \n\niteration = 2\nn_nodes = 4\nn_edges = 7\nlen(nodes) = 8\nselected node =  -1\n-1 4 \n\niteration = 3\nn_nodes = 3\nn_edges = 6\nlen(nodes) = 9\nselected node =  1\n1 -1 \n\n- - - - - - - - - -  \n\nRound 10 out of 10\n\niteration = 0\nn_nodes = 6\nn_edges = 9\nlen(nodes) = 6\nselected node =  3\n3 1 \n\niteration = 1\nn_nodes = 5\nn_edges = 8\nlen(nodes) = 7\nselected node =  -1\n-1 2 \n\niteration = 2\nn_nodes = 4\nn_edges = 7\nlen(nodes) = 8\nselected node =  5\n5 6 \n\niteration = 3\nn_nodes = 3\nn_edges = 6\nlen(nodes) = 9\nselected node =  4\n4 -1 \n\n- - - - - - - - - -  \n\nexpected result =  2\nfinal result =  5\n\n(1, <__main__.Node object at 0x7f8a2a790ba8>)\n(2, <__main__.Node object at 0x7f8a2a7aec18>)\n(3, <__main__.Node object at 0x7f8a2a7aed68>)\n(4, <__main__.Node object at 0x7f8a2a7aedd8>)\n(5, <__main__.Node object at 0x7f8a2a7aecc0>)\n(6, <__main__.Node object at 0x7f8a2a7aee48>)\n('Z_31', <__main__.Node object at 0x7f8a2a7aef60>)\n('Z_-12', <__main__.Node object at 0x7f8a2a7b3198>)\n('Z_56', <__main__.Node object at 0x7f8a2a790d68>)\n('Z_4-1', <__main__.Node object at 0x7f8a2a7a8128>)\n"
    }
   ],
   "source": [
    "dataset = readInput(\"mincut_dataset/input_random_1_6.txt\")\n",
    "expected_result = readOutput(\"mincut_dataset/output_random_1_6.txt\")\n",
    "k = 10\n",
    "graph = Graph()\n",
    "graph.buildGraph()\n",
    "\n",
    "#print(graph.n_nodes, graph.n_edges)\n",
    "result, g = karger(graph, k)\n",
    "print(\"expected result = \", expected_result)\n",
    "print(\"final result = \", result)\n",
    "print()\n",
    "for n in g.nodes.items():\n",
    "    print(n)"
   ]
  },
  {
   "cell_type": "code",
   "execution_count": 10,
   "outputs": [],
   "source": [
    "#files = os.listdir(\"mincut_dataset\")\n",
    "#for f in files:\n",
    "#\n",
    "#    dataset = readInput(\"mincut_dataset/\" + f)\n",
    "#    k = 5\n",
    "#    graph = Graph()\n",
    "#    graph.buildGraph()\n",
    "#\n",
    "#    print()    \n",
    "#    print(\"Executing karger on {} dataset file with k = {}\".format(f, k))\n",
    "#    print()\n",
    "#\n",
    "#    #print(graph.n_nodes, graph.n_edges)\n",
    "#    result, g = karger(graph, k)\n",
    "#    print(\"final result =\", result)\n",
    "#    for n in g.nodes.items():\n",
    "#        print(n)"
   ],
   "metadata": {
    "collapsed": false,
    "pycharm": {
     "name": "#%%\n"
    },
    "tags": []
   }
  }
 ],
 "metadata": {
  "kernelspec": {
   "name": "pycharm-34299201",
   "language": "python",
   "display_name": "PyCharm (Homework2)"
  },
  "language_info": {
   "codemirror_mode": {
    "name": "ipython",
    "version": 2
   },
   "file_extension": ".py",
   "mimetype": "text/x-python",
   "name": "python",
   "nbconvert_exporter": "python",
   "pygments_lexer": "ipython2",
   "version": "2.7.17-final"
  },
  "colab": {
   "name": "hm2.ipynb",
   "provenance": [],
   "toc_visible": true
  }
 },
 "nbformat": 4,
 "nbformat_minor": 0
}