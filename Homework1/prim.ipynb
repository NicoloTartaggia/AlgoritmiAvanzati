{
 "nbformat": 4,
 "nbformat_minor": 0,
 "metadata": {
  "colab": {
   "name": "colab-github-demo.ipynb",
   "provenance": [],
   "collapsed_sections": [],
   "include_colab_link": true
  },
  "kernelspec": {
   "name": "pycharm-6c910683",
   "language": "python",
   "display_name": "PyCharm (Homework1)"
  }
 },
 "cells": [
  {
   "cell_type": "markdown",
   "metadata": {
    "id": "view-in-github",
    "colab_type": "text"
   },
   "source": [
    "# Prim algorithm with heap data structure "
   ]
  },
  {
   "cell_type": "code",
   "metadata": {
    "colab_type": "text",
    "id": "-pVhOfzLx9us",
    "pycharm": {
     "name": "#%%\n"
    }
   },
   "source": [
    "import math\n",
    "import time\n",
    "from collections import defaultdict"
   ],
   "execution_count": 436,
   "outputs": []
  },
  {
   "cell_type": "markdown",
   "source": [
    "## Definition of Node and Graph objects for graph manipluation"
   ],
   "metadata": {
    "collapsed": false
   }
  },
  {
   "cell_type": "code",
   "metadata": {
    "colab_type": "text",
    "id": "K-NVg7RjyeTk",
    "pycharm": {
     "name": "#%%\n"
    }
   },
   "source": [
    "class Node:\n",
    "    def __init__(self, tag: int):\n",
    "        self.tag = tag\n",
    "        self.key = None\n",
    "        self.parent = None\n",
    "        self.isPresent = True\n",
    "        self.index = tag-1 # Track the index of the node in the heap instead of using list.index() method which is O(n)\n",
    "        self.adjacencyList = []\n",
    "\n",
    "    # For test\n",
    "    def print(self):\n",
    "        print(\"tag =\", self.tag, \"adjList=\", self.adjacencyList, \"key=\", self.key)\n",
    "\n",
    "class Graph:\n",
    "    def __init__(self):\n",
    "        self.nodes = defaultdict(Node)\n",
    "\n",
    "    def createNodes(self, nums: int):\n",
    "        for i in range(1, nums+1): # nums+1 in order to cover the last node\n",
    "            self.nodes[i] = Node(i)\n",
    "\n",
    "    def addNode(self, tag: int, adjTag: int, adjCost: int):\n",
    "        self.nodes[tag].adjacencyList.append([self.nodes[adjTag], adjCost])\n",
    "        self.nodes[adjTag].adjacencyList.append([self.nodes[tag], adjCost]) # Graph is undirected\n",
    "\n",
    "    def buildGraph(self, input):\n",
    "        lines = input.readlines()\n",
    "        self.createNodes(int(lines[0].split()[0])) # Extract number of vertexes and pass it to createNode\n",
    "        lines.pop(0) # Remove the first line of .txt input file\n",
    "        for line in lines:\n",
    "            info = list(map(int, line.split())) # Convert all the strings deriving from split to int\n",
    "            self.addNode(info[0], info[1], info[2])"
   ],
   "execution_count": 437,
   "outputs": []
  },
  {
   "cell_type": "markdown",
   "source": [
    "## MinHeap data structure implementation"
   ],
   "metadata": {
    "collapsed": false
   }
  },
  {
   "cell_type": "code",
   "execution_count": 438,
   "outputs": [],
   "source": [
    "# ArrayHeap object extends list\n",
    "class ArrayHeap(list):\n",
    "    def __init__(self, array):\n",
    "        super().__init__(array)\n",
    "        self.heapSize = len(array)\n",
    "\n",
    "class MinHeap:\n",
    "    def __init__(self, array: list, root: Node):\n",
    "        self.arrayHeap = ArrayHeap(array)\n",
    "        # Check if the root node is not the first\n",
    "        if self.arrayHeap[0] != self.arrayHeap[root.tag-1]: # reset the starting node and update all indexes\n",
    "            rootNode = self.arrayHeap[root.tag-1]\n",
    "            self.arrayHeap.remove(rootNode)\n",
    "            self.arrayHeap.insert(0,rootNode)\n",
    "            for i in range(0,self.arrayHeap.heapSize):\n",
    "                self.arrayHeap[i].index = i\n",
    "\n",
    "    # All the following methods work with zero based array. Hence, we need to handle separately odd and even indexes.\n",
    "    def parent(self, i: int):\n",
    "        if i%2 == 0: # even\n",
    "            return i//2 - 1\n",
    "        else:\n",
    "            return i//2\n",
    "    \n",
    "    def left(self, i):\n",
    "        return 2*i + 1\n",
    "    \n",
    "    def right(self, i):\n",
    "        return 2*i + 2\n",
    "    \n",
    "    # Execution time: O(lg n)\n",
    "    def minHeapify(self, i: int):\n",
    "        l = self.left(i)\n",
    "        r = self.right(i)\n",
    "        if l <= self.arrayHeap.heapSize-1 and self.arrayHeap[l].key < self.arrayHeap[i].key:\n",
    "            minimo = l\n",
    "        else:\n",
    "            minimo = i\n",
    "        if r <= self.arrayHeap.heapSize-1 and self.arrayHeap[r].key < self.arrayHeap[minimo].key:\n",
    "            minimo = r\n",
    "        if minimo != i:\n",
    "            self.arrayHeap[i].index, self.arrayHeap[minimo].index = minimo, i # Update indexes\n",
    "            self.arrayHeap[i], self.arrayHeap[minimo] = self.arrayHeap[minimo], self.arrayHeap[i]\n",
    "            self.minHeapify(minimo)\n",
    "\n",
    "    def bubbleUp(self, index: int):\n",
    "        parent = self.parent(index)\n",
    "        current = index\n",
    "        while current > 0 and self.arrayHeap[parent].key > self.arrayHeap[current].key:\n",
    "            self.arrayHeap[current].index, self.arrayHeap[parent].index = parent, current # Update indexes\n",
    "            self.arrayHeap[current], self.arrayHeap[parent] = self.arrayHeap[parent], self.arrayHeap[current]\n",
    "            current = parent\n",
    "            parent = self.parent(parent)\n",
    "\n",
    "    # Execution time: O(lg n)\n",
    "    # First we update the heap structure, then we remove the last element.\n",
    "    def extractMin(self):\n",
    "        if self.arrayHeap.heapSize < 0:\n",
    "            print(\"Error: extractMin underflow\")\n",
    "            return\n",
    "        else:\n",
    "            minimo = self.arrayHeap[0] # Save the minimum node\n",
    "            self.arrayHeap[0].isPresent = False # Set its flag to false\n",
    "            self.arrayHeap[0] = self.arrayHeap[self.arrayHeap.heapSize - 1] # Assign the first node the last one\n",
    "            self.arrayHeap[0].index = 0 # Update its index\n",
    "            self.arrayHeap.pop(self.arrayHeap.heapSize-1) # Pop the last node\n",
    "            self.arrayHeap.heapSize -= 1 # Decreasing heapsize\n",
    "            self.minHeapify(0) # Call minHeapify in order to move the new first node to the correct position\n",
    "\n",
    "            return minimo"
   ],
   "metadata": {
    "collapsed": false,
    "pycharm": {
     "name": "#%%\n"
    }
   }
  },
  {
   "cell_type": "markdown",
   "source": [
    "## Prim algorithm"
   ],
   "metadata": {
    "collapsed": false
   }
  },
  {
   "cell_type": "code",
   "execution_count": 439,
   "outputs": [],
   "source": [
    "def MSTPrim(g: Graph, r: Node):\n",
    "    start = time.time()\n",
    "    for node in g.nodes.values():\n",
    "        node.key = math.inf # Set key. Parent is already set through Node constructor.\n",
    "    r.key = 0\n",
    "    q = MinHeap(list(g.nodes.values()), r) # Pass also the root node in order to build the heap starting from it\n",
    "    while len(q.arrayHeap) is not 0:\n",
    "        u = q.extractMin()\n",
    "        for v in u.adjacencyList:\n",
    "            if v[0].isPresent and v[1] < v[0].key:\n",
    "                v[0].parent = u\n",
    "                v[0].key = v[1]\n",
    "                q.bubbleUp(v[0].index) # bubbleUp maintains the minheap condition\n",
    "    print(\"Start = node\", r.tag,\"\\nMSTPrim execution time =\", time.time() - start)"
   ],
   "metadata": {
    "collapsed": false,
    "pycharm": {
     "name": "#%%\n"
    }
   }
  },
  {
   "cell_type": "markdown",
   "source": [
    "## Main"
   ],
   "metadata": {
    "collapsed": false,
    "pycharm": {
     "name": "#%% md\n"
    }
   }
  },
  {
   "cell_type": "code",
   "execution_count": 440,
   "outputs": [
    {
     "name": "stdout",
     "output_type": "stream",
     "text": [
      "Start = node 1 \n",
      "MSTPrim execution time = 9.989738464355469e-05\n",
      "Program execution time = 0.005508899688720703\n",
      "Final cost = 29316 \n",
      "\n"
     ]
    }
   ],
   "source": [
    "start = time.time()\n",
    "startingNode = 1 # Root node tag\n",
    "result = Graph()\n",
    "result.buildGraph(open(\"dataset/input_random_01_10.txt\", \"r\"))\n",
    "MSTPrim(result, result.nodes.get(startingNode))\n",
    "print(\"Program execution time =\", time.time() - start)\n",
    "sum = 0\n",
    "for node in result.nodes.values():\n",
    "    sum += node.key\n",
    "print(\"Final cost =\",sum, \"\\n\")\n"
   ],
   "metadata": {
    "collapsed": false,
    "pycharm": {
     "name": "#%%\n"
    }
   }
  }
 ]
}