{
 "nbformat": 4,
 "nbformat_minor": 0,
 "metadata": {
  "colab": {
   "name": "colab-github-demo.ipynb",
   "provenance": [],
   "collapsed_sections": [],
   "include_colab_link": true
  },
  "kernelspec": {
   "name": "pycharm-6c910683",
   "language": "python",
   "display_name": "PyCharm (Homework1)"
  }
 },
 "cells": [
  {
   "cell_type": "markdown",
   "metadata": {
    "id": "view-in-github",
    "colab_type": "text"
   },
   "source": [
    "# Prim algorithm with heap data structure "
   ]
  },
  {
   "cell_type": "code",
   "metadata": {
    "colab_type": "text",
    "id": "-pVhOfzLx9us",
    "pycharm": {
     "name": "#%%\n"
    }
   },
   "source": [
    "import math\n",
    "import time\n",
    "from collections import defaultdict"
   ],
   "execution_count": 86,
   "outputs": []
  },
  {
   "cell_type": "markdown",
   "metadata": {
    "colab_type": "text",
    "id": "wKJ4bd5rt1wy"
   },
   "source": [
    "## MinHeap data structure implementation"
   ]
  },
  {
   "cell_type": "code",
   "metadata": {
    "colab_type": "text",
    "id": "K-NVg7RjyeTk",
    "pycharm": {
     "name": "#%%\n"
    }
   },
   "source": [
    "# ArrayHeap object extends list\n",
    "class ArrayHeap(list):\n",
    "    def __init__(self, array):\n",
    "        super().__init__(array)\n",
    "        self.heapSize = len(array)\n",
    "\n",
    "class MinHeap:\n",
    "    def __init__(self, array):\n",
    "        self.arrayHeap = ArrayHeap(array)\n",
    "    \n",
    "    # All the following methods work with zero based array. Hence, we need to handle separately odd and even indexes.\n",
    "    def parent(self, i):\n",
    "        if i%2 == 0: # even\n",
    "            return math.floor(i/2) - 1\n",
    "        else:\n",
    "            return math.floor(i/2)\n",
    "    \n",
    "    def left(self, i):\n",
    "        return 2*i + 1\n",
    "    \n",
    "    def right(self, i):\n",
    "        return 2*i + 2\n",
    "    \n",
    "    # Execution time: O(lg n)\n",
    "    def minHeapify(self, i):\n",
    "        l = self.left(i)\n",
    "        r = self.right(i)\n",
    "        if l <= self.arrayHeap.heapSize-1 and self.arrayHeap[l].key < self.arrayHeap[i].key:\n",
    "            minimo = l\n",
    "        else:\n",
    "            minimo = i\n",
    "        if r <= self.arrayHeap.heapSize-1 and self.arrayHeap[r].key < self.arrayHeap[minimo].key:\n",
    "            minimo = r\n",
    "        if minimo != i:\n",
    "            self.arrayHeap[i], self.arrayHeap[minimo] = self.arrayHeap[minimo], self.arrayHeap[i]\n",
    "            self.minHeapify(minimo)\n",
    "            \n",
    "    # Execution time: O(n)\n",
    "    def buildMinHeap(self):\n",
    "        for i in range(math.floor(len(self.arrayHeap)/2), -1, -1): #downto\n",
    "            self.minHeapify(i)\n",
    "\n",
    "    def bubbleUp(self, index):\n",
    "        parent = self.parent(index)\n",
    "        current = index\n",
    "        while current > 0 and self.arrayHeap[parent].key > self.arrayHeap[current].key:\n",
    "            self.arrayHeap[current], self.arrayHeap[parent] = self.arrayHeap[parent], self.arrayHeap[current]\n",
    "            current = parent\n",
    "            parent = self.parent(parent)\n",
    "\n",
    "    # Execution time: O(lg n)\n",
    "    # First we update the heap structure, then we remove the last element.\n",
    "    def extractMin(self):\n",
    "        if self.arrayHeap.heapSize < 0:\n",
    "            print(\"Error: extractMin underflow\")\n",
    "            return\n",
    "        else:\n",
    "            minimo = self.arrayHeap[0] # Save the minimum node\n",
    "            self.arrayHeap[0].isPresent = False # Set its flag to false\n",
    "            self.arrayHeap[0] = self.arrayHeap[self.arrayHeap.heapSize - 1] # Assign the first node the last one\n",
    "            self.arrayHeap.pop(self.arrayHeap.heapSize-1) # Pop the last node\n",
    "            self.arrayHeap.heapSize -= 1 # Decreasing heapsize\n",
    "            self.minHeapify(0) # Call minHeapify in order to move the new first node to the correct position\n",
    "\n",
    "            return minimo"
   ],
   "execution_count": 87,
   "outputs": []
  },
  {
   "cell_type": "markdown",
   "source": [
    "## Definition of Node and Graph objects for graph manipluation        "
   ],
   "metadata": {
    "collapsed": false,
    "pycharm": {
     "name": "#%% md\n"
    }
   }
  },
  {
   "cell_type": "code",
   "execution_count": 88,
   "outputs": [],
   "source": [
    "class Node:\n",
    "    def __init__(self, tag):\n",
    "        self.tag = tag\n",
    "        self.key = None\n",
    "        self.parent = None\n",
    "        self.isPresent = True\n",
    "        self.adjacencyList = []\n",
    "        \n",
    "    # For test \n",
    "    def print(self):\n",
    "        print(\"tag =\", self.tag, \"adjList=\", self.adjacencyList, \"key=\", self.key)\n",
    "\n",
    "class Graph:\n",
    "    def __init__(self):\n",
    "        self.nodes = defaultdict(Node)\n",
    "        \n",
    "    def createNodes(self, nums):\n",
    "        for i in range(1, nums+1): # nums+1 in order to cover the last node\n",
    "            self.nodes[i] = Node(i)\n",
    "\n",
    "    def addNode(self, tag, adjList):\n",
    "        adjTag = adjList[0]\n",
    "        adjCost = adjList[1]\n",
    "        self.nodes[tag].adjacencyList.append([self.nodes[adjTag], adjCost])\n",
    "        self.nodes[adjTag].adjacencyList.append([self.nodes[tag], adjCost]) # Graph is undirected\n",
    "\n",
    "    def buildGraph(self, input):\n",
    "        lines = input.readlines()\n",
    "        self.createNodes(int(lines[0].split()[0])) # Extract number of vertexes and pass it to createNode\n",
    "        lines.pop(0) # Remove the first line of .txt input file\n",
    "        for line in lines:\n",
    "            info = list(map(int, line.split())) # Convert all the strings deriving from split to int\n",
    "            self.addNode(info[0], [info[1], info[2]])"
   ],
   "metadata": {
    "collapsed": false,
    "pycharm": {
     "name": "#%%\n"
    }
   }
  },
  {
   "cell_type": "markdown",
   "source": [
    "## Prim algorithm"
   ],
   "metadata": {
    "collapsed": false
   }
  },
  {
   "cell_type": "code",
   "execution_count": 89,
   "outputs": [],
   "source": [
    "def MSTPrim(g, r):\n",
    "    for node in g.nodes.values():\n",
    "        node.key = math.inf # Set key. Parent is already set through Node constructor.\n",
    "    r.key = 0\n",
    "    q = MinHeap(list(g.nodes.values()))\n",
    "    q.buildMinHeap() # This function call is necessary in order to call MSTPrim with any root node\n",
    "    while len(q.arrayHeap) is not 0:\n",
    "        u = q.extractMin()\n",
    "        for v in u.adjacencyList:\n",
    "            if v[0].isPresent and v[1] < v[0].key:\n",
    "                v[0].parent = u\n",
    "                v[0].key = v[1]\n",
    "                q.bubbleUp(q.arrayHeap.index(v[0])) # bubbleUp maintains the minheap condition"
   ],
   "metadata": {
    "collapsed": false,
    "pycharm": {
     "name": "#%%\n"
    }
   }
  },
  {
   "cell_type": "markdown",
   "source": [
    "## Main"
   ],
   "metadata": {
    "collapsed": false,
    "pycharm": {
     "name": "#%% md\n"
    }
   }
  },
  {
   "cell_type": "code",
   "execution_count": 90,
   "outputs": [
    {
     "name": "stdout",
     "output_type": "stream",
     "text": [
      "partenza = nodo 1\n",
      "Execution time = 12.774907350540161\n"
     ]
    }
   ],
   "source": [
    "inp = open(\"dataset/input_random_01_10.txt\", \"r\")\n",
    "lines = inp.readlines()\n",
    "start = time.time()\n",
    "result = Graph()\n",
    "result.buildGraph(open(\"dataset/input_random_01_10.txt\", \"r\"))\n",
    "\n",
    "startingNode = 1 # Root node value\n",
    "MSTPrim(result, result.nodes.get(startingNode))\n",
    "print(\"partenza = nodo\", startingNode)\n",
    "print(\"Execution time =\", time.time() - start)\n",
    "sum = 0\n",
    "for node in result.nodes.values():\n",
    "    sum += node.key\n",
    "print(sum, \"\\n\")\n"
   ],
   "metadata": {
    "collapsed": false,
    "pycharm": {
     "name": "#%%\n"
    }
   }
  }
 ]
}