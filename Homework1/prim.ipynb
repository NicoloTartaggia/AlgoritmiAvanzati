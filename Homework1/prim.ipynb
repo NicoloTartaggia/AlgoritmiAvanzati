{
 "nbformat": 4,
 "nbformat_minor": 0,
 "metadata": {
  "colab": {
   "name": "colab-github-demo.ipynb",
   "provenance": [],
   "collapsed_sections": [],
   "include_colab_link": true
  },
  "kernelspec": {
   "name": "pycharm-6c910683",
   "language": "python",
   "display_name": "PyCharm (Homework1)"
  },
  "pycharm": {
   "stem_cell": {
    "cell_type": "raw",
    "source": [],
    "metadata": {
     "collapsed": false
    }
   }
  }
 },
 "cells": [
  {
   "cell_type": "markdown",
   "metadata": {
    "id": "view-in-github",
    "colab_type": "text"
   },
   "source": [
    "# Prim algorithm with heap data structure "
   ]
  },
  {
   "cell_type": "code",
   "metadata": {
    "colab_type": "text",
    "id": "-pVhOfzLx9us",
    "pycharm": {
     "name": "#%%\n",
     "is_executing": false
    }
   },
   "source": [
    "import math\n",
    "from collections import defaultdict"
   ],
   "execution_count": 376,
   "outputs": []
  },
  {
   "cell_type": "markdown",
   "metadata": {
    "colab_type": "text",
    "id": "wKJ4bd5rt1wy"
   },
   "source": [
    "## MinHeap data structure implementation"
   ]
  },
  {
   "cell_type": "code",
   "metadata": {
    "colab_type": "text",
    "id": "K-NVg7RjyeTk",
    "pycharm": {
     "name": "#%%\n",
     "is_executing": false
    }
   },
   "source": [
    "# ArrayHeap object extends list\n",
    "class ArrayHeap(list):\n",
    "    def __init__(self, array):\n",
    "        super().__init__(array)\n",
    "        self.heapSize = 0\n",
    "\n",
    "class MinHeap:\n",
    "    def __init__(self, array):\n",
    "        self.arrayHeap = ArrayHeap(array)\n",
    "    \n",
    "    # All the following methods work with zero based array.\n",
    "    def parent(self, i):\n",
    "        return math.floor(i/2)\n",
    "    \n",
    "    def left(self, i):\n",
    "        return 2*i + 1\n",
    "    \n",
    "    def right(self, i):\n",
    "        return 2*i + 2\n",
    "    \n",
    "    # Execution time: O(lg n)\n",
    "    def minHeapify(self, i):\n",
    "        l = self.left(i)\n",
    "        r = self.right(i)\n",
    "        if l <= self.arrayHeap.heapSize-1 and self.arrayHeap[l].key < self.arrayHeap[i].key:\n",
    "            minimo = l\n",
    "        else:\n",
    "            minimo = i\n",
    "        if r <= self.arrayHeap.heapSize-1 and self.arrayHeap[r].key < self.arrayHeap[minimo].key:\n",
    "            minimo = r\n",
    "        if minimo != i:\n",
    "            self.arrayHeap[i], self.arrayHeap[minimo] = self.arrayHeap[minimo], self.arrayHeap[i]\n",
    "            self.minHeapify(minimo)\n",
    "            \n",
    "    # Execution time: O(n)\n",
    "    def buildMinHeap(self):\n",
    "        self.arrayHeap.heapSize = len(self.arrayHeap)\n",
    "        for i in range(math.floor(len(self.arrayHeap)/2 - 1), -1, -1): #downto\n",
    "            self.minHeapify(i)\n",
    "    \n",
    "    #def insert(self, value):\n",
    "    #    self.arrayHeap.append(value)\n",
    "    #    self.arrayHeap.heapSize += 1\n",
    "    #    \n",
    "    #    index = self.arrayHeap.heapSize - 1\n",
    "    #    parent = self.parent(index)\n",
    "    #    \n",
    "    #    while parent >= 0 and self.arrayHeap[index] < self.arrayHeap[parent]:\n",
    "    #        self.arrayHeap[index], self.arrayHeap[parent] = self.arrayHeap[parent], self.arrayHeap[index]\n",
    "    #        index = parent\n",
    "    #        parent = self.parent(index)\n",
    "            \n",
    "    #def delete(self, index):\n",
    "    #    if self.arrayHeap.heapSize == 0:\n",
    "    #        print(\"Error: underflow\")\n",
    "    #        return\n",
    "    #    else:\n",
    "    #        removed = self.arrayHeap[index]\n",
    "    #        last = self.arrayHeap.heapSize-1\n",
    "    #        self.arrayHeap[index], self.arrayHeap[last] = self.arrayHeap[last], self.arrayHeap[index]\n",
    "    #        self.arrayHeap.heapSize -= 1\n",
    "    #        self.arrayHeap.pop(last)\n",
    "    #        parent = self.parent(index)\n",
    "    #        self.minHeapify(parent)\n",
    "    #        return removed\n",
    "    \n",
    "    # Execution time: O(lg n)\n",
    "    # First we update the heap structure, then we remove the last element.\n",
    "    def extractMin(self):\n",
    "        if self.arrayHeap.heapSize == 0:\n",
    "            print(\"Error: underflow\")\n",
    "            return\n",
    "        else:\n",
    "            minimo = self.arrayHeap[0]\n",
    "            self.arrayHeap[0] = self.arrayHeap[self.arrayHeap.heapSize - 1]\n",
    "            self.arrayHeap.heapSize -= 1\n",
    "            self.minHeapify(0)\n",
    "            # This action is needed in order to remove the last element of the list. Otherwise, we will obtain\n",
    "            # a duplicate of the last element.\n",
    "            self.arrayHeap.pop(self.arrayHeap.heapSize)\n",
    "            \n",
    "            return minimo"
   ],
   "execution_count": 377,
   "outputs": []
  },
  {
   "cell_type": "markdown",
   "source": [
    "# Definition of Node and Graph objects for graph manipluation        "
   ],
   "metadata": {
    "collapsed": false,
    "pycharm": {
     "name": "#%% md\n"
    }
   }
  },
  {
   "cell_type": "code",
   "execution_count": 378,
   "outputs": [],
   "source": [
    "class Node:\n",
    "    def __init__(self, tag):\n",
    "        self.tag = tag\n",
    "        self.key = None\n",
    "        self.parent = None\n",
    "        self.adjacencyList = []\n",
    "        \n",
    "    # For test \n",
    "    def print(self):\n",
    "        print(\"tag =\", self.tag, \"adjList=\", self.adjacencyList, \"key=\", self.key)\n",
    "\n",
    "class Graph:\n",
    "    def __init__(self):\n",
    "        self.nodes = defaultdict(Node)\n",
    "        \n",
    "    def createNode(self, nums):\n",
    "        for i in range(1, nums+1): # nums+1 in order to cover the last node\n",
    "            self.nodes[i] = Node(i)\n",
    "        \n",
    "     # addNode it's a little bit complex but it helps to track nodes in Prim algorithm.   \n",
    "    def addNode(self, tag, adjList):\n",
    "        adjTag = adjList[0]\n",
    "        adjCost = adjList[1]\n",
    "        if tag != adjTag: # Check for self loop\n",
    "            self.nodes[tag].adjacencyList.append([self.nodes[adjTag], adjCost])\n",
    "\n",
    "    def buildGraph(self, input):\n",
    "        lines = input.readlines()\n",
    "        #graph = Graph()\n",
    "        self.createNode(int(lines[0].split()[0])) # Extract number of vertexes\n",
    "        lines.pop(0) \n",
    "        for line in lines:\n",
    "            info = list(map(int, line.split())) # Convert all the strings deriving from split to int\n",
    "            self.addNode(info[0], [info[1], info[2]])   "
   ],
   "metadata": {
    "collapsed": false,
    "pycharm": {
     "name": "#%%\n",
     "is_executing": false
    }
   }
  },
  {
   "cell_type": "markdown",
   "source": [
    "# Prim algorithm"
   ],
   "metadata": {
    "collapsed": false,
    "pycharm": {
     "name": "#%% md\n"
    }
   }
  },
  {
   "cell_type": "code",
   "execution_count": 379,
   "outputs": [],
   "source": [
    "def MSTPrim(g, r):\n",
    "    for node in g.nodes.values():\n",
    "        node.key = math.inf # key, parent is already set\n",
    "    r.key = 0 \n",
    "    q = MinHeap(list(g.nodes.values()))\n",
    "    q.buildMinHeap()\n",
    "    while len(q.arrayHeap) is not 0:\n",
    "        u = q.extractMin()\n",
    "        for v in u.adjacencyList:\n",
    "            if v[0] and v[1] < v[0].key:\n",
    "                v[0].parent = u\n",
    "                v[0].key = v[1]"
   ],
   "metadata": {
    "collapsed": false,
    "pycharm": {
     "name": "#%%            \n",
     "is_executing": false
    }
   }
  },
  {
   "cell_type": "code",
   "execution_count": 380,
   "outputs": [],
   "source": [
    "result = Graph()\n",
    "result.buildGraph(open(\"dataset/input_random_17_100.txt\", \"r\"))\n",
    "MSTPrim(result, result.nodes.get(1))\n",
    "#sum = 0\n",
    "##for node in result.nodes.values():\n",
    "#    sum +=# node.key\n",
    "#print(sum)"
   ],
   "metadata": {
    "collapsed": false,
    "pycharm": {
     "name": "#%%    \n",
     "is_executing": false
    }
   }
  }
 ]
}