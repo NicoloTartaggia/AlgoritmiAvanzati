{
  "nbformat": 4,
  "nbformat_minor": 0,
  "metadata": {
    "colab": {
      "name": "colab-github-demo.ipynb",
      "provenance": [],
      "collapsed_sections": [],
      "toc_visible": true,
      "include_colab_link": true
    },
    "kernelspec": {
      "display_name": "Python 3",
      "name": "python3"
    }
  },
  "cells": [
    {
      "cell_type": "markdown",
      "metadata": {
        "id": "view-in-github",
        "colab_type": "text"
      },
      "source": [
        "<a href=\"https://colab.research.google.com/github/cipz/AlgoritmiAvanzati/blob/master/Homework1/kruskal_naive.ipynb\" target=\"_parent\"><img src=\"https://colab.research.google.com/assets/colab-badge.svg\" alt=\"Open In Colab\"/></a>"
      ]
    },
    {
      "cell_type": "code",
      "metadata": {
        "id": "foqQ3nJR30ow",
        "colab_type": "code",
        "outputId": "6bb23636-f3cd-4425-cf06-e05791e4c1be",
        "colab": {
          "base_uri": "https://localhost:8080/",
          "height": 85
        }
      },
      "source": [
        "!pip install ipython-autotime\n",
        "\n",
        "%load_ext autotime"
      ],
      "execution_count": 182,
      "outputs": [
        {
          "output_type": "stream",
          "text": [
            "Requirement already satisfied: ipython-autotime in /usr/local/lib/python3.6/dist-packages (0.1)\n",
            "The autotime extension is already loaded. To reload it, use:\n",
            "  %reload_ext autotime\n",
            "time: 2.96 s\n"
          ],
          "name": "stdout"
        }
      ]
    },
    {
      "cell_type": "code",
      "metadata": {
        "id": "Yw1P-fGoc3NY",
        "colab_type": "code",
        "outputId": "0c094000-313c-469f-805c-7eecc0c3667b",
        "colab": {
          "base_uri": "https://localhost:8080/",
          "height": 34
        }
      },
      "source": [
        "class Graph:\n",
        "  def __init__(self, lv, le):\n",
        "    self.Lv = lv\n",
        "    self.Le = le\n",
        "\n",
        "  def incidentEdges(self, v):\n",
        "    iEdges = []\n",
        "    for e in self.Le :\n",
        "      if e.v1 == v or e.v2 == v :\n",
        "        iEdges.append(e)\n",
        "    return iEdges\n",
        "\n",
        "  def opposite(self, v, e):\n",
        "    if e.v1 == v :\n",
        "      return e.v2\n",
        "    elif e.v2 == v :\n",
        "      return e.v1\n",
        "    else :\n",
        "      raise ValueError('Error: v or e not exists')\n",
        "    \n",
        "  def buildGraph(self, input):\n",
        "        lines = input.readlines()\n",
        "        n = lines[0].split()[0] # Extract number of vertexes\n",
        "        for i in range(0, int(n)):\n",
        "          self.Lv.append(Vertex(0, \"NULL\"))\n",
        "        lines.pop(0) \n",
        "        for line in lines:\n",
        "            info = list(map(int, line.split())) # Convert all the strings deriving from split to int\n",
        "            self.Le.append(Edge(info[0]-1, info[1]-1, info[2]))\n",
        "\n",
        "class Vertex:\n",
        "  def __init__(self, id, p):\n",
        "    self.ID = id\n",
        "    self.parent = p\n",
        "\n",
        "class Edge:\n",
        "  def __init__(self, u, v, w):\n",
        "    self.v1 = u\n",
        "    self.v2 = v\n",
        "    self.label = \"NULL\"\n",
        "    self.weight = w"
      ],
      "execution_count": 183,
      "outputs": [
        {
          "output_type": "stream",
          "text": [
            "time: 23.5 ms\n"
          ],
          "name": "stdout"
        }
      ]
    },
    {
      "cell_type": "code",
      "metadata": {
        "id": "kfL4luB1khep",
        "colab_type": "code",
        "outputId": "09c9dd9f-1bcf-4ac1-875c-92f6cfca2fda",
        "colab": {
          "base_uri": "https://localhost:8080/",
          "height": 34
        }
      },
      "source": [
        "#lv = [Vertex(0, \"NULL\"), Vertex(0, \"NULL\"), Vertex(0, \"NULL\"), Vertex(0, \"NULL\")]\n",
        "#le = [Edge(0, 1, 1), Edge(0, 2, 3), Edge(0, 3, 2), Edge(1, 2, 7), Edge(2, 3, 4)]\n",
        "#newG = Graph(lv, le)"
      ],
      "execution_count": 184,
      "outputs": [
        {
          "output_type": "stream",
          "text": [
            "time: 646 µs\n"
          ],
          "name": "stdout"
        }
      ]
    },
    {
      "cell_type": "code",
      "metadata": {
        "id": "4792LXUSaNkv",
        "colab_type": "code",
        "outputId": "c5128ad3-f4e4-4c03-dff2-fc8859edfd55",
        "colab": {
          "base_uri": "https://localhost:8080/",
          "height": 34
        }
      },
      "source": [
        "def DFS(G, v):\n",
        "  G.Lv[v].ID = 1\n",
        "  for e in G.incidentEdges(v):\n",
        "    if e.label == \"NULL\" :\n",
        "      w = G.opposite(v, e)\n",
        "      if G.Lv[w].ID == 0 :\n",
        "        e.label = \"DISCOVERY EDGE\"\n",
        "        DFS(G, w)\n",
        "      else :\n",
        "        e.label = \"BACK EDGE\""
      ],
      "execution_count": 185,
      "outputs": [
        {
          "output_type": "stream",
          "text": [
            "time: 4.74 ms\n"
          ],
          "name": "stdout"
        }
      ]
    },
    {
      "cell_type": "code",
      "metadata": {
        "id": "c_cjX4vwJKli",
        "colab_type": "code",
        "outputId": "ffc91af4-2c66-4350-ea2b-f178bd6dfa18",
        "colab": {
          "base_uri": "https://localhost:8080/",
          "height": 34
        }
      },
      "source": [
        "def DFS_connectivity(G, v):\n",
        "  G.Lv[v].ID = 1\n",
        "  for e in G.incidentEdges(v):\n",
        "    if e.label == \"NULL\" :\n",
        "      w = G.opposite(v, e)\n",
        "      if G.Lv[w].ID == 0 :\n",
        "        e.label = \"DISCOVERY EDGE\"\n",
        "        G.Lv[w].parent = v\n",
        "        DFS_connectivity(G, w)\n",
        "      else :\n",
        "        e.label = \"BACK EDGE\""
      ],
      "execution_count": 186,
      "outputs": [
        {
          "output_type": "stream",
          "text": [
            "time: 5.52 ms\n"
          ],
          "name": "stdout"
        }
      ]
    },
    {
      "cell_type": "code",
      "metadata": {
        "id": "5FlvA9ebVrzp",
        "colab_type": "code",
        "outputId": "c712bb32-9128-4c1d-eedb-1e345e520a4f",
        "colab": {
          "base_uri": "https://localhost:8080/",
          "height": 34
        }
      },
      "source": [
        "def connectionCheck(G, s, t):\n",
        "    tempG = G\n",
        "    DFS_connectivity(tempG, s)\n",
        "    if tempG.Lv[t].ID == 1:\n",
        "      return True\n",
        "    else:\n",
        "      return False"
      ],
      "execution_count": 187,
      "outputs": [
        {
          "output_type": "stream",
          "text": [
            "time: 3.12 ms\n"
          ],
          "name": "stdout"
        }
      ]
    },
    {
      "cell_type": "code",
      "metadata": {
        "id": "xNFsZqsTGlNC",
        "colab_type": "code",
        "outputId": "d1c8d5c4-d943-497e-dec4-a50414786fd7",
        "colab": {
          "base_uri": "https://localhost:8080/",
          "height": 34
        }
      },
      "source": [
        "def mergeSort(arr): \n",
        "    if len(arr) > 1: \n",
        "        mid = len(arr)//2 #Finding the mid of the array \n",
        "        L = arr[:mid] # Dividing the array elements  \n",
        "        R = arr[mid:] # into 2 halves \n",
        "  \n",
        "        mergeSort(L) # Sorting the first half \n",
        "        mergeSort(R) # Sorting the second half \n",
        "  \n",
        "        i = j = k = 0\n",
        "          \n",
        "        # Copy data to temp arrays L[] and R[] \n",
        "        while i < len(L) and j < len(R): \n",
        "            if L[i].weight < R[j].weight: \n",
        "                arr[k] = L[i] \n",
        "                i+=1\n",
        "            else: \n",
        "                arr[k] = R[j] \n",
        "                j+=1\n",
        "            k+=1\n",
        "          \n",
        "        # Checking if any element was left \n",
        "        while i < len(L): \n",
        "            arr[k] = L[i] \n",
        "            i+=1\n",
        "            k+=1\n",
        "          \n",
        "        while j < len(R): \n",
        "            arr[k] = R[j] \n",
        "            j+=1\n",
        "            k+=1"
      ],
      "execution_count": 188,
      "outputs": [
        {
          "output_type": "stream",
          "text": [
            "time: 26.4 ms\n"
          ],
          "name": "stdout"
        }
      ]
    },
    {
      "cell_type": "code",
      "metadata": {
        "id": "LmYuqY5TMA3c",
        "colab_type": "code",
        "outputId": "4af8c5eb-28bf-45b2-9d90-164443504f10",
        "colab": {
          "base_uri": "https://localhost:8080/",
          "height": 34
        }
      },
      "source": [
        "import copy\n",
        "\n",
        "def Kruskal(G):\n",
        "  A = Graph(G.Lv, [])\n",
        "  mergeSort(G.Le) # sort list of edges by weight\n",
        "  for e in (edges for edges in G.Le if len(A.Le) < len(G.Lv)):\n",
        "    tempG = copy.deepcopy(A)\n",
        "    if connectionCheck(tempG, (e.v1), (e.v2)) == False:\n",
        "      A.Le.append(e)\n",
        "  return A"
      ],
      "execution_count": 189,
      "outputs": [
        {
          "output_type": "stream",
          "text": [
            "time: 3.88 ms\n"
          ],
          "name": "stdout"
        }
      ]
    },
    {
      "cell_type": "markdown",
      "metadata": {
        "id": "bKA1bBbIJLXt",
        "colab_type": "text"
      },
      "source": [
        "# **TEST**"
      ]
    },
    {
      "cell_type": "code",
      "metadata": {
        "id": "mJnz0_sKiFA0",
        "colab_type": "code",
        "outputId": "d6423fc1-30f2-4b11-9bed-deb6e0e6288a",
        "colab": {
          "base_uri": "https://localhost:8080/",
          "height": 34
        }
      },
      "source": [
        "#import pandas as pd\n",
        "#df = pd.read_csv('input_random_2_10.txt')\n",
        "#print(df)"
      ],
      "execution_count": 190,
      "outputs": [
        {
          "output_type": "stream",
          "text": [
            "time: 757 µs\n"
          ],
          "name": "stdout"
        }
      ]
    },
    {
      "cell_type": "code",
      "metadata": {
        "id": "vkwKpkwZJKYA",
        "colab_type": "code",
        "outputId": "d036d542-e8c9-4a33-feca-99ef8e75b462",
        "colab": {
          "base_uri": "https://localhost:8080/",
          "height": 54
        }
      },
      "source": [
        "'''result = Graph([], [])\n",
        "result.buildGraph(open(\"input_random_35_1000.txt\", \"r\"))\n",
        "temp = Kruskal(result)\n",
        "MST = 0\n",
        "for e in temp.Le:\n",
        "  MST += e.weight\n",
        "  #print(e.v1, e.v2, e.weight)\n",
        "\n",
        "print(\"MST: \", MST)'''"
      ],
      "execution_count": 191,
      "outputs": [
        {
          "output_type": "execute_result",
          "data": {
            "text/plain": [
              "'result = Graph([], [])\\nresult.buildGraph(open(\"input_random_35_1000.txt\", \"r\"))\\ntemp = Kruskal(result)\\nMST = 0\\nfor e in temp.Le:\\n  MST += e.weight\\n  #print(e.v1, e.v2, e.weight)\\n\\nprint(\"MST: \", MST)'"
            ]
          },
          "metadata": {
            "tags": []
          },
          "execution_count": 191
        },
        {
          "output_type": "stream",
          "text": [
            "time: 3.65 ms\n"
          ],
          "name": "stdout"
        }
      ]
    },
    {
      "cell_type": "code",
      "metadata": {
        "id": "LZBpUmY_bLtf",
        "colab_type": "code",
        "colab": {
          "base_uri": "https://localhost:8080/",
          "height": 34
        },
        "outputId": "1a036a75-80c4-4946-b44e-ebb4d996799a"
      },
      "source": [
        "def newKruskal(G):\n",
        "  sum = 0\n",
        "  A = Graphx(len(G.Lv))\n",
        "  mergeSort(G.Le) # sort list of edges by weight\n",
        "  for e in G.Le:\n",
        "    tempG = copy.deepcopy(A)\n",
        "    if tempG.isReachable((e.v1), (e.v2)) == False:\n",
        "      A.addEdge((e.v1), (e.v2))\n",
        "      sum += e.weight\n",
        "  return sum"
      ],
      "execution_count": 192,
      "outputs": [
        {
          "output_type": "stream",
          "text": [
            "time: 6.89 ms\n"
          ],
          "name": "stdout"
        }
      ]
    },
    {
      "cell_type": "code",
      "metadata": {
        "id": "TWlgodglguds",
        "colab_type": "code",
        "colab": {
          "base_uri": "https://localhost:8080/",
          "height": 34
        },
        "outputId": "6be0a2e6-0708-48cc-f528-aadadc2f97f2"
      },
      "source": [
        "from collections import defaultdict\n",
        "class Graphx:\n",
        "\n",
        "  def __init__(self, V):\n",
        "    self.V = V\n",
        "    self.adj = defaultdict(list)\n",
        "\n",
        "  def addEdge(self, u, v):\n",
        "    self.adj[u].append(v)\n",
        "    self.adj[v].append(u)\n",
        "\n",
        "  def isReachable(self, s, d):\n",
        "    visited = [False] * (self.V)\n",
        "    queue = []\n",
        "    queue.append(s)\n",
        "    visited[s] = True\n",
        "\n",
        "    while queue:\n",
        "      n = queue.pop(0)\n",
        "      if n == d:\n",
        "        return True\n",
        "\n",
        "      for i in self.adj[n]:\n",
        "        if visited[i] == False:\n",
        "          queue.append(i)\n",
        "          visited[i] = True\n",
        "        \n",
        "    return False"
      ],
      "execution_count": 193,
      "outputs": [
        {
          "output_type": "stream",
          "text": [
            "time: 21.3 ms\n"
          ],
          "name": "stdout"
        }
      ]
    },
    {
      "cell_type": "code",
      "metadata": {
        "id": "aZeC8fZHihGe",
        "colab_type": "code",
        "colab": {
          "base_uri": "https://localhost:8080/",
          "height": 50
        },
        "outputId": "e71dc206-a909-4a6a-a69b-2c310fbb14ff"
      },
      "source": [
        "# Create a graph given in the above diagram \n",
        "'''g = Graphx(4) \n",
        "g.addEdge(0, 1) \n",
        "g.addEdge(0, 2) \n",
        "g.addEdge(1, 2) \n",
        "g.addEdge(2, 0) \n",
        "g.addEdge(2, 3) \n",
        "g.addEdge(3, 3) \n",
        "\n",
        "u =1; v = 3\n",
        "\n",
        "if g.isReachable(u, v): \n",
        "\tprint(\"There is a path from %d to %d\" % (u,v)) \n",
        "else : \n",
        "\tprint(\"There is no path from %d to %d\" % (u,v)) '''\n",
        " \n",
        "result.buildGraph(open(\"input_random_35_1000.txt\", \"r\"))\n",
        "temp = newKruskal(result)\n",
        "print(\"MST: \", temp)"
      ],
      "execution_count": 194,
      "outputs": [
        {
          "output_type": "stream",
          "text": [
            "MST:  -8525181\n",
            "time: 49.5 s\n"
          ],
          "name": "stdout"
        }
      ]
    }
  ]
}