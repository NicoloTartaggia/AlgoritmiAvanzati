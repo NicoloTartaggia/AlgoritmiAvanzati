{
  "nbformat": 4,
  "nbformat_minor": 0,
  "metadata": {
    "colab": {
      "name": "colab-github-demo.ipynb",
      "provenance": [],
      "collapsed_sections": [],
      "include_colab_link": true
    },
    "kernelspec": {
      "display_name": "Python 3",
      "name": "python3"
    }
  },
  "cells": [
    {
      "cell_type": "markdown",
      "metadata": {
        "id": "view-in-github",
        "colab_type": "text"
      },
      "source": [
        "<a href=\"https://colab.research.google.com/github/cipz/AlgoritmiAvanzati/blob/master/Homework1/kruskal_naive.ipynb\" target=\"_parent\"><img src=\"https://colab.research.google.com/assets/colab-badge.svg\" alt=\"Open In Colab\"/></a>"
      ]
    },
    {
      "cell_type": "code",
      "metadata": {
        "id": "Yw1P-fGoc3NY",
        "colab_type": "code",
        "colab": {}
      },
      "source": [
        "class Graph:\n",
        "  def __init__(self, lv, le):\n",
        "    self.Lv = lv\n",
        "    self.Le = le\n",
        "\n",
        "  def incidentEdges(self, v):\n",
        "    iEdges = []\n",
        "    for e in self.Le :\n",
        "      if e.v1 == v or e.v2 == v :\n",
        "        iEdges.append(e)\n",
        "    return iEdges\n",
        "\n",
        "  def opposite(self, v, e):\n",
        "    if e.v1 == v :\n",
        "      return e.v2\n",
        "    elif e.v2 == v :\n",
        "      return e.v1\n",
        "    else :\n",
        "      raise ValueError('Error: v or e not exists')\n",
        "\n",
        "class Vertex:\n",
        "  def __init__(self, id, p):\n",
        "    self.ID = id\n",
        "    self.parent = p\n",
        "\n",
        "class Edge:\n",
        "  def __init__(self, u, v, w):\n",
        "    self.v1 = u\n",
        "    self.v2 = v\n",
        "    self.label = \"NULL\"\n",
        "    self.weight = w"
      ],
      "execution_count": 0,
      "outputs": []
    },
    {
      "cell_type": "code",
      "metadata": {
        "id": "kfL4luB1khep",
        "colab_type": "code",
        "colab": {}
      },
      "source": [
        "lv = [Vertex(0, \"NULL\"), Vertex(0, \"NULL\"), Vertex(0, \"NULL\"), Vertex(0, \"NULL\")]\n",
        "le = [Edge(0, 1, 1), Edge(0, 3, 2), Edge(0, 2, 3), Edge(2, 3, 4), Edge(1, 2, 7)]\n",
        "\n",
        "newG = Graph(lv, le)"
      ],
      "execution_count": 0,
      "outputs": []
    },
    {
      "cell_type": "code",
      "metadata": {
        "id": "ZgL2jCOkbR2b",
        "colab_type": "code",
        "colab": {
          "base_uri": "https://localhost:8080/",
          "height": 34
        },
        "outputId": "0de94160-45df-4f79-b410-2e5180f93a8c"
      },
      "source": [
        "'''\n",
        "li = defaultdict(dict)\n",
        "li[n][m] = w'''"
      ],
      "execution_count": 390,
      "outputs": [
        {
          "output_type": "execute_result",
          "data": {
            "text/plain": [
              "'\\nli = defaultdict(dict)\\nli[n][m] = w'"
            ]
          },
          "metadata": {
            "tags": []
          },
          "execution_count": 390
        }
      ]
    },
    {
      "cell_type": "code",
      "metadata": {
        "id": "4792LXUSaNkv",
        "colab_type": "code",
        "colab": {}
      },
      "source": [
        "def DFS(G, v):\n",
        "  G.Lv[v].ID = 1\n",
        "  for e in G.incidentEdges(v):\n",
        "    if e.label == \"NULL\" :\n",
        "      w = G.opposite(v, e)\n",
        "      if G.Lv[w].ID == 0 :\n",
        "        e.label = \"DISCOVERY EDGE\"\n",
        "        DFS(G, w)\n",
        "      else :\n",
        "        e.label = \"BACK EDGE\""
      ],
      "execution_count": 0,
      "outputs": []
    },
    {
      "cell_type": "code",
      "metadata": {
        "id": "c_cjX4vwJKli",
        "colab_type": "code",
        "colab": {}
      },
      "source": [
        "def DFS_connectivity(G, v):\n",
        "  G.Lv[v].ID = 1\n",
        "  for e in G.incidentEdges(v):\n",
        "    if e.label == \"NULL\" :\n",
        "      w = G.opposite(v, e)\n",
        "      if G.Lv[w].ID == 0 :\n",
        "        #e.label = \"DISCOVERY EDGE\"\n",
        "        G.Lv[w].parent = v\n",
        "        DFS_connectivity(G, w)\n",
        "      #else :\n",
        "        #e.label = \"BACK EDGE\""
      ],
      "execution_count": 0,
      "outputs": []
    },
    {
      "cell_type": "code",
      "metadata": {
        "id": "5FlvA9ebVrzp",
        "colab_type": "code",
        "colab": {}
      },
      "source": [
        "def connectionCheck(G, s, t):\n",
        "    tempG = G\n",
        "    DFS_connectivity(tempG, s)\n",
        "    if tempG.Lv[t].ID == 1:\n",
        "      return True\n",
        "    else:\n",
        "      return False"
      ],
      "execution_count": 0,
      "outputs": []
    },
    {
      "cell_type": "code",
      "metadata": {
        "id": "LmYuqY5TMA3c",
        "colab_type": "code",
        "colab": {}
      },
      "source": [
        "def Kruskal(G):\n",
        "  A = Graph(G.Lv, [])\n",
        "  # sort G.Le.weight\n",
        "  for e in G.Le:\n",
        "    if connectionCheck(A, e.v1, e.v2) == False:\n",
        "      A.Le.append(e)\n",
        "  return A\n"
      ],
      "execution_count": 0,
      "outputs": []
    },
    {
      "cell_type": "code",
      "metadata": {
        "id": "hG5DaeY0ZU4x",
        "colab_type": "code",
        "colab": {
          "base_uri": "https://localhost:8080/",
          "height": 67
        },
        "outputId": "18654c63-c589-4cd2-d3ea-a2f9c5aa977d"
      },
      "source": [
        "x = Kruskal(newG)\n",
        "for e in x.Le:\n",
        "  print(e.v1, e.v2, e.weight)"
      ],
      "execution_count": 395,
      "outputs": [
        {
          "output_type": "stream",
          "text": [
            "0 1 1\n",
            "0 3 2\n",
            "0 2 3\n"
          ],
          "name": "stdout"
        }
      ]
    },
    {
      "cell_type": "code",
      "metadata": {
        "id": "Y1T8Qn4ibtVg",
        "colab_type": "code",
        "colab": {
          "base_uri": "https://localhost:8080/",
          "height": 34
        },
        "outputId": "161cd9bf-953d-463e-bbbc-edb782746ea2"
      },
      "source": [
        "test = Graph(newG.Lv, [])\n",
        "print(connectionCheck(test, newG.Le[0].v1, newG.Le[0].v2))"
      ],
      "execution_count": 396,
      "outputs": [
        {
          "output_type": "stream",
          "text": [
            "True\n"
          ],
          "name": "stdout"
        }
      ]
    }
  ]
}