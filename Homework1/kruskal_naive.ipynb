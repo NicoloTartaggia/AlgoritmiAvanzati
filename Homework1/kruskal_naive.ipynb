{
  "nbformat": 4,
  "nbformat_minor": 0,
  "metadata": {
    "colab": {
      "name": "colab-github-demo.ipynb",
      "provenance": [],
      "collapsed_sections": [],
      "toc_visible": true,
      "include_colab_link": true
    },
    "kernelspec": {
      "display_name": "Python 3",
      "name": "python3"
    }
  },
  "cells": [
    {
      "cell_type": "markdown",
      "metadata": {
        "id": "view-in-github",
        "colab_type": "text"
      },
      "source": [
        "<a href=\"https://colab.research.google.com/github/cipz/AlgoritmiAvanzati/blob/master/Homework1/kruskal_naive.ipynb\" target=\"_parent\"><img src=\"https://colab.research.google.com/assets/colab-badge.svg\" alt=\"Open In Colab\"/></a>"
      ]
    },
    {
      "cell_type": "code",
      "metadata": {
        "id": "foqQ3nJR30ow",
        "colab_type": "code",
        "colab": {
          "base_uri": "https://localhost:8080/",
          "height": 85
        },
        "outputId": "3e56dc3e-7c9e-4a82-ae45-86e75937fa67"
      },
      "source": [
        "!pip install ipython-autotime\n",
        "\n",
        "%load_ext autotime"
      ],
      "execution_count": 288,
      "outputs": [
        {
          "output_type": "stream",
          "text": [
            "Requirement already satisfied: ipython-autotime in /usr/local/lib/python3.6/dist-packages (0.1)\n",
            "The autotime extension is already loaded. To reload it, use:\n",
            "  %reload_ext autotime\n",
            "time: 2.87 s\n"
          ],
          "name": "stdout"
        }
      ]
    },
    {
      "cell_type": "code",
      "metadata": {
        "id": "Yw1P-fGoc3NY",
        "colab_type": "code",
        "colab": {
          "base_uri": "https://localhost:8080/",
          "height": 34
        },
        "outputId": "661f22bd-5e79-465b-f2e9-de80f867847c"
      },
      "source": [
        "class Graph:\n",
        "  def __init__(self, lv, le):\n",
        "    self.Lv = lv\n",
        "    self.Le = le\n",
        "\n",
        "  def incidentEdges(self, v):\n",
        "    iEdges = []\n",
        "    for e in self.Le :\n",
        "      if e.v1 == v or e.v2 == v :\n",
        "        iEdges.append(e)\n",
        "    return iEdges\n",
        "\n",
        "  def opposite(self, v, e):\n",
        "    if e.v1 == v :\n",
        "      return e.v2\n",
        "    elif e.v2 == v :\n",
        "      return e.v1\n",
        "    else :\n",
        "      raise ValueError('Error: v or e not exists')\n",
        "    \n",
        "  def buildGraph(self, input):\n",
        "        lines = input.readlines()\n",
        "        n = lines[0].split()[0] # Extract number of vertexes\n",
        "        for i in range(0, int(n)):\n",
        "          self.Lv.append(Vertex(0, \"NULL\"))\n",
        "        lines.pop(0) \n",
        "        for line in lines:\n",
        "            info = list(map(int, line.split())) # Convert all the strings deriving from split to int\n",
        "            self.Le.append(Edge(info[0]-1, info[1]-1, info[2]))\n",
        "\n",
        "class Vertex:\n",
        "  def __init__(self, id, p):\n",
        "    self.ID = id\n",
        "    self.parent = p\n",
        "\n",
        "class Edge:\n",
        "  def __init__(self, u, v, w):\n",
        "    self.v1 = u\n",
        "    self.v2 = v\n",
        "    self.label = \"NULL\"\n",
        "    self.weight = w"
      ],
      "execution_count": 289,
      "outputs": [
        {
          "output_type": "stream",
          "text": [
            "time: 24.8 ms\n"
          ],
          "name": "stdout"
        }
      ]
    },
    {
      "cell_type": "code",
      "metadata": {
        "id": "kfL4luB1khep",
        "colab_type": "code",
        "colab": {
          "base_uri": "https://localhost:8080/",
          "height": 34
        },
        "outputId": "6993ed4d-75b8-4549-9830-2eb0d7a1f195"
      },
      "source": [
        "#lv = [Vertex(0, \"NULL\"), Vertex(0, \"NULL\"), Vertex(0, \"NULL\"), Vertex(0, \"NULL\")]\n",
        "#le = [Edge(0, 1, 1), Edge(0, 2, 3), Edge(0, 3, 2), Edge(1, 2, 7), Edge(2, 3, 4)]\n",
        "#newG = Graph(lv, le)"
      ],
      "execution_count": 290,
      "outputs": [
        {
          "output_type": "stream",
          "text": [
            "time: 679 µs\n"
          ],
          "name": "stdout"
        }
      ]
    },
    {
      "cell_type": "code",
      "metadata": {
        "id": "4792LXUSaNkv",
        "colab_type": "code",
        "colab": {
          "base_uri": "https://localhost:8080/",
          "height": 34
        },
        "outputId": "b751d556-febf-44d5-a661-a1f3d7c45472"
      },
      "source": [
        "def DFS(G, v):\n",
        "  G.Lv[v].ID = 1\n",
        "  for e in G.incidentEdges(v):\n",
        "    if e.label == \"NULL\" :\n",
        "      w = G.opposite(v, e)\n",
        "      if G.Lv[w].ID == 0 :\n",
        "        e.label = \"DISCOVERY EDGE\"\n",
        "        DFS(G, w)\n",
        "      else :\n",
        "        e.label = \"BACK EDGE\""
      ],
      "execution_count": 291,
      "outputs": [
        {
          "output_type": "stream",
          "text": [
            "time: 5.51 ms\n"
          ],
          "name": "stdout"
        }
      ]
    },
    {
      "cell_type": "code",
      "metadata": {
        "id": "c_cjX4vwJKli",
        "colab_type": "code",
        "colab": {
          "base_uri": "https://localhost:8080/",
          "height": 34
        },
        "outputId": "85eaee3c-e7d3-4ac9-8b82-b2c40e37b81e"
      },
      "source": [
        "def DFS_connectivity(G, v):\n",
        "  G.Lv[v].ID = 1\n",
        "  for e in G.incidentEdges(v):\n",
        "    if e.label == \"NULL\" :\n",
        "      w = G.opposite(v, e)\n",
        "      if G.Lv[w].ID == 0 :\n",
        "        e.label = \"DISCOVERY EDGE\"\n",
        "        G.Lv[w].parent = v\n",
        "        DFS_connectivity(G, w)\n",
        "      else :\n",
        "        e.label = \"BACK EDGE\""
      ],
      "execution_count": 292,
      "outputs": [
        {
          "output_type": "stream",
          "text": [
            "time: 7.19 ms\n"
          ],
          "name": "stdout"
        }
      ]
    },
    {
      "cell_type": "code",
      "metadata": {
        "id": "5FlvA9ebVrzp",
        "colab_type": "code",
        "colab": {
          "base_uri": "https://localhost:8080/",
          "height": 34
        },
        "outputId": "500b5c16-80a4-4094-b867-2ef0e813cfef"
      },
      "source": [
        "def connectionCheck(G, s, t):\n",
        "    tempG = G\n",
        "    DFS_connectivity(tempG, s)\n",
        "    if tempG.Lv[t].ID == 1:\n",
        "      return True\n",
        "    else:\n",
        "      return False"
      ],
      "execution_count": 293,
      "outputs": [
        {
          "output_type": "stream",
          "text": [
            "time: 3.79 ms\n"
          ],
          "name": "stdout"
        }
      ]
    },
    {
      "cell_type": "code",
      "metadata": {
        "id": "xNFsZqsTGlNC",
        "colab_type": "code",
        "colab": {
          "base_uri": "https://localhost:8080/",
          "height": 34
        },
        "outputId": "bf580120-53ca-48cc-b237-4999ba43d3e1"
      },
      "source": [
        "def mergeSort(arr): \n",
        "    if len(arr) > 1: \n",
        "        mid = len(arr)//2 #Finding the mid of the array \n",
        "        L = arr[:mid] # Dividing the array elements  \n",
        "        R = arr[mid:] # into 2 halves \n",
        "  \n",
        "        mergeSort(L) # Sorting the first half \n",
        "        mergeSort(R) # Sorting the second half \n",
        "  \n",
        "        i = j = k = 0\n",
        "          \n",
        "        # Copy data to temp arrays L[] and R[] \n",
        "        while i < len(L) and j < len(R): \n",
        "            if L[i].weight < R[j].weight: \n",
        "                arr[k] = L[i] \n",
        "                i+=1\n",
        "            else: \n",
        "                arr[k] = R[j] \n",
        "                j+=1\n",
        "            k+=1\n",
        "          \n",
        "        # Checking if any element was left \n",
        "        while i < len(L): \n",
        "            arr[k] = L[i] \n",
        "            i+=1\n",
        "            k+=1\n",
        "          \n",
        "        while j < len(R): \n",
        "            arr[k] = R[j] \n",
        "            j+=1\n",
        "            k+=1"
      ],
      "execution_count": 294,
      "outputs": [
        {
          "output_type": "stream",
          "text": [
            "time: 24.2 ms\n"
          ],
          "name": "stdout"
        }
      ]
    },
    {
      "cell_type": "code",
      "metadata": {
        "id": "LmYuqY5TMA3c",
        "colab_type": "code",
        "colab": {
          "base_uri": "https://localhost:8080/",
          "height": 34
        },
        "outputId": "1ad2604e-7c44-4c0b-aad4-c192ec1b0b23"
      },
      "source": [
        "import copy\n",
        "\n",
        "def Kruskal(G):\n",
        "  A = Graph(G.Lv, [])\n",
        "  mergeSort(G.Le) # sort list of edges by weight\n",
        "  for e in (edges for edges in G.Le if len(A.Le) < len(G.Lv)):\n",
        "    tempG = copy.deepcopy(A)\n",
        "    if connectionCheck(tempG, (e.v1), (e.v2)) == False:\n",
        "      A.Le.append(e)\n",
        "  return A"
      ],
      "execution_count": 295,
      "outputs": [
        {
          "output_type": "stream",
          "text": [
            "time: 9.3 ms\n"
          ],
          "name": "stdout"
        }
      ]
    },
    {
      "cell_type": "markdown",
      "metadata": {
        "id": "bKA1bBbIJLXt",
        "colab_type": "text"
      },
      "source": [
        "# **TEST**"
      ]
    },
    {
      "cell_type": "code",
      "metadata": {
        "id": "mJnz0_sKiFA0",
        "colab_type": "code",
        "outputId": "dfa006bf-db48-479a-b908-892f5b46ef44",
        "colab": {
          "base_uri": "https://localhost:8080/",
          "height": 34
        }
      },
      "source": [
        "#import pandas as pd\n",
        "#df = pd.read_csv('input_random_2_10.txt')\n",
        "#print(df)"
      ],
      "execution_count": 296,
      "outputs": [
        {
          "output_type": "stream",
          "text": [
            "time: 1.1 ms\n"
          ],
          "name": "stdout"
        }
      ]
    },
    {
      "cell_type": "code",
      "metadata": {
        "id": "vkwKpkwZJKYA",
        "colab_type": "code",
        "outputId": "ad4d1c4c-b828-436d-dd69-cb6078e04a3f",
        "colab": {
          "base_uri": "https://localhost:8080/",
          "height": 51
        }
      },
      "source": [
        "result = Graph([], [])\n",
        "result.buildGraph(open(\"input_random_35_1000.txt\", \"r\"))\n",
        "temp = Kruskal(result)\n",
        "MST = 0\n",
        "for e in temp.Le:\n",
        "  MST += e.weight\n",
        "  #print(e.v1, e.v2, e.weight)\n",
        "\n",
        "print(\"MST: \", MST)"
      ],
      "execution_count": 297,
      "outputs": [
        {
          "output_type": "stream",
          "text": [
            "MST:  -2266377\n",
            "time: 1min 1s\n"
          ],
          "name": "stdout"
        }
      ]
    }
  ]
}