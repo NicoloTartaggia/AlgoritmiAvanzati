{
  "nbformat": 4,
  "nbformat_minor": 0,
  "metadata": {
    "colab": {
      "name": "colab-github-demo.ipynb",
      "provenance": [],
      "collapsed_sections": [],
      "toc_visible": true,
      "include_colab_link": true
    },
    "kernelspec": {
      "display_name": "Python 3",
      "name": "python3"
    }
  },
  "cells": [
    {
      "cell_type": "markdown",
      "metadata": {
        "id": "view-in-github",
        "colab_type": "text"
      },
      "source": [
        "<a href=\"https://colab.research.google.com/github/cipz/AlgoritmiAvanzati/blob/master/Homework1/kruskal_naive.ipynb\" target=\"_parent\"><img src=\"https://colab.research.google.com/assets/colab-badge.svg\" alt=\"Open In Colab\"/></a>"
      ]
    },
    {
      "cell_type": "code",
      "metadata": {
        "id": "foqQ3nJR30ow",
        "colab_type": "code",
        "outputId": "afb71bcf-47f2-49b3-9fdd-59e0537aa340",
        "colab": {
          "base_uri": "https://localhost:8080/",
          "height": 85
        }
      },
      "source": [
        "!pip install ipython-autotime\n",
        "\n",
        "%load_ext autotime"
      ],
      "execution_count": 407,
      "outputs": [
        {
          "output_type": "stream",
          "text": [
            "Requirement already satisfied: ipython-autotime in /usr/local/lib/python3.6/dist-packages (0.1)\n",
            "The autotime extension is already loaded. To reload it, use:\n",
            "  %reload_ext autotime\n",
            "time: 3.01 s\n"
          ],
          "name": "stdout"
        }
      ]
    },
    {
      "cell_type": "code",
      "metadata": {
        "id": "TWlgodglguds",
        "colab_type": "code",
        "outputId": "a66a608f-0369-4561-b50c-42423f31d3d7",
        "colab": {
          "base_uri": "https://localhost:8080/",
          "height": 34
        }
      },
      "source": [
        "from collections import defaultdict\n",
        "class Graph:\n",
        "\n",
        "  def __init__(self, n):\n",
        "    self.n = n # number of vertexes\n",
        "    self.Le = [] # list of edges\n",
        "    self.adj = defaultdict(list) # adjacent list\n",
        "\n",
        "  def addEdge(self, u, v):\n",
        "    self.adj[u].append(v)\n",
        "    self.adj[v].append(u)\n",
        "\n",
        "  # BFS based function to check if t is reachable from s. \n",
        "  def isConnected(self, s, t):\n",
        "    visited = [False] * (self.n) # Mark all the vertices as not visited \n",
        "    queue = [] # Create a queue for BFS \n",
        "    queue.append(s) # Mark the source node as visited and enqueue it\n",
        "    visited[s] = True\n",
        "    while queue:\n",
        "      n = queue.pop(0)\n",
        "      if n == t: # If this adjacent node is the destination node then return true \n",
        "        return True\n",
        "      for i in self.adj[n]:\n",
        "        if visited[i] == False:\n",
        "          queue.append(i)\n",
        "          visited[i] = True\n",
        "    return False # If BFS is complete without visited d \n",
        "\n",
        "  def buildGraph(self, input):\n",
        "    for line in lines:\n",
        "        info = list(map(int, line.split())) # Convert all the strings deriving from split to int\n",
        "        self.Le.append(Edge(info[0]-1, info[1]-1, info[2]))\n",
        "        self.addEdge(info[0]-1, info[1]-1)\n",
        "\n",
        "class Edge:\n",
        "\n",
        "  def __init__(self, u, v, w):\n",
        "    self.v1 = u\n",
        "    self.v2 = v\n",
        "    self.weight = w"
      ],
      "execution_count": 408,
      "outputs": [
        {
          "output_type": "stream",
          "text": [
            "time: 24 ms\n"
          ],
          "name": "stdout"
        }
      ]
    },
    {
      "cell_type": "code",
      "metadata": {
        "id": "xNFsZqsTGlNC",
        "colab_type": "code",
        "outputId": "0bb0d704-6aec-4625-8db4-6596c72331c5",
        "colab": {
          "base_uri": "https://localhost:8080/",
          "height": 34
        }
      },
      "source": [
        "def mergeSort(arr): \n",
        "    if len(arr) > 1: \n",
        "        mid = len(arr)//2 #Finding the mid of the array \n",
        "        L = arr[:mid] # Dividing the array elements  \n",
        "        R = arr[mid:] # into 2 halves \n",
        "        mergeSort(L) # Sorting the first half \n",
        "        mergeSort(R) # Sorting the second half \n",
        "        i = j = k = 0\n",
        "        # Copy data to temp arrays L[] and R[] \n",
        "        while i < len(L) and j < len(R): \n",
        "            if L[i].weight < R[j].weight: \n",
        "                arr[k] = L[i] \n",
        "                i+=1\n",
        "            else: \n",
        "                arr[k] = R[j] \n",
        "                j+=1\n",
        "            k+=1\n",
        "        # Checking if any element was left \n",
        "        while i < len(L): \n",
        "            arr[k] = L[i] \n",
        "            i+=1\n",
        "            k+=1\n",
        "        while j < len(R): \n",
        "            arr[k] = R[j] \n",
        "            j+=1\n",
        "            k+=1"
      ],
      "execution_count": 409,
      "outputs": [
        {
          "output_type": "stream",
          "text": [
            "time: 14 ms\n"
          ],
          "name": "stdout"
        }
      ]
    },
    {
      "cell_type": "code",
      "metadata": {
        "id": "LZBpUmY_bLtf",
        "colab_type": "code",
        "outputId": "7786d196-0109-4f9a-d7c5-30ea21abe627",
        "colab": {
          "base_uri": "https://localhost:8080/",
          "height": 34
        }
      },
      "source": [
        "def Kruskal(G):\n",
        "  sum = 0\n",
        "  A = Graph(G.n)\n",
        "  mergeSort(G.Le) # sort list of edges by weight\n",
        "  for e in G.Le:\n",
        "    if A.isConnected((e.v1), (e.v2)) == False:\n",
        "      A.addEdge((e.v1), (e.v2))\n",
        "      sum += e.weight\n",
        "  return sum"
      ],
      "execution_count": 410,
      "outputs": [
        {
          "output_type": "stream",
          "text": [
            "time: 4.56 ms\n"
          ],
          "name": "stdout"
        }
      ]
    },
    {
      "cell_type": "code",
      "metadata": {
        "id": "aZeC8fZHihGe",
        "colab_type": "code",
        "outputId": "adab6850-71c6-4489-a7b7-2c1db112a298",
        "colab": {
          "base_uri": "https://localhost:8080/",
          "height": 51
        }
      },
      "source": [
        "lines = open(\"input_random_48_8000.txt\", \"r\").readlines()\n",
        "n = lines[0].split()[0] # Extract number of vertexes\n",
        "result = Graph(int(n))\n",
        "lines.pop(0)\n",
        "result.buildGraph(lines)\n",
        " \n",
        "temp = Kruskal(result)\n",
        "print(\"MST: \", temp)"
      ],
      "execution_count": 411,
      "outputs": [
        {
          "output_type": "stream",
          "text": [
            "MST:  -18097759\n",
            "time: 7.3 s\n"
          ],
          "name": "stdout"
        }
      ]
    }
  ]
}