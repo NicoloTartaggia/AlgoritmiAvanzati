{
  "nbformat": 4,
  "nbformat_minor": 0,
  "metadata": {
    "colab": {
      "name": "colab-github-demo.ipynb",
      "provenance": [],
      "collapsed_sections": [],
      "include_colab_link": true
    },
    "kernelspec": {
      "display_name": "Python 3",
      "name": "python3"
    }
  },
  "cells": [
    {
      "cell_type": "markdown",
      "metadata": {
        "id": "view-in-github",
        "colab_type": "text"
      },
      "source": [
        "<a href=\"https://colab.research.google.com/github/cipz/AlgoritmiAvanzati/blob/master/Homework1/kruskal_naive.ipynb\" target=\"_parent\"><img src=\"https://colab.research.google.com/assets/colab-badge.svg\" alt=\"Open In Colab\"/></a>"
      ]
    },
    {
      "cell_type": "code",
      "metadata": {
        "id": "Yw1P-fGoc3NY",
        "colab_type": "code",
        "colab": {}
      },
      "source": [
        "class Graph:\n",
        "  def __init__(self, lv, le, li):\n",
        "    self.Lv = lv\n",
        "    self.Le = le\n",
        "    self.Li = li\n",
        "\n",
        "  def incidentEdges(self, v):\n",
        "    iEdges = []\n",
        "    for e in self.Le :\n",
        "      if e.v1 == v or e.v2 == v :\n",
        "        iEdges.append(e)\n",
        "    return iEdges\n",
        "\n",
        "  def opposite(self, v, e):\n",
        "    if e.v1 == v :\n",
        "      return e.v2\n",
        "    elif e.v2 == v :\n",
        "      return e.v1\n",
        "    else :\n",
        "      raise ValueError('Error: v or e not exists')\n",
        "\n",
        "class Vertex:\n",
        "  def __init__(self, id, p):\n",
        "    self.ID = id\n",
        "    self.parent = p\n",
        "\n",
        "class Edge:\n",
        "  def __init__(self, u, v):\n",
        "    self.v1 = u\n",
        "    self.v2 = v\n",
        "    self.label = \"NULL\""
      ],
      "execution_count": 0,
      "outputs": []
    },
    {
      "cell_type": "code",
      "metadata": {
        "id": "kfL4luB1khep",
        "colab_type": "code",
        "colab": {}
      },
      "source": [
        "lv = [Vertex(0, \"NULL\"), Vertex(0, \"NULL\"), Vertex(0, \"NULL\"), Vertex(0, \"NULL\")]\n",
        "le = [Edge(0, 1), Edge(0, 2), Edge(1, 2), Edge(1, 3), Edge(2, 3)]\n",
        "\n",
        "li = {\n",
        "    0: [1, 2],\n",
        "    1: [0, 2],\n",
        "    2: [0, 1],\n",
        "    3: [1, 2]\n",
        "}\n",
        "\n",
        "newG = Graph(lv, le, li)"
      ],
      "execution_count": 0,
      "outputs": []
    },
    {
      "cell_type": "code",
      "metadata": {
        "id": "ZgL2jCOkbR2b",
        "colab_type": "code",
        "colab": {
          "base_uri": "https://localhost:8080/",
          "height": 34
        },
        "outputId": "6e5fd265-acf4-470c-fcf3-75d2935c5bdf"
      },
      "source": [
        "'''\n",
        "li = defaultdict(dict)\n",
        "li[n][m] = w'''"
      ],
      "execution_count": 187,
      "outputs": [
        {
          "output_type": "execute_result",
          "data": {
            "text/plain": [
              "'\\nli = defaultdict(dict)\\nli[n][m] = w'"
            ]
          },
          "metadata": {
            "tags": []
          },
          "execution_count": 187
        }
      ]
    },
    {
      "cell_type": "code",
      "metadata": {
        "id": "4792LXUSaNkv",
        "colab_type": "code",
        "colab": {}
      },
      "source": [
        "def DFS(G, v):\n",
        "  G.Lv[v].ID = 1\n",
        "  for e in G.incidentEdges(v):\n",
        "    if e.label == \"NULL\" :\n",
        "      w = G.opposite(v, e)\n",
        "      if G.Lv[w].ID == 0 :\n",
        "        e.label = \"DISCOVERY EDGE\"\n",
        "        DFS(G, w)\n",
        "      else :\n",
        "        e.label = \"BACK EDGE\""
      ],
      "execution_count": 0,
      "outputs": []
    },
    {
      "cell_type": "code",
      "metadata": {
        "id": "9PEqRv0osgaL",
        "colab_type": "code",
        "colab": {
          "base_uri": "https://localhost:8080/",
          "height": 34
        },
        "outputId": "f3c32b59-b6ca-43ea-d41d-a05c298557cc"
      },
      "source": [
        "DFS(newG, 0)\n",
        "print(newG.Le[4].label)"
      ],
      "execution_count": 189,
      "outputs": [
        {
          "output_type": "stream",
          "text": [
            "DISCOVERY EDGE\n"
          ],
          "name": "stdout"
        }
      ]
    }
  ]
}