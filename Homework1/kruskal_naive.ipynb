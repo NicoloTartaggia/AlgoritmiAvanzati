{
  "nbformat": 4,
  "nbformat_minor": 0,
  "metadata": {
    "colab": {
      "name": "colab-github-demo.ipynb",
      "provenance": [],
      "collapsed_sections": [],
      "include_colab_link": true
    },
    "kernelspec": {
      "display_name": "Python 3",
      "name": "python3"
    }
  },
  "cells": [
    {
      "cell_type": "markdown",
      "metadata": {
        "id": "view-in-github",
        "colab_type": "text"
      },
      "source": [
        "<a href=\"https://colab.research.google.com/github/cipz/AlgoritmiAvanzati/blob/master/Homework1/kruskal_naive.ipynb\" target=\"_parent\"><img src=\"https://colab.research.google.com/assets/colab-badge.svg\" alt=\"Open In Colab\"/></a>"
      ]
    },
    {
      "cell_type": "code",
      "metadata": {
        "id": "Yw1P-fGoc3NY",
        "colab_type": "code",
        "colab": {}
      },
      "source": [
        "class Graph:\n",
        "  def __init__(self, lv, le, li):\n",
        "    self.Lv = lv\n",
        "    self.Le = le\n",
        "    self.Li = li\n",
        "\n",
        "  def incidentEdges(self, v):\n",
        "    return self.Li[v]\n",
        "\n",
        "  def opposite(self, v, e):\n",
        "    if self.Le[e].v1 == v :\n",
        "      return self.Le[e].v2\n",
        "    elif self.Le[e].v2 == v :\n",
        "      return self.Le[e].v1\n",
        "    else :\n",
        "      raise ValueError('Error: v or e not exists')\n",
        "\n",
        "class Vertex:\n",
        "  def __init__(self, id, p):\n",
        "    self.ID = id\n",
        "    self.parent = p\n",
        "\n",
        "class Edge:\n",
        "  def __init__(self, u, v):\n",
        "    self.v1 = u\n",
        "    self.v2 = v\n",
        "    self.label = \"NULL\""
      ],
      "execution_count": 0,
      "outputs": []
    },
    {
      "cell_type": "code",
      "metadata": {
        "id": "kfL4luB1khep",
        "colab_type": "code",
        "colab": {
          "base_uri": "https://localhost:8080/",
          "height": 34
        },
        "outputId": "a7ecc6b4-c639-4b21-b7ce-98af9ad44a3e"
      },
      "source": [
        "lv = [Vertex(0, \"NULL\"), Vertex(0, \"NULL\"), Vertex(0, \"NULL\")]\n",
        "le = [Edge(0, 1), Edge(0, 2), Edge(1, 2)]\n",
        "\n",
        "li = {\n",
        "    0: [1, 2],\n",
        "    1: [2],\n",
        "    2: [1, 0],\n",
        "}\n",
        "\n",
        "newG = Graph(lv, le, li)\n",
        "\n",
        "print(newG.opposite(2, 2))"
      ],
      "execution_count": 46,
      "outputs": [
        {
          "output_type": "stream",
          "text": [
            "1\n"
          ],
          "name": "stdout"
        }
      ]
    },
    {
      "cell_type": "code",
      "metadata": {
        "id": "ZgL2jCOkbR2b",
        "colab_type": "code",
        "colab": {
          "base_uri": "https://localhost:8080/",
          "height": 34
        },
        "outputId": "4d47c647-8a36-42d2-afe9-70608ad3f088"
      },
      "source": [
        "'''\n",
        "li = defaultdict(dict)\n",
        "li[n][m] = w'''"
      ],
      "execution_count": 47,
      "outputs": [
        {
          "output_type": "execute_result",
          "data": {
            "text/plain": [
              "'\\nli = defaultdict(dict)\\nli[n][m] = w'"
            ]
          },
          "metadata": {
            "tags": []
          },
          "execution_count": 47
        }
      ]
    },
    {
      "cell_type": "code",
      "metadata": {
        "id": "4792LXUSaNkv",
        "colab_type": "code",
        "colab": {}
      },
      "source": [
        "#def DFS(Graph, v)\n"
      ],
      "execution_count": 0,
      "outputs": []
    }
  ]
}