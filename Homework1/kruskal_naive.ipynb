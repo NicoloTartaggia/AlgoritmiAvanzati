{
  "nbformat": 4,
  "nbformat_minor": 0,
  "metadata": {
    "colab": {
      "name": "colab-github-demo.ipynb",
      "provenance": [],
      "collapsed_sections": [],
      "toc_visible": true,
      "include_colab_link": true
    },
    "kernelspec": {
      "display_name": "Python 3",
      "name": "python3"
    }
  },
  "cells": [
    {
      "cell_type": "markdown",
      "metadata": {
        "id": "view-in-github",
        "colab_type": "text"
      },
      "source": [
        "<a href=\"https://colab.research.google.com/github/cipz/AlgoritmiAvanzati/blob/master/Homework1/kruskal_naive.ipynb\" target=\"_parent\"><img src=\"https://colab.research.google.com/assets/colab-badge.svg\" alt=\"Open In Colab\"/></a>"
      ]
    },
    {
      "cell_type": "code",
      "metadata": {
        "id": "foqQ3nJR30ow",
        "colab_type": "code",
        "outputId": "c7f60b9d-1d51-47c6-cafb-6ddae7821b65",
        "colab": {
          "base_uri": "https://localhost:8080/",
          "height": 84
        }
      },
      "source": [
        "!pip install ipython-autotime\n",
        "\n",
        "%load_ext autotime"
      ],
      "execution_count": 7,
      "outputs": [
        {
          "output_type": "stream",
          "text": [
            "Requirement already satisfied: ipython-autotime in /usr/local/lib/python3.6/dist-packages (0.1)\n",
            "The autotime extension is already loaded. To reload it, use:\n",
            "  %reload_ext autotime\n",
            "time: 2.91 s\n"
          ],
          "name": "stdout"
        }
      ]
    },
    {
      "cell_type": "code",
      "metadata": {
        "id": "TWlgodglguds",
        "colab_type": "code",
        "outputId": "7f8362d8-2d8f-4d55-f0a8-0f44272a23ab",
        "colab": {
          "base_uri": "https://localhost:8080/",
          "height": 34
        }
      },
      "source": [
        "from collections import defaultdict\n",
        "class Graph:\n",
        "  def __init__(self, n):\n",
        "    self.n = n # number of vertexes\n",
        "    self.Le = [] # list of edges\n",
        "    self.adj = defaultdict(list) # adjacent list\n",
        "\n",
        "  def addEdge(self, u, v):\n",
        "    self.adj[u].append(v)\n",
        "    self.adj[v].append(u)\n",
        "\n",
        "  # BFS based function to check if t is reachable from s\n",
        "  def isConnected(self, s, t):\n",
        "    visited = [False] * (self.n) # mark all the vertices as not visited \n",
        "    queue = [] # create a queue for BFS \n",
        "    queue.append(s) # mark the source node as visited and enqueue it\n",
        "    visited[s] = True\n",
        "    while queue:\n",
        "      n = queue.pop(0)\n",
        "      if n == t: # if this adjacent node is the destination node then return true \n",
        "        return True\n",
        "      for i in self.adj[n]:\n",
        "        if visited[i] == False:\n",
        "          queue.append(i)\n",
        "          visited[i] = True\n",
        "    return False # if BFS is complete without visited t\n",
        "\n",
        "  def buildGraph(self, input):\n",
        "    for line in input:\n",
        "        info = list(map(int, line.split())) # convert all the strings deriving from split to int\n",
        "        self.Le.append(Edge(info[0]-1, info[1]-1, info[2]))\n",
        "        self.addEdge(info[0]-1, info[1]-1)\n",
        "\n",
        "class Edge:\n",
        "  def __init__(self, u, v, w):\n",
        "    self.v1 = u\n",
        "    self.v2 = v\n",
        "    self.weight = w"
      ],
      "execution_count": 8,
      "outputs": [
        {
          "output_type": "stream",
          "text": [
            "time: 22.6 ms\n"
          ],
          "name": "stdout"
        }
      ]
    },
    {
      "cell_type": "code",
      "metadata": {
        "id": "xNFsZqsTGlNC",
        "colab_type": "code",
        "outputId": "fd1a5650-4839-4048-dc48-ea3bda95da91",
        "colab": {
          "base_uri": "https://localhost:8080/",
          "height": 34
        }
      },
      "source": [
        "def mergeSort(arr): \n",
        "    if len(arr) > 1: \n",
        "        mid = len(arr)//2 \n",
        "        L = arr[:mid] # dividing the array elements into 2 halves \n",
        "        R = arr[mid:]\n",
        "        mergeSort(L) # sorting the first half \n",
        "        mergeSort(R) # sorting the second half \n",
        "        i = j = k = 0\n",
        "        # copy data to temp arrays L[] and R[] \n",
        "        while i < len(L) and j < len(R): \n",
        "            if L[i].weight < R[j].weight: \n",
        "                arr[k] = L[i] \n",
        "                i+=1\n",
        "            else: \n",
        "                arr[k] = R[j] \n",
        "                j+=1\n",
        "            k+=1\n",
        "        while i < len(L): \n",
        "            arr[k] = L[i] \n",
        "            i+=1\n",
        "            k+=1\n",
        "        while j < len(R): \n",
        "            arr[k] = R[j] \n",
        "            j+=1\n",
        "            k+=1"
      ],
      "execution_count": 9,
      "outputs": [
        {
          "output_type": "stream",
          "text": [
            "time: 14.9 ms\n"
          ],
          "name": "stdout"
        }
      ]
    },
    {
      "cell_type": "code",
      "metadata": {
        "id": "LZBpUmY_bLtf",
        "colab_type": "code",
        "outputId": "10ff40b9-a052-4f94-88f9-dbca0eb92ccd",
        "colab": {
          "base_uri": "https://localhost:8080/",
          "height": 34
        }
      },
      "source": [
        "def Kruskal(G):\n",
        "  sum = 0\n",
        "  A = Graph(G.n)\n",
        "  mergeSort(G.Le) # sort list of edges by weight\n",
        "  for e in G.Le:\n",
        "    if A.isConnected((e.v1), (e.v2)) == False:\n",
        "      A.addEdge((e.v1), (e.v2))\n",
        "      sum += e.weight\n",
        "  return sum"
      ],
      "execution_count": 10,
      "outputs": [
        {
          "output_type": "stream",
          "text": [
            "time: 3.94 ms\n"
          ],
          "name": "stdout"
        }
      ]
    },
    {
      "cell_type": "code",
      "metadata": {
        "id": "aZeC8fZHihGe",
        "colab_type": "code",
        "outputId": "a8ea78dc-9b64-4d87-b532-878c50df792a",
        "colab": {
          "base_uri": "https://localhost:8080/",
          "height": 50
        }
      },
      "source": [
        "lines = open(\"input_random_36_1000.txt\", \"r\").readlines()\n",
        "n = lines[0].split()[0] # extract number of vertexes\n",
        "result = Graph(int(n))\n",
        "lines.pop(0)\n",
        "result.buildGraph(lines)\n",
        " \n",
        "temp = Kruskal(result)\n",
        "print(\"MST: \", temp)"
      ],
      "execution_count": 11,
      "outputs": [
        {
          "output_type": "stream",
          "text": [
            "MST:  -2359192\n",
            "time: 128 ms\n"
          ],
          "name": "stdout"
        }
      ]
    }
  ]
}