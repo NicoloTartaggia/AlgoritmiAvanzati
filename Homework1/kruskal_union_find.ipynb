{
  "nbformat": 4,
  "nbformat_minor": 0,
  "metadata": {
    "colab": {
      "name": "colab-github-demo.ipynb",
      "provenance": [],
      "collapsed_sections": [],
      "include_colab_link": true
    },
    "kernelspec": {
      "display_name": "Python 3",
      "name": "python3"
    }
  },
  "cells": [
    {
      "cell_type": "markdown",
      "metadata": {
        "id": "view-in-github",
        "colab_type": "text"
      },
      "source": [
        "<a href=\"https://colab.research.google.com/github/cipz/AlgoritmiAvanzati/blob/kruskal_union_find/Homework1/kruskal_union_find.ipynb\" target=\"_parent\"><img src=\"https://colab.research.google.com/assets/colab-badge.svg\" alt=\"Open In Colab\"/></a>"
      ]
    },
    {
      "cell_type": "code",
      "metadata": {
        "id": "qH8qJ26o-eyT",
        "colab_type": "code",
        "colab": {}
      },
      "source": [
        "import pandas as pd\n",
        "import time"
      ],
      "execution_count": 0,
      "outputs": []
    },
    {
      "cell_type": "code",
      "metadata": {
        "id": "7CxuBLr8UuCU",
        "colab_type": "code",
        "colab": {}
      },
      "source": [
        "class UnionFind:\n",
        "\n",
        "    parents = list()\n",
        "    rank = list()\n",
        "\n",
        "    def __init__(self, x):\n",
        "\n",
        "        self.parents = [-1] * len(x)\n",
        "        self.rank = [1] * len(x)\n",
        "\n",
        "        for i in range(0, len(x)):\n",
        "            self.parents[i] = i\n",
        "\n",
        "    def Union(self, x, y):    \n",
        "        xRoot = self.Find(self.parents[x])\n",
        "        yRoot = self.Find(self.parents[y])\n",
        "            \n",
        "        # if both element in same sets\n",
        "        if xRoot == yRoot:\n",
        "            return\n",
        "            \n",
        "        # both elements not in the same sets, merge them\n",
        "        # if rank of elements are different\n",
        "        if self.rank[xRoot] < self.rank[yRoot]:\n",
        "            # merge xRoot into yRoot\n",
        "            self.parents[xRoot] = yRoot\n",
        "            self.rank[yRoot] += self.rank[xRoot]\n",
        "        else:\n",
        "            # merge yRoot into xRoot\n",
        "            self.parents[yRoot] = xRoot\n",
        "            self.rank[xRoot] += self.rank[yRoot]\n",
        "                \n",
        "            # # if both elements have equal rank\n",
        "            # if self.rank[xRoot] == self.rank[yRoot]:\n",
        "            #     self.rank[xRoot] += 1\n",
        "\n",
        "    def Find(self, x):\n",
        "        if self.parents[x] != x:\n",
        "            self.parents[x] = self.Find(self.parents[x])\n",
        "        return self.parents[x]\n"
      ],
      "execution_count": 0,
      "outputs": []
    },
    {
      "cell_type": "code",
      "metadata": {
        "id": "-n-KcdIxk6pt",
        "colab_type": "code",
        "colab": {}
      },
      "source": [
        "def mergeSort(arr): \n",
        "    if len(arr) > 1: \n",
        "        mid = len(arr)//2 #Finding the mid of the array \n",
        "        L = arr[:mid] # Dividing the array elements  \n",
        "        R = arr[mid:] # into 2 halves \n",
        "  \n",
        "        mergeSort(L) # Sorting the first half \n",
        "        mergeSort(R) # Sorting the second half \n",
        "  \n",
        "        i = j = k = 0\n",
        "          \n",
        "        # Copy data to temp arrays L[] and R[] \n",
        "        while i < len(L) and j < len(R): \n",
        "            if L[i].weight < R[j].weight: \n",
        "                arr[k] = L[i] \n",
        "                i+=1\n",
        "            else: \n",
        "                arr[k] = R[j] \n",
        "                j+=1\n",
        "            k+=1\n",
        "          \n",
        "        # Checking if any element was left \n",
        "        while i < len(L): \n",
        "            arr[k] = L[i] \n",
        "            i+=1\n",
        "            k+=1\n",
        "          \n",
        "        while j < len(R): \n",
        "            arr[k] = R[j] \n",
        "            j+=1\n",
        "            k+=1"
      ],
      "execution_count": 0,
      "outputs": []
    },
    {
      "cell_type": "code",
      "metadata": {
        "id": "FyMt-iCARvSo",
        "colab_type": "code",
        "colab": {}
      },
      "source": [
        "class Graph:\n",
        "\n",
        "    def __init__(self, lv, le):\n",
        "        self.Lv = lv\n",
        "        self.Le = le\n",
        "    \n",
        "    def buildGraph(self, input):\n",
        "        lines = input.readlines()\n",
        "        n = lines[0].split()[0] # Extract number of vertexes\n",
        "        for i in range(0, int(n)):\n",
        "            self.Lv.append(Vertex(0, \"NULL\"))\n",
        "        lines.pop(0) \n",
        "        for line in lines:\n",
        "            info = list(map(int, line.split())) # Convert all the strings deriving from split to int\n",
        "            self.Le.append(Edge(info[0]-1, info[1]-1, info[2]))\n",
        "            \n",
        "class Vertex:\n",
        "\n",
        "    def __init__(self, id, p):\n",
        "        self.ID = id\n",
        "        self.parent = p\n",
        "\n",
        "class Edge:\n",
        "\n",
        "    def __init__(self, u, v, w):\n",
        "        self.v1 = u\n",
        "        self.v2 = v\n",
        "        self.weight = w\n",
        "        self.label = \"NULL\"\n"
      ],
      "execution_count": 0,
      "outputs": []
    },
    {
      "cell_type": "code",
      "metadata": {
        "id": "Y9nJ5QKhUEmr",
        "colab_type": "code",
        "colab": {}
      },
      "source": [
        "def Kruskal(G):\n",
        "    start = time.time()\n",
        "    A = Graph([], [])\n",
        "    U = UnionFind(G.Lv)\n",
        "    mergeSort(G.Le) # sort list of edges by weight\n",
        "    for e in G.Le:\n",
        "        \n",
        "        if U.Find(e.v1) != U.Find(e.v2):\n",
        "            A.Le.append(e)\n",
        "            U.Union(e.v1, e.v2)\n",
        "    print(\"Kruskal exec time: \", time.time() - start)\n",
        "    return A"
      ],
      "execution_count": 0,
      "outputs": []
    },
    {
      "cell_type": "code",
      "metadata": {
        "id": "2d1S6dr09z0P",
        "colab_type": "code",
        "outputId": "cfd21e7b-d733-4155-a2c1-b2b9eac23a3b",
        "colab": {
          "base_uri": "https://localhost:8080/",
          "height": 72
        }
      },
      "source": [
        "start = time.time()\n",
        "\n",
        "result = Graph([], [])\n",
        "result.buildGraph(open(\"input_random_68_100000.txt\", \"r\"))\n",
        "temp = Kruskal(result)\n",
        "MST = 0\n",
        "for e in temp.Le:\n",
        "    MST += e.weight\n",
        "    # print(e.v1, e.v2, e.weight)\n",
        "\n",
        "print(\"MST: \", MST)\n",
        "\n",
        "print(\"Total exec time: \", time.time() - start)"
      ],
      "execution_count": 71,
      "outputs": [
        {
          "output_type": "stream",
          "text": [
            "Kruskal exec time:  1.6571319103240967\n",
            "MST:  -229263767\n",
            "Total exec time:  2.4047176837921143\n"
          ],
          "name": "stdout"
        }
      ]
    }
  ]
}