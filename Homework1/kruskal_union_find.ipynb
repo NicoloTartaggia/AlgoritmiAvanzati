{
 "nbformat": 4,
 "nbformat_minor": 0,
 "metadata": {
  "colab": {
   "name": "colab-github-demo.ipynb",
   "provenance": [],
   "collapsed_sections": [],
   "include_colab_link": true
  },
  "kernelspec": {
   "name": "python3",
   "language": "python",
   "display_name": "Python 3"
  }
 },
 "cells": [
  {
   "cell_type": "markdown",
   "metadata": {
    "id": "view-in-github",
    "colab_type": "text"
   },
   "source": [
    "<a href=\"https://colab.research.google.com/github/cipz/AlgoritmiAvanzati/blob/kruskal_union_find/Homework1/kruskal_union_find.ipynb\" target=\"_parent\"><img src=\"https://colab.research.google.com/assets/colab-badge.svg\" alt=\"Open In Colab\"/></a>"
   ]
  },
  {
   "cell_type": "code",
   "metadata": {
    "id": "qH8qJ26o-eyT",
    "colab_type": "code",
    "colab": {}
   },
   "source": [
    "!pip install ipython-autotime\n",
    "\n",
    "%load_ext autotime"
   ],
   "execution_count": 2,
   "outputs": [
    {
     "name": "stdout",
     "output_type": "stream",
     "text": [
      "Requirement already satisfied: ipython-autotime in c:\\users\\cip\\appdata\\local\\programs\\python\\python38\\lib\\site-packages (0.1)\n"
     ]
    }
   ]
  },
  {
   "cell_type": "code",
   "execution_count": null,
   "outputs": [],
   "source": [
    "import time\n",
    "import os\n",
    "\n",
    "from graph import *\n",
    "from utils import *"
   ],
   "metadata": {
    "collapsed": false,
    "pycharm": {
     "name": "#%%\n"
    }
   }
  },
  {
   "cell_type": "code",
   "metadata": {
    "id": "7CxuBLr8UuCU",
    "colab_type": "code",
    "colab": {}
   },
   "source": [
    "class UnionFind:\n",
    "\n",
    "    def __init__(self, x):\n",
    "        self.parents = [-1] * len(x)\n",
    "        self.rank = [1] * len(x)\n",
    "\n",
    "        for i in range(0, len(x)):\n",
    "            self.parents[i] = i\n",
    "\n",
    "    def Union(self, x, y):    \n",
    "        xRoot = self.Find(self.parents[x])\n",
    "        yRoot = self.Find(self.parents[y])\n",
    "            \n",
    "        # if both element in same sets\n",
    "        if xRoot == yRoot:\n",
    "            return\n",
    "            \n",
    "        # both elements not in the same sets, merge them\n",
    "        # if rank of elements are different\n",
    "        if self.rank[xRoot] < self.rank[yRoot]:\n",
    "            # merge xRoot into yRoot\n",
    "            self.parents[xRoot] = yRoot\n",
    "            self.rank[yRoot] += self.rank[xRoot]\n",
    "        else:\n",
    "            # merge yRoot into xRoot\n",
    "            self.parents[yRoot] = xRoot\n",
    "            self.rank[xRoot] += self.rank[yRoot]\n",
    "                \n",
    "            # # if both elements have equal rank\n",
    "            # if self.rank[xRoot] == self.rank[yRoot]:\n",
    "            #     self.rank[xRoot] += 1\n",
    "\n",
    "    def Find(self, x):\n",
    "        if self.parents[x] != x:\n",
    "            self.parents[x] = self.Find(self.parents[x])\n",
    "        return self.parents[x]"
   ],
   "execution_count": 3,
   "outputs": [
    {
     "name": "stdout",
     "output_type": "stream",
     "text": [
      "time: 4 ms\n"
     ]
    }
   ]
  },
  {
   "cell_type": "code",
   "metadata": {
    "id": "Y9nJ5QKhUEmr",
    "colab_type": "code",
    "colab": {},
    "pycharm": {
     "name": "#%%\n"
    }
   },
   "source": [
    "def KruskalUF(G):\n",
    "    start = time.time()\n",
    "    A = Graph([], [])\n",
    "    U = UnionFind(G.Lv)\n",
    "    mergeSort(G.Le)\n",
    "    MST = 0\n",
    "    for e in G.Le:\n",
    "        if U.Find(e.v1) != U.Find(e.v2):\n",
    "            A.Le.append(e)\n",
    "            U.Union(e.v1, e.v2)\n",
    "            MST += e.weight\n",
    "\n",
    "    return A, MST, time.time() - start"
   ],
   "execution_count": 4,
   "outputs": [
    {
     "name": "stdout",
     "output_type": "stream",
     "text": [
      "time: 5 ms\n"
     ]
    }
   ]
  },
  {
   "cell_type": "code",
   "execution_count": 5,
   "outputs": [
    {
     "name": "stdout",
     "output_type": "stream",
     "text": [
      "Current file:  input_random_01_10.txt\n",
      "time: 46 ms\n"
     ]
    },
    {
     "ename": "TypeError",
     "evalue": "__init__() takes 2 positional arguments but 3 were given",
     "output_type": "error",
     "traceback": [
      "\u001B[1;31m---------------------------------------------------------------------------\u001B[0m",
      "\u001B[1;31mTypeError\u001B[0m                                 Traceback (most recent call last)",
      "\u001B[1;32m<ipython-input-5-5182c0ac8b80>\u001B[0m in \u001B[0;36m<module>\u001B[1;34m\u001B[0m\n\u001B[0;32m      4\u001B[0m \u001B[1;33m\u001B[0m\u001B[0m\n\u001B[0;32m      5\u001B[0m     \u001B[0mstart\u001B[0m \u001B[1;33m=\u001B[0m \u001B[0mtime\u001B[0m\u001B[1;33m.\u001B[0m\u001B[0mtime\u001B[0m\u001B[1;33m(\u001B[0m\u001B[1;33m)\u001B[0m\u001B[1;33m\u001B[0m\u001B[1;33m\u001B[0m\u001B[0m\n\u001B[1;32m----> 6\u001B[1;33m     \u001B[0mresult\u001B[0m \u001B[1;33m=\u001B[0m \u001B[0mGraph\u001B[0m\u001B[1;33m(\u001B[0m\u001B[1;33m[\u001B[0m\u001B[1;33m]\u001B[0m\u001B[1;33m,\u001B[0m \u001B[1;33m[\u001B[0m\u001B[1;33m]\u001B[0m\u001B[1;33m)\u001B[0m\u001B[1;33m\u001B[0m\u001B[1;33m\u001B[0m\u001B[0m\n\u001B[0m\u001B[0;32m      7\u001B[0m     \u001B[0mresult\u001B[0m\u001B[1;33m.\u001B[0m\u001B[0mbuildGraph\u001B[0m\u001B[1;33m(\u001B[0m\u001B[0mopen\u001B[0m\u001B[1;33m(\u001B[0m\u001B[1;34m\"dataset/\"\u001B[0m \u001B[1;33m+\u001B[0m \u001B[0mf\u001B[0m\u001B[1;33m,\u001B[0m \u001B[1;34m\"r\"\u001B[0m\u001B[1;33m)\u001B[0m\u001B[1;33m)\u001B[0m\u001B[1;33m\u001B[0m\u001B[1;33m\u001B[0m\u001B[0m\n\u001B[0;32m      8\u001B[0m     \u001B[0mA\u001B[0m\u001B[1;33m,\u001B[0m \u001B[0mMST\u001B[0m\u001B[1;33m,\u001B[0m \u001B[0mKUFtime\u001B[0m \u001B[1;33m=\u001B[0m \u001B[0mKruskalUF\u001B[0m\u001B[1;33m(\u001B[0m\u001B[0mresult\u001B[0m\u001B[1;33m)\u001B[0m\u001B[1;33m\u001B[0m\u001B[1;33m\u001B[0m\u001B[0m\n",
      "\u001B[1;31mTypeError\u001B[0m: __init__() takes 2 positional arguments but 3 were given"
     ]
    }
   ],
   "source": [
    "files = os.listdir(\"dataset\")\n",
    "for f in files:\n",
    "    print(\"Current file: \",  f)\n",
    "\n",
    "    start = time.time()\n",
    "    result = Graph([], [])\n",
    "    result.buildGraph(open(\"dataset/\" + f, \"r\"))\n",
    "    A, MST, KUFtime = KruskalUF(result)\n",
    "\n",
    "    print(\"Kruskal exec time: \", KUFtime)\n",
    "    print(\"MST: \", MST)\n",
    "    print(\"Total exec time for current file: \", time.time() - start)\n",
    "    print(\"\\n---------------------------------------------------------------\\n\")"
   ],
   "metadata": {
    "collapsed": false,
    "pycharm": {
     "name": "#%%\n"
    }
   }
  }
 ]
}