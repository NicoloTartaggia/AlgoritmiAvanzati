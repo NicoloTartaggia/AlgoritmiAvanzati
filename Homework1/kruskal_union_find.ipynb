{
 "nbformat": 4,
 "nbformat_minor": 0,
 "metadata": {
  "colab": {
   "name": "colab-github-demo.ipynb",
   "provenance": [],
   "collapsed_sections": [],
   "include_colab_link": true
  },
  "kernelspec": {
   "name": "python3",
   "language": "python",
   "display_name": "Python 3"
  }
 },
 "cells": [
  {
   "cell_type": "markdown",
   "source": [
    "<a href=\"https://colab.research.google.com/github/cipz/AlgoritmiAvanzati/blob/kruskal_union_find/Homework1/kruskal_union_find.ipynb\" target=\"_parent\"><img src=\"https://colab.research.google.com/assets/colab-badge.svg\" alt=\"Open In Colab\"/></a>"
   ],
   "metadata": {
    "collapsed": false
   }
  },
  {
   "cell_type": "markdown",
   "source": [
    "#Kruskal algorithm with Union Find implementation"
   ],
   "metadata": {
    "collapsed": false,
    "pycharm": {
     "name": "#%% md\n"
    }
   }
  },
  {
   "cell_type": "code",
   "execution_count": 39,
   "outputs": [
    {
     "name": "stdout",
     "output_type": "stream",
     "text": [
      "Requirement already satisfied: ipython-autotime in c:\\users\\cip\\appdata\\local\\programs\\python\\python38\\lib\\site-packages (0.1)The autotime extension is already loaded. To reload it, use:\n",
      "\n",
      "  %reload_ext autotime\n",
      "time: 1.22 s\n"
     ]
    },
    {
     "name": "stderr",
     "output_type": "stream",
     "text": [
      "WARNING: You are using pip version 20.0.2; however, version 20.1 is available.\n",
      "You should consider upgrading via the 'c:\\users\\cip\\appdata\\local\\programs\\python\\python38\\python.exe -m pip install --upgrade pip' command.\n"
     ]
    }
   ],
   "source": [
    "!pip install ipython-autotime\n",
    "\n",
    "%load_ext autotime"
   ],
   "metadata": {
    "collapsed": false,
    "pycharm": {
     "name": "#%%\n"
    }
   }
  },
  {
   "cell_type": "markdown",
   "source": [
    "##Definition of Edge and Graph objects for graph manipluation"
   ],
   "metadata": {
    "collapsed": false,
    "pycharm": {
     "name": "#%% md\n"
    }
   }
  },
  {
   "cell_type": "code",
   "metadata": {
    "id": "7CxuBLr8UuCU",
    "colab_type": "code",
    "colab": {}
   },
   "source": [
    "class Graph:\n",
    "\n",
    "    def __init__(self, lv, le):\n",
    "        self.Lv = lv\n",
    "        self.Le = le\n",
    "\n",
    "    def buildGraph(self, input):\n",
    "        lines = input.readlines()\n",
    "        n = lines[0].split()[0]  # Extract number of vertexes\n",
    "        for i in range(0, int(n)):\n",
    "            self.Lv.append(Vertex(0, \"NULL\"))\n",
    "        lines.pop(0)\n",
    "        for line in lines:\n",
    "            info = list(map(int, line.split()))  # Convert all the strings deriving from split to int\n",
    "            self.Le.append(Edge(info[0] - 1, info[1] - 1, info[2]))\n",
    "\n",
    "class Vertex:\n",
    "\n",
    "    def __init__(self, id, p):\n",
    "        self.ID = id\n",
    "        self.parent = p\n",
    "\n",
    "\n",
    "class Edge:\n",
    "\n",
    "    def __init__(self, u, v, w):\n",
    "        self.v1 = u\n",
    "        self.v2 = v\n",
    "        self.weight = w\n",
    "        self.label = \"NULL\""
   ],
   "execution_count": 40,
   "outputs": [
    {
     "name": "stdout",
     "output_type": "stream",
     "text": [
      "time: 5 ms\n"
     ]
    }
   ]
  },
  {
   "cell_type": "markdown",
   "source": [
    "#MergeSort implementation"
   ],
   "metadata": {
    "collapsed": false,
    "pycharm": {
     "name": "#%% md\n"
    }
   }
  },
  {
   "cell_type": "code",
   "execution_count": 41,
   "outputs": [
    {
     "name": "stdout",
     "output_type": "stream",
     "text": [
      "time: 4 ms\n"
     ]
    }
   ],
   "source": [
    "def mergeSort(arr):\n",
    "    if len(arr) > 1:\n",
    "        mid = len(arr) // 2  # Finding the mid of the array\n",
    "        L = arr[:mid]  # Dividing the array elements\n",
    "        R = arr[mid:]  # into 2 halves\n",
    "\n",
    "        mergeSort(L)  # Sorting the first half\n",
    "        mergeSort(R)  # Sorting the second half\n",
    "\n",
    "        i = j = k = 0\n",
    "\n",
    "        # Copy data to temp arrays L[] and R[]\n",
    "        while i < len(L) and j < len(R):\n",
    "            if L[i].weight < R[j].weight:\n",
    "                arr[k] = L[i]\n",
    "                i += 1\n",
    "            else:\n",
    "                arr[k] = R[j]\n",
    "                j += 1\n",
    "            k += 1\n",
    "\n",
    "        # Checking if any element was left\n",
    "        while i < len(L):\n",
    "            arr[k] = L[i]\n",
    "            i += 1\n",
    "            k += 1\n",
    "\n",
    "        while j < len(R):\n",
    "            arr[k] = R[j]\n",
    "            j += 1\n",
    "            k += 1\n"
   ],
   "metadata": {
    "collapsed": false,
    "pycharm": {
     "name": "#%%\n"
    }
   }
  },
  {
   "cell_type": "markdown",
   "source": [
    "##Definition of Union Find data structure"
   ],
   "metadata": {
    "collapsed": false
   }
  },
  {
   "cell_type": "code",
   "source": [
    "\n",
    "class UnionFind:\n",
    "\n",
    "    def __init__(self, x):\n",
    "        self.parents = [-1] * len(x)\n",
    "        self.rank = [1] * len(x)\n",
    "\n",
    "        for i in range(0, len(x)):\n",
    "            self.parents[i] = i\n",
    "\n",
    "    def Union(self, x, y):    \n",
    "        xRoot = self.Find(self.parents[x])\n",
    "        yRoot = self.Find(self.parents[y])\n",
    "            \n",
    "        # if both element in same sets\n",
    "        if xRoot == yRoot:\n",
    "            return\n",
    "            \n",
    "        # both elements not in the same sets, merge them\n",
    "        # if rank of elements are different\n",
    "        if self.rank[xRoot] < self.rank[yRoot]:\n",
    "            # merge xRoot into yRoot\n",
    "            self.parents[xRoot] = yRoot\n",
    "            self.rank[yRoot] += self.rank[xRoot]\n",
    "        else:\n",
    "            # merge yRoot into xRoot\n",
    "            self.parents[yRoot] = xRoot\n",
    "            self.rank[xRoot] += self.rank[yRoot]\n",
    "\n",
    "    def Find(self, x):\n",
    "        if self.parents[x] != x:\n",
    "            self.parents[x] = self.Find(self.parents[x])\n",
    "        return self.parents[x]"
   ],
   "metadata": {
    "collapsed": false,
    "pycharm": {
     "name": "#%%\n"
    }
   },
   "execution_count": 42,
   "outputs": [
    {
     "name": "stdout",
     "output_type": "stream",
     "text": [
      "time: 6 ms\n"
     ]
    }
   ]
  },
  {
   "cell_type": "markdown",
   "metadata": {
    "id": "Y9nJ5QKhUEmr",
    "colab_type": "code",
    "colab": {},
    "pycharm": {
     "name": "#%% md\n"
    }
   },
   "source": [
    "#KruskalUF algorithm"
   ]
  },
  {
   "cell_type": "code",
   "execution_count": 43,
   "outputs": [
    {
     "name": "stdout",
     "output_type": "stream",
     "text": [
      "time: 2 ms\n"
     ]
    }
   ],
   "source": [
    "def KruskalUF(G):\n",
    "    start = time.time()\n",
    "    A = Graph([], [])\n",
    "    U = UnionFind(G.Lv)\n",
    "    mergeSort(G.Le)\n",
    "    MST = 0\n",
    "    for e in G.Le:\n",
    "        if U.Find(e.v1) != U.Find(e.v2):\n",
    "            A.Le.append(e)\n",
    "            U.Union(e.v1, e.v2)\n",
    "            MST += e.weight\n",
    "\n",
    "    return A, MST, time.time() - start"
   ],
   "metadata": {
    "collapsed": false,
    "pycharm": {
     "name": "#%%\n"
    }
   }
  },
  {
   "cell_type": "markdown",
   "source": [
    "#Main"
   ],
   "metadata": {
    "collapsed": false,
    "pycharm": {
     "name": "#%% md\n"
    }
   }
  },
  {
   "cell_type": "code",
   "execution_count": 44,
   "outputs": [
    {
     "name": "stdout",
     "output_type": "stream",
     "text": [
      "0.0 \n",
      "0.0 \n",
      "0.001007080078125 \n",
      "0.0 \n",
      "0.0009980201721191406 \n",
      "0.0 \n",
      "0.0 \n",
      "0.0 \n",
      "0.0010180473327636719 \n",
      "0.0 \n",
      "0.0010004043579101562 \n",
      "0.0009963512420654297 \n",
      "0.0020279884338378906 \n",
      "0.0009794235229492188 \n",
      "0.0009992122650146484 \n",
      "0.0009953975677490234 \n",
      "0.0010006427764892578 \n",
      "0.0010001659393310547 \n",
      "0.0009989738464355469 \n",
      "0.0009982585906982422 \n",
      "0.0019998550415039062 \n",
      "0.0020003318786621094 \n",
      "0.001998424530029297 \n",
      "0.002001523971557617 \n",
      "0.004997968673706055 \n",
      "0.004999637603759766 \n",
      "0.004004716873168945 \n",
      "0.003999471664428711 \n",
      "0.00899958610534668 \n",
      "0.008995294570922852 \n",
      "0.009004592895507812 \n",
      "0.009975671768188477 \n",
      "0.011969804763793945 \n",
      "0.011993408203125 \n",
      "0.01199960708618164 \n",
      "0.011949539184570312 \n",
      "0.0300600528717041 \n",
      "0.025941133499145508 \n",
      "0.025931596755981445 \n",
      "0.025944232940673828 \n",
      "0.05787301063537598 \n",
      "0.05899810791015625 \n",
      "0.05395984649658203 \n",
      "0.05407404899597168 \n",
      "0.12504148483276367 \n",
      "0.11899662017822266 \n",
      "0.12399601936340332 \n",
      "0.1360015869140625 \n",
      "0.15309786796569824 \n",
      "0.15404868125915527 \n",
      "0.17587065696716309 \n",
      "0.15105104446411133 \n",
      "0.3320040702819824 \n",
      "0.35598134994506836 \n",
      "0.331937313079834 \n",
      "0.34805798530578613 \n",
      "0.8599429130554199 \n",
      "0.6969320774078369 \n",
      "0.7190027236938477 \n",
      "0.7089464664459229 \n",
      "1.4899513721466064 \n",
      "1.600965976715088 \n",
      "1.664865493774414 \n",
      "1.749997854232788 \n",
      "1.9120752811431885 \n",
      "1.9979541301727295 \n",
      "1.956000566482544 \n",
      "1.97804856300354 \n",
      "time: 31.3 s\n"
     ]
    }
   ],
   "source": [
    "import time\n",
    "import os\n",
    "\n",
    "files = os.listdir(\"dataset\")\n",
    "for f in files:\n",
    "\n",
    "    start = time.time()\n",
    "    result = Graph([], [])\n",
    "    result.buildGraph(open(\"dataset/\" + f, \"r\"))\n",
    "    A, MST, KUFtime = KruskalUF(result)\n",
    "\n",
    "    print(KUFtime, \"\")\n"
   ],
   "metadata": {
    "collapsed": false,
    "pycharm": {
     "name": "#%%\n"
    }
   }
  }
 ]
}