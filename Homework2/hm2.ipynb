{
 "cells": [
  {
   "cell_type": "markdown",
   "source": [
    "# TSP - Traveling Salesman Problem"
   ],
   "metadata": {
    "collapsed": false,
    "pycharm": {
     "name": "#%% md\n"
    }
   }
  },
  {
   "cell_type": "code",
   "execution_count": 163,
   "outputs": [],
   "source": [
    "import math\n",
    "import copy\n",
    "import time\n",
    "import numpy as np"
   ],
   "metadata": {
    "collapsed": false,
    "pycharm": {
     "name": "#%%\n"
    }
   }
  },
  {
   "cell_type": "markdown",
   "source": [
    "## Auxiliary methods"
   ],
   "metadata": {
    "collapsed": false,
    "pycharm": {
     "name": "#%% md\n"
    }
   }
  },
  {
   "cell_type": "code",
   "execution_count": 164,
   "outputs": [],
   "source": [
    "def import_dataset(path: str):\n",
    "    \"\"\"\n",
    "    :param path: path to the dataset\n",
    "    :return: numbers of vertexes, weight type, list of vertexes with tag and coordinates\n",
    "    \"\"\"\n",
    "    lines = open(path, \"r\").read().split(\"\\n\")\n",
    "\n",
    "    cont = 0\n",
    "    dim, wt, v = 0, \"\", []\n",
    "    while not lines[cont].startswith(\"NODE_COORD_SECTION\"):\n",
    "        if lines[cont].startswith(\"DIMENSION\"):\n",
    "            dim = int(lines[cont].split(\":\")[1][1:])\n",
    "        elif lines[cont].startswith(\"EDGE_WEIGHT_TYPE\"):\n",
    "            wt = lines[cont].split(\":\")[1][1:]\n",
    "        cont += 1\n",
    "    cont += 1\n",
    "\n",
    "    for i in range(cont, len(lines)):\n",
    "        line = lines[i].split()\n",
    "        if len(line) < 3: # Skip EOF\n",
    "            break\n",
    "        tag, x, y = int(line[0]) - 1, float(line[1]), float(line[2])\n",
    "        v.append((tag, [x, y])) #(i, [x_value, y_value])\n",
    "\n",
    "    return dim, wt, v"
   ],
   "metadata": {
    "collapsed": false,
    "pycharm": {
     "name": "#%%\n"
    }
   }
  },
  {
   "cell_type": "code",
   "execution_count": 165,
   "outputs": [],
   "source": [
    "def weight (u, v):\n",
    "    \"\"\"\n",
    "    :param u: vertex u\n",
    "    :param v: vertex v\n",
    "    :return: euclidean or geographical distance between u and v\n",
    "    \"\"\"\n",
    "    if weight_type == \"EUC_2D\": # Euclidean distance\n",
    "        return round(math.sqrt(sum([(a - b) ** 2 for a, b in zip(u, v)])))\n",
    "    else: # Geographical distance\n",
    "        PI = 3.141592\n",
    "        deg_xu = int(u[0])\n",
    "        min_xu = u[0] - deg_xu\n",
    "        rad_xu = PI * (deg_xu + 5.0 * min_xu/ 3.0) / 180.0\n",
    "\n",
    "        deg_yu = int(u[1])\n",
    "        min_yu = u[1] - deg_yu\n",
    "        rad_yu = PI * (deg_yu + 5.0 * min_yu/ 3.0) / 180.0\n",
    "\n",
    "        deg_xv = int(v[0])\n",
    "        min_xv = v[0] - deg_xv\n",
    "        rad_xv= PI * (deg_xv + 5.0 * min_xv/ 3.0) / 180.0\n",
    "\n",
    "        deg_yv = int(v[1])\n",
    "        min_yv = v[1]- deg_yv\n",
    "        rad_yv = PI * (deg_yv + 5.0 * min_yv/ 3.0) / 180.0\n",
    "\n",
    "        RRR = 6378.388\n",
    "        q1 = math.cos(rad_yu - rad_yv)\n",
    "        q2 = math.cos(rad_xu - rad_xv)\n",
    "        q3 = math.cos(rad_xu + rad_xv)\n",
    "        return int(RRR * math.acos(0.5 * ((1.0 + q1) * q2 - (1.0 - q1) * q3)) + 1.0)"
   ],
   "metadata": {
    "collapsed": false,
    "pycharm": {
     "name": "#%%\n"
    }
   }
  },
  {
   "cell_type": "markdown",
   "source": [
    "## Held and Karp algorithm"
   ],
   "metadata": {
    "collapsed": false,
    "pycharm": {
     "name": "#%% md\n"
    }
   }
  },
  {
   "cell_type": "code",
   "execution_count": 166,
   "outputs": [],
   "source": [
    "# Build a unique identifier for the subset S, joining the indexes of the vertexes with a blank space between them\n",
    "def encode(S):\n",
    "  encoded_string = \"\"\n",
    "  for s in S:\n",
    "    encoded_string += \" \" + str(s[0])\n",
    "  return encoded_string"
   ],
   "metadata": {
    "collapsed": false,
    "pycharm": {
     "name": "#%%\n"
    }
   }
  },
  {
   "cell_type": "code",
   "execution_count": 167,
   "outputs": [],
   "source": [
    "start = time.time()\n",
    "def held_karp (v, S): # v: arrival vertex of S starting from 0, S: subset of vertexes\n",
    "  S_index = subsets[encode(S)] # Build a unique identifier for the subset S\n",
    "  if (time.time() - start) > 180: # Max time: 3 min\n",
    "    return None\n",
    "  elif (len(S) == 1) & (S[0][0] == v): # Base case: the solution is the weight of the edge {v, 0}\n",
    "    return weight(vertexes[v][1], vertexes[0][1])\n",
    "  elif d[v, S_index] != 0: # Distance already computed\n",
    "    return d[v, S_index]\n",
    "  else:  # Recursive case: find the minimum among all the sub-paths\n",
    "    mindist = math.inf\n",
    "    minprec = None\n",
    "    subset = [i for i in S if i[0] != v] # S \\ {v}\n",
    "    if encode(subset) not in subsets:\n",
    "      global counter\n",
    "      subsets[encode(subset)] = counter\n",
    "      counter += 1\n",
    "    for u in subset:\n",
    "      dist = held_karp(u[0], subset) # Compute the partial result\n",
    "      if dist is None:\n",
    "        break\n",
    "      else:\n",
    "        w = weight(u[1], vertexes[v][1])\n",
    "        if (dist + w) < mindist:\n",
    "          mindist = dist + w\n",
    "          minprec = u[0]\n",
    "    d[v, S_index] = mindist # Update d with the minimum distance\n",
    "    phi[v, S_index] = minprec # Update phi with predecessor of v\n",
    "    return mindist"
   ],
   "metadata": {
    "collapsed": false,
    "pycharm": {
     "name": "#%%\n"
    }
   }
  },
  {
   "cell_type": "markdown",
   "source": [
    "## Constructive heuristic algorithm with nearest neighbor"
   ],
   "metadata": {
    "collapsed": false,
    "pycharm": {
     "name": "#%% md\n"
    }
   }
  },
  {
   "cell_type": "code",
   "execution_count": 168,
   "outputs": [],
   "source": [
    "def closest_vertex(p, V: list):\n",
    "    \"\"\"\n",
    "    :param p: last vertex of the partial path\n",
    "    :param V: list of vertexes not added yet\n",
    "    :return: the closest vertex to p and the distance between them\n",
    "    \"\"\"\n",
    "    min_dist = math.inf\n",
    "    closest = None\n",
    "    for v in V:\n",
    "        dist = weight(p[1], v[1])\n",
    "        if dist < min_dist:\n",
    "            min_dist = dist\n",
    "            closest = v\n",
    "    return closest, min_dist"
   ],
   "metadata": {
    "collapsed": false,
    "pycharm": {
     "name": "#%%\n"
    }
   }
  },
  {
   "cell_type": "code",
   "execution_count": 169,
   "outputs": [],
   "source": [
    "def nearest_neighbor(V: list):\n",
    "    \"\"\"\n",
    "    :param V: list of initial vertexes\n",
    "    :return: TSP shortest path and its cost using Nearest Neighbor construcitve heuristic\n",
    "    \"\"\"\n",
    "    shortest_distance = math.inf\n",
    "    for i in range(0, len(V)):\n",
    "        ''' Initialization '''\n",
    "        unvisited = copy.deepcopy(V)      # Deep copy of V in order to maintain it unchanged\n",
    "        starting_vertex = unvisited[i]    # Starting vertex\n",
    "        partial_path = [starting_vertex]\n",
    "        unvisited.remove(starting_vertex)\n",
    "        total_dist = 0\n",
    "        while len(unvisited) > 0:\n",
    "            ''' Selection '''\n",
    "            closest, dist = closest_vertex(partial_path[-1], unvisited)\n",
    "            ''' Insertion '''\n",
    "            partial_path.append(closest)\n",
    "            unvisited.remove(closest)\n",
    "            total_dist += dist\n",
    "        total_dist += weight(partial_path[-1][1], starting_vertex[1])\n",
    "        partial_path.append(starting_vertex) # Add the starting vertex to close the cycle\n",
    "        if total_dist < shortest_distance: # Saving the shortest path and its cost\n",
    "            shortest_distance = total_dist\n",
    "    return shortest_distance"
   ],
   "metadata": {
    "collapsed": false,
    "pycharm": {
     "name": "#%%\n"
    }
   }
  },
  {
   "cell_type": "markdown",
   "source": [
    "## 2-approx algorithm"
   ],
   "metadata": {
    "collapsed": false,
    "pycharm": {
     "name": "#%% md\n"
    }
   }
  },
  {
   "cell_type": "markdown",
   "source": [
    "## Main"
   ],
   "metadata": {
    "collapsed": false,
    "pycharm": {
     "name": "#%% md\n"
    }
   }
  },
  {
   "cell_type": "code",
   "execution_count": 170,
   "outputs": [],
   "source": [
    "def execute_algs(dataset_name):\n",
    "    print(\"-------------------------------------------------------------------\")\n",
    "    print(\"Executing Held Karp algorithm on {} dataset.\".format(dataset_name))\n",
    "    starting_time = time.time()\n",
    "    held_karp_value = held_karp(0, vertexes)\n",
    "    held_karp_time = '%.5f'%(time.time() - starting_time)\n",
    "    print(\"Best solution found in {} seconds : {}\".format(held_karp_time, held_karp_value))\n",
    "\n",
    "    print(\"Executing Nearest Neighbor algorithm on {} dataset.\".format(dataset_name))\n",
    "    starting_time = time.time()\n",
    "    nearest_neighbor_value = nearest_neighbor(vertexes)\n",
    "    nearest_neighbor_time = '%.5f'%(time.time() - starting_time)\n",
    "    print(\"Best solution found in {} seconds : {}\".format(nearest_neighbor_time, nearest_neighbor_value))\n",
    "\n",
    "    #print(\"Executing 2-Approximation algorithm on {} dataset.\".format(dataset_name))\n",
    "    #starting_time = time.time()\n",
    "    #two_approximation_value = two_approximation()\n",
    "    #two_approximation_time = '%.5f'%(time.time() - starting_time)\n",
    "    #print(\"Best solution found in {} seconds : {}\".format(two_approximation_time, two_approximation_value))\n",
    "    #print()\n",
    "\n",
    "    held_karp_error = '%.2f'%(((held_karp_value - inputs[dataset_name]) / inputs[dataset_name])*100)\n",
    "    nearest_neighbor_error = '%.2f'%(((nearest_neighbor_value - inputs[dataset_name]) / inputs[dataset_name])*100)\n",
    "    #two_approximation_error = '%.2f'%(((two_approximation_value- optimal_solutions[dataset_name]) / optimal_solutions[dataset_name])*100)\n",
    "\n",
    "    return [\n",
    "            held_karp_value, held_karp_time, held_karp_error,\n",
    "            nearest_neighbor_value, nearest_neighbor_time, nearest_neighbor_error\n",
    "            #two_approximation_value, two_approximation_time, two_approximation_error\n",
    "    ]"
   ],
   "metadata": {
    "collapsed": false,
    "pycharm": {
     "name": "#%%\n"
    }
   }
  },
  {
   "cell_type": "code",
   "execution_count": 171,
   "outputs": [
    {
     "name": "stdout",
     "output_type": "stream",
     "text": [
      "-------------------------------------------------------------------\n",
      "Executing Held Karp algorithm on burma14.tsp dataset.\n",
      "Best solution found in 2.42518 seconds : 3323.0\n",
      "Executing Nearest Neighbor algorithm on burma14.tsp dataset.\n",
      "Best solution found in 0.00415 seconds : 3841\n"
     ]
    }
   ],
   "source": [
    "path= \"tsp_dataset/\"\n",
    "results = []\n",
    "inputs = {\n",
    "    \"burma14.tsp\": 3323\n",
    "    #\"ulysses16.tsp\": 6859,\n",
    "    #\"ulysses22.tsp\": 7013,\n",
    "    #\"eil51.tsp\": 426,\n",
    "    #\"berlin52.tsp\": 7542,\n",
    "    #\"kroD100.tsp\": 21294,\n",
    "    #\"kroA100.tsp\": 21282,\n",
    "    #\"ch150.tsp\": 6528,\n",
    "    #\"gr202.tsp\": 40160,\n",
    "    #\"gr229.tsp\": 134602,\n",
    "    #\"pcb442.tsp\": 50778 ,\n",
    "    #\"d493.tsp\":\t35002,\n",
    "    #\"dsj1000.tsp\":18659688\n",
    "}\n",
    "for dataset_name in inputs.keys():\n",
    "    dimension, weight_type, vertexes = import_dataset(path + dataset_name)\n",
    "    # Held and Karp initialization section\n",
    "    subsets = {} # Dictionary to enumerate the subsets\n",
    "    counter = 0\n",
    "    subsets[encode(vertexes)] = counter # Add the first subset, with all vertexes\n",
    "    counter += 1\n",
    "    d = np.zeros(shape = (dimension, 2 ** (dimension - 1))) # d[v, S]: distance of the TSP starting from 0 to v, passing through al points of S\n",
    "    phi = np.zeros(shape = (dimension, 2 ** (dimension - 1))) # phi[v, S]: predecessor of v\n",
    "\n",
    "    results.append(execute_algs(dataset_name))"
   ],
   "metadata": {
    "collapsed": false,
    "pycharm": {
     "name": "#%%\n"
    }
   }
  },
  {
   "cell_type": "markdown",
   "source": [
    "## Results"
   ],
   "metadata": {
    "collapsed": false,
    "pycharm": {
     "name": "#%% md\n"
    }
   }
  },
  {
   "cell_type": "markdown",
   "source": [
    "## Plotting the results"
   ],
   "metadata": {
    "collapsed": false,
    "pycharm": {
     "name": "#%% md\n"
    }
   }
  }
 ],
 "metadata": {
  "kernelspec": {
   "name": "pycharm-6c910683",
   "language": "python",
   "display_name": "PyCharm (Homework1)"
  },
  "language_info": {
   "codemirror_mode": {
    "name": "ipython",
    "version": 2
   },
   "file_extension": ".py",
   "mimetype": "text/x-python",
   "name": "python",
   "nbconvert_exporter": "python",
   "pygments_lexer": "ipython2",
   "version": "2.7.6"
  }
 },
 "nbformat": 4,
 "nbformat_minor": 0
}