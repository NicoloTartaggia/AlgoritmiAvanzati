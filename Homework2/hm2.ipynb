{
  "nbformat": 4,
  "nbformat_minor": 0,
  "metadata": {
    "kernelspec": {
      "name": "python3",
      "language": "python",
      "display_name": "Python 3"
    },
    "language_info": {
      "codemirror_mode": {
        "name": "ipython",
        "version": 2
      },
      "file_extension": ".py",
      "mimetype": "text/x-python",
      "name": "python",
      "nbconvert_exporter": "python",
      "pygments_lexer": "ipython2",
      "version": "2.7.6"
    },
    "colab": {
      "name": "hm2.ipynb",
      "provenance": [],
      "toc_visible": true
    }
  },
  "cells": [
    {
      "cell_type": "markdown",
      "metadata": {
        "collapsed": false,
        "pycharm": {
          "name": "#%% md\n"
        },
        "id": "Otly7r3rjmJc",
        "colab_type": "text"
      },
      "source": [
        "# TSP - Traveling Salesman Problem"
      ]
    },
    {
      "cell_type": "code",
      "metadata": {
        "pycharm": {
          "name": "#%%\n"
        },
        "id": "EAlYX3eHjmJd",
        "colab_type": "code",
        "colab": {}
      },
      "source": [
        "import math\n",
        "import copy\n",
        "import time\n",
        "import numpy as np\n",
        "\n",
        "from collections import defaultdict"
      ],
      "execution_count": 0,
      "outputs": []
    },
    {
      "cell_type": "markdown",
      "metadata": {
        "collapsed": false,
        "pycharm": {
          "name": "#%% md\n"
        },
        "id": "xdLMNby1jmJi",
        "colab_type": "text"
      },
      "source": [
        "## Auxiliary methods"
      ]
    },
    {
      "cell_type": "code",
      "metadata": {
        "pycharm": {
          "name": "#%%\n"
        },
        "id": "QL3NxLsmjmJi",
        "colab_type": "code",
        "colab": {}
      },
      "source": [
        "def import_dataset(path: str):\n",
        "    \"\"\"\n",
        "    :param path: path to the dataset\n",
        "    :return: numbers of vertexes, weight type, list of vertexes with tag and coordinates\n",
        "    \"\"\"\n",
        "    lines = open(path, \"r\").read().split(\"\\n\")\n",
        "\n",
        "    cont = 0\n",
        "    dim, wt, v = 0, \"\", []\n",
        "    while not lines[cont].startswith(\"NODE_COORD_SECTION\"):\n",
        "        if lines[cont].startswith(\"DIMENSION\"):\n",
        "            dim = int(lines[cont].split(\":\")[1][1:])\n",
        "        elif lines[cont].startswith(\"EDGE_WEIGHT_TYPE\"):\n",
        "            wt = lines[cont].split(\":\")[1][1:]\n",
        "        cont += 1\n",
        "    cont += 1\n",
        "\n",
        "    for i in range(cont, len(lines)):\n",
        "        line = lines[i].split()\n",
        "        if len(line) < 3: # Skip EOF\n",
        "            break\n",
        "        tag, x, y = int(line[0]) - 1, float(line[1]), float(line[2])\n",
        "        v.append((tag, [x, y])) #(i, [x_value, y_value])\n",
        "\n",
        "    return dim, wt, v"
      ],
      "execution_count": 0,
      "outputs": []
    },
    {
      "cell_type": "code",
      "metadata": {
        "pycharm": {
          "name": "#%%\n"
        },
        "id": "You99KstjmJn",
        "colab_type": "code",
        "colab": {}
      },
      "source": [
        "def weight (u, v):\n",
        "    \"\"\"\n",
        "    :param u: vertex u\n",
        "    :param v: vertex v\n",
        "    :return: euclidean or geographical distance between u and v\n",
        "    \"\"\"\n",
        "    if weight_type == \"EUC_2D\": # Euclidean distance\n",
        "        return round(math.sqrt(sum([(a - b) ** 2 for a, b in zip(u, v)])))\n",
        "    else: # Geographical distance\n",
        "        PI = 3.141592\n",
        "        deg_xu = int(u[0])\n",
        "        min_xu = u[0] - deg_xu\n",
        "        rad_xu = PI * (deg_xu + 5.0 * min_xu/ 3.0) / 180.0\n",
        "\n",
        "        deg_yu = int(u[1])\n",
        "        min_yu = u[1] - deg_yu\n",
        "        rad_yu = PI * (deg_yu + 5.0 * min_yu/ 3.0) / 180.0\n",
        "\n",
        "        deg_xv = int(v[0])\n",
        "        min_xv = v[0] - deg_xv\n",
        "        rad_xv= PI * (deg_xv + 5.0 * min_xv/ 3.0) / 180.0\n",
        "\n",
        "        deg_yv = int(v[1])\n",
        "        min_yv = v[1]- deg_yv\n",
        "        rad_yv = PI * (deg_yv + 5.0 * min_yv/ 3.0) / 180.0\n",
        "\n",
        "        RRR = 6378.388\n",
        "        q1 = math.cos(rad_yu - rad_yv)\n",
        "        q2 = math.cos(rad_xu - rad_xv)\n",
        "        q3 = math.cos(rad_xu + rad_xv)\n",
        "        return int(RRR * math.acos(0.5 * ((1.0 + q1) * q2 - (1.0 - q1) * q3)) + 1.0)"
      ],
      "execution_count": 0,
      "outputs": []
    },
    {
      "cell_type": "code",
      "metadata": {
        "pycharm": {
          "name": "#%%\n"
        },
        "id": "9W3sUIZijmJq",
        "colab_type": "code",
        "colab": {}
      },
      "source": [
        "class Node:\n",
        "    def __init__(self, tag: int):\n",
        "        self.tag = tag\n",
        "        self.key = None\n",
        "        self.parent = None\n",
        "        self.isPresent = True\n",
        "        self.index = tag # Track the index of the node in the heap instead of using list.index() method which is O(n)\n",
        "        self.adjacencyList = []\n",
        "\n",
        "class Graph:\n",
        "    def __init__(self):\n",
        "        self.nodes = defaultdict(Node)\n",
        "\n",
        "    def createNodes(self, nums: int):\n",
        "        for i in range(0, nums): # nums+1 in order to cover the last node\n",
        "            self.nodes[i] = Node(i)\n",
        "\n",
        "    def addNode(self, tag:int, adjTag:int, adjCost):\n",
        "        self.nodes[adjTag].adjacencyList.append([self.nodes[tag], adjCost]) # Graph is undirected\n",
        "\n",
        "    def buildGraphTSP(self):\n",
        "        self.createNodes(dimension)\n",
        "        for v in vertexes:\n",
        "            U = copy.deepcopy(vertexes)\n",
        "            U.remove(v)\n",
        "            for u in U:\n",
        "                self.addNode(v[0], u[0], weight(v[1], u[1]))"
      ],
      "execution_count": 0,
      "outputs": []
    },
    {
      "cell_type": "code",
      "metadata": {
        "pycharm": {
          "name": "#%%\n"
        },
        "id": "95JRJ-V2jmJt",
        "colab_type": "code",
        "colab": {}
      },
      "source": [
        "class ArrayHeap(list):\n",
        "    def __init__(self, array):\n",
        "        super().__init__(array)\n",
        "        self.heapSize = len(array)\n",
        "\n",
        "\n",
        "class MinHeap:\n",
        "    def __init__(self, array: list, root: Node):\n",
        "        self.arrayHeap = ArrayHeap(array)\n",
        "        # Check if the root node is not the first\n",
        "        if self.arrayHeap[0] != self.arrayHeap[root.tag]:  # reset the starting node and update all indexes\n",
        "            rootNode = self.arrayHeap[root.tag]\n",
        "            self.arrayHeap.remove(rootNode)\n",
        "            self.arrayHeap.insert(0, rootNode)\n",
        "            for i in range(0, self.arrayHeap.heapSize):\n",
        "                self.arrayHeap[i].index = i\n",
        "\n",
        "    # All the following methods work with zero based array. Hence, we need to handle separately odd and even indexes.\n",
        "    def parent(self, i: int):\n",
        "        if i % 2 == 0:  # even\n",
        "            return i // 2 - 1\n",
        "        else:\n",
        "            return i // 2\n",
        "\n",
        "    def left(self, i):\n",
        "        return 2 * i + 1\n",
        "\n",
        "    def right(self, i):\n",
        "        return 2 * i + 2\n",
        "\n",
        "    # Execution time: O(lg n)\n",
        "    def minHeapify(self, i: int):\n",
        "        l = self.left(i)\n",
        "        r = self.right(i)\n",
        "        if l <= self.arrayHeap.heapSize - 1 and self.arrayHeap[l].key < self.arrayHeap[i].key:\n",
        "            minimo = l\n",
        "        else:\n",
        "            minimo = i\n",
        "        if r <= self.arrayHeap.heapSize - 1 and self.arrayHeap[r].key < self.arrayHeap[minimo].key:\n",
        "            minimo = r\n",
        "        if minimo != i:\n",
        "            self.arrayHeap[i].index, self.arrayHeap[minimo].index = minimo, i  # Update indexes\n",
        "            self.arrayHeap[i], self.arrayHeap[minimo] = self.arrayHeap[minimo], self.arrayHeap[i]\n",
        "            self.minHeapify(minimo)\n",
        "\n",
        "    def bubbleUp(self, index: int):\n",
        "        parent = self.parent(index)\n",
        "        current = index\n",
        "        while current > 0 and self.arrayHeap[parent].key > self.arrayHeap[current].key:\n",
        "            self.arrayHeap[current].index, self.arrayHeap[parent].index = parent, current  # Update indexes\n",
        "            self.arrayHeap[current], self.arrayHeap[parent] = self.arrayHeap[parent], self.arrayHeap[current]\n",
        "            current = parent\n",
        "            parent = self.parent(parent)\n",
        "\n",
        "    # Execution time: O(lg n)\n",
        "    # First we update the heap structure, then we remove the last element.\n",
        "    def extractMin(self):\n",
        "        if self.arrayHeap.heapSize < 1:\n",
        "            print(\"Error: extractMin underflow\")\n",
        "            return\n",
        "        else:\n",
        "            minimum = self.arrayHeap[0]  # Save the minimum node\n",
        "            self.arrayHeap[0].isPresent = False  # Set its flag to false\n",
        "            # Swap the first node and right most one\n",
        "            self.arrayHeap[0], self.arrayHeap[self.arrayHeap.heapSize - 1] = self.arrayHeap[\n",
        "                                                                                 self.arrayHeap.heapSize - 1], \\\n",
        "                                                                             self.arrayHeap[0]\n",
        "            self.arrayHeap[0].index = 0  # Update its index\n",
        "            self.arrayHeap.heapSize -= 1  # Decreasing heapsize\n",
        "            self.minHeapify(0)  # Call minHeapify in order to move the new first node to the correct position\n",
        "\n",
        "            return minimum"
      ],
      "execution_count": 0,
      "outputs": []
    },
    {
      "cell_type": "markdown",
      "metadata": {
        "collapsed": false,
        "pycharm": {
          "name": "#%% md\n"
        },
        "id": "9bup57DijmJw",
        "colab_type": "text"
      },
      "source": [
        "## Held and Karp algorithm"
      ]
    },
    {
      "cell_type": "code",
      "metadata": {
        "pycharm": {
          "name": "#%%\n"
        },
        "id": "2KlpE7C6jmJx",
        "colab_type": "code",
        "colab": {}
      },
      "source": [
        "def encode(S):\n",
        "    \"\"\"\n",
        "    :param S: set of vertexes S\n",
        "    :return: unique string identifier for S, made joining the indexes of the vertexes with a blank space between them\n",
        "    \"\"\"\n",
        "    encoded_string = \"\"\n",
        "    for s in S:\n",
        "      encoded_string += \" \" + str(s[0])\n",
        "    return encoded_string"
      ],
      "execution_count": 0,
      "outputs": []
    },
    {
      "cell_type": "code",
      "metadata": {
        "pycharm": {
          "name": "#%%\n"
        },
        "id": "xYxi1pkXjmJ1",
        "colab_type": "code",
        "colab": {}
      },
      "source": [
        "def held_karp (v, S, max_time):\n",
        "    \"\"\"\n",
        "    :param v: arrival vertex of S starting from 0\n",
        "    :param S: set of vertexes S\n",
        "    :param max_time: maximum computation time \n",
        "    :return: minimum TSP distance\n",
        "    \"\"\"\n",
        "    S_index = subsets[encode(S)] # build a unique identifier for the subset S\n",
        "    if time.time() > max_time: # max time: 3 min\n",
        "      return None\n",
        "    elif (len(S) == 1) & (S[0][0] == v): # base case: the solution is the weight of the edge {v, 0}\n",
        "      return weight(vertexes[v][1], vertexes[0][1])\n",
        "    elif d[v, S_index] != 0: # distance already computed\n",
        "      return d[v, S_index] \n",
        "    else:  # recursive case: find the minimum among all the sub-paths\n",
        "      mindist = math.inf\n",
        "      minprec = None\n",
        "      subset = [i for i in S if i[0] != v] # S \\ {v} \n",
        "      if encode(subset) not in subsets: \n",
        "        global counter\n",
        "        subsets[encode(subset)] = counter\n",
        "        counter += 1\n",
        "      for u in subset:\n",
        "        dist = held_karp(u[0], subset, max_time) # compute the partial result\n",
        "        if dist is None:\n",
        "          break\n",
        "        else:\n",
        "          w = weight(u[1], vertexes[v][1])\n",
        "          if (dist + w) < mindist:\n",
        "            mindist = dist + w\n",
        "            minprec = u[0]\n",
        "      d[v, S_index] = mindist # update d with the minimum distance\n",
        "      phi[v, S_index] = minprec # update phi with predecessor of v\n",
        "      return mindist"
      ],
      "execution_count": 0,
      "outputs": []
    },
    {
      "cell_type": "markdown",
      "metadata": {
        "collapsed": false,
        "pycharm": {
          "name": "#%% md\n"
        },
        "id": "ceYIjgQPjmJ5",
        "colab_type": "text"
      },
      "source": [
        "## Constructive heuristic algorithm with nearest neighbor"
      ]
    },
    {
      "cell_type": "code",
      "metadata": {
        "pycharm": {
          "name": "#%%\n"
        },
        "id": "4g-PfJkgjmJ6",
        "colab_type": "code",
        "colab": {}
      },
      "source": [
        "def closest_vertex(p, V: list):\n",
        "    \"\"\"\n",
        "    :param p: last vertex of the partial path\n",
        "    :param V: list of vertexes not added yet\n",
        "    :return: the closest vertex to p and the distance between them\n",
        "    \"\"\"\n",
        "    min_dist = math.inf\n",
        "    closest = None\n",
        "    for v in V:\n",
        "        dist = weight(p[1], v[1])\n",
        "        if dist < min_dist:\n",
        "            min_dist = dist\n",
        "            closest = v\n",
        "    return closest, min_dist"
      ],
      "execution_count": 0,
      "outputs": []
    },
    {
      "cell_type": "code",
      "metadata": {
        "pycharm": {
          "name": "#%%\n"
        },
        "id": "_S8t_dUqjmJ9",
        "colab_type": "code",
        "colab": {}
      },
      "source": [
        "def nearest_neighbor(V: list):\n",
        "    \"\"\"\n",
        "    :param V: list of initial vertexes\n",
        "    :return: TSP shortest path and its cost using Nearest Neighbor construcitve heuristic\n",
        "    \"\"\"\n",
        "    starting_time = time.time()\n",
        "    ''' Initialization '''\n",
        "    unvisited = copy.deepcopy(V)      # Deep copy of V in order to maintain it unchanged\n",
        "    starting_vertex = unvisited[0]    # Starting vertex\n",
        "    partial_path = [starting_vertex]\n",
        "    unvisited.remove(starting_vertex)\n",
        "    total_dist = 0\n",
        "    while len(unvisited) > 0:\n",
        "        ''' Selection '''\n",
        "        closest, dist = closest_vertex(partial_path[-1], unvisited)\n",
        "        ''' Insertion '''\n",
        "        partial_path.append(closest)\n",
        "        unvisited.remove(closest)\n",
        "        total_dist += dist\n",
        "    total_dist += weight(partial_path[-1][1], starting_vertex[1])\n",
        "    partial_path.append(starting_vertex) # Add the starting vertex to close the cycle\n",
        "    end_time = time.time()\n",
        "    return total_dist, '%.5f'%(end_time - starting_time)"
      ],
      "execution_count": 0,
      "outputs": []
    },
    {
      "cell_type": "markdown",
      "metadata": {
        "collapsed": false,
        "pycharm": {
          "name": "#%% md\n"
        },
        "id": "RJfEd-_pjmJ_",
        "colab_type": "text"
      },
      "source": [
        "## 2-approx algorithm"
      ]
    },
    {
      "cell_type": "code",
      "metadata": {
        "pycharm": {
          "name": "#%%\n"
        },
        "id": "6IXZQ5YdjmKA",
        "colab_type": "code",
        "colab": {}
      },
      "source": [
        "def two_approximation():\n",
        "\n",
        "    g = Graph()\n",
        "    g.buildGraphTSP()\n",
        "\n",
        "    prim_solution = MSTPrim(g, g.nodes.get(0))\n",
        "\n",
        "    parents = dict()\n",
        "    for i in prim_solution.nodes.values():\n",
        "        parents[i.tag] = i.parent.tag\n",
        "\n",
        "    tree = mst_to_tree(parents)\n",
        "    ham_cycle = preorder(tree, 0)\n",
        "    ham_cycle.append(0)\n",
        "\n",
        "    current_solution = ham_circ_weight(ham_cycle)\n",
        "\n",
        "    return current_solution"
      ],
      "execution_count": 0,
      "outputs": []
    },
    {
      "cell_type": "code",
      "metadata": {
        "pycharm": {
          "name": "#%%\n"
        },
        "id": "rw2A4WbPjmKD",
        "colab_type": "code",
        "colab": {}
      },
      "source": [
        "def MSTPrim(g: Graph, r: Node):\n",
        "\n",
        "    for node in g.nodes.values():\n",
        "        node.key = math.inf # Set key. Parent is already set through Node constructor.\n",
        "        node.parent = r\n",
        "\n",
        "    r.key = 0\n",
        "\n",
        "    q = MinHeap(list(g.nodes.values()), r) # Pass also the root node in order to build the heap starting from it\n",
        "\n",
        "    while q.arrayHeap.heapSize != 0:\n",
        "        u = q.extractMin()\n",
        "        for v in u.adjacencyList:\n",
        "            if v[0].isPresent and v[1] < v[0].key:\n",
        "                v[0].parent = u\n",
        "                v[0].key = v[1]\n",
        "                q.bubbleUp(v[0].index) # bubbleUp maintains the minheap condition\n",
        "\n",
        "    return g"
      ],
      "execution_count": 0,
      "outputs": []
    },
    {
      "cell_type": "code",
      "metadata": {
        "pycharm": {
          "name": "#%%\n"
        },
        "id": "CivWo1zGjmKH",
        "colab_type": "code",
        "colab": {}
      },
      "source": [
        "def preorder(tree, u):\n",
        "\n",
        "    if u not in tree:\n",
        "        return [u]\n",
        "\n",
        "    A = [u]\n",
        "    for v in tree[u] :\n",
        "        if v != u :\n",
        "            A = A + preorder(tree, v)\n",
        "\n",
        "    return A"
      ],
      "execution_count": 0,
      "outputs": []
    },
    {
      "cell_type": "code",
      "metadata": {
        "pycharm": {
          "name": "#%%\n"
        },
        "id": "LfUdNhXvjmKK",
        "colab_type": "code",
        "colab": {}
      },
      "source": [
        "def mst_to_tree(parents):\n",
        "\n",
        "    if len(parents) == 0:\n",
        "        return None\n",
        "\n",
        "    if len(parents) == 1:\n",
        "        nodo, padre = parents.popitem()\n",
        "        return {padre: [nodo]}\n",
        "\n",
        "    nodo, padre = parents.popitem()\n",
        "    tree = mst_to_tree(parents)\n",
        "\n",
        "    if padre in tree:\n",
        "        tree[padre].append(nodo)\n",
        "    else:\n",
        "        tree[padre] = [nodo]\n",
        "\n",
        "    return tree\n"
      ],
      "execution_count": 0,
      "outputs": []
    },
    {
      "cell_type": "code",
      "metadata": {
        "pycharm": {
          "name": "#%%\n"
        },
        "id": "7-pf2fUcjmKM",
        "colab_type": "code",
        "colab": {}
      },
      "source": [
        "def ham_circ_weight(ham_circ):\n",
        "\n",
        "    total_weight = 0\n",
        "    for j in range(1, len(ham_circ)):\n",
        "        i = j - 1\n",
        "        total_weight += weight(vertexes[ham_circ[i]][1], vertexes[ham_circ[j]][1])\n",
        "\n",
        "    return total_weight"
      ],
      "execution_count": 0,
      "outputs": []
    },
    {
      "cell_type": "markdown",
      "metadata": {
        "collapsed": false,
        "pycharm": {
          "name": "#%% md\n"
        },
        "id": "-JWccvb9jmKP",
        "colab_type": "text"
      },
      "source": [
        "## Main"
      ]
    },
    {
      "cell_type": "code",
      "metadata": {
        "pycharm": {
          "name": "#%%\n"
        },
        "id": "Y6gpb0xEjmKQ",
        "colab_type": "code",
        "colab": {}
      },
      "source": [
        "def execute_algs(dataset_name):\n",
        "    print(\"-------------------------------------------------------------------\")\n",
        "    print(\"Executing Held Karp algorithm on {} dataset.\".format(dataset_name))\n",
        "    starting_time = time.time()\n",
        "    max_time = 90\n",
        "    held_karp_value = held_karp(0, vertexes, starting_time + max_time)\n",
        "    held_karp_time = '%.5f'%(time.time() - starting_time)\n",
        "    print(\"Best solution found in {} seconds : {}\".format(held_karp_time, held_karp_value))\n",
        "\n",
        "    print(\"Executing Nearest Neighbor algorithm on {} dataset.\".format(dataset_name))\n",
        "    nearest_neighbor_value, nearest_neighbor_time = nearest_neighbor(vertexes)\n",
        "    print(\"Best solution found in {} seconds : {}\".format(nearest_neighbor_time, nearest_neighbor_value))\n",
        "\n",
        "    print(\"Executing 2-Approximation algorithm on {} dataset.\".format(dataset_name))\n",
        "    starting_time = time.time()\n",
        "    two_approximation_value = two_approximation()\n",
        "    two_approximation_time = '%.5f'%(time.time() - starting_time)\n",
        "    print(\"Best solution found in {} seconds : {}\".format(two_approximation_time, two_approximation_value))\n",
        "    print()\n",
        "\n",
        "    held_karp_error = '%.2f'%(((held_karp_value - inputs[dataset_name]) / inputs[dataset_name])*100)\n",
        "    nearest_neighbor_error = '%.2f'%(((nearest_neighbor_value - inputs[dataset_name]) / inputs[dataset_name])*100)\n",
        "    two_approximation_error = '%.2f'%(((two_approximation_value- inputs[dataset_name]) / inputs[dataset_name])*100)\n",
        "\n",
        "    return [\n",
        "            int(held_karp_value), held_karp_time, held_karp_error,\n",
        "            nearest_neighbor_value, nearest_neighbor_time, nearest_neighbor_error,\n",
        "            two_approximation_value, two_approximation_time, two_approximation_error\n",
        "    ]"
      ],
      "execution_count": 0,
      "outputs": []
    },
    {
      "cell_type": "code",
      "metadata": {
        "pycharm": {
          "name": "#%%\n"
        },
        "id": "eGhFe2najmKT",
        "colab_type": "code",
        "colab": {
          "base_uri": "https://localhost:8080/",
          "height": 425
        },
        "outputId": "25aed8ac-2f92-4e4e-c4b6-687deb6277b6"
      },
      "source": [
        "path= \"tsp_dataset/\"\n",
        "results = []\n",
        "inputs = {\n",
        "    \"burma14.tsp\": 3323,\n",
        "    \"ulysses16.tsp\": 6859,\n",
        "    \"ulysses22.tsp\": 7013,\n",
        "    #\"eil51.tsp\": 426\n",
        "    #\"berlin52.tsp\": 7542\n",
        "    #\"kroD100.tsp\": 21294,\n",
        "    #\"kroA100.tsp\": 21282,\n",
        "    #\"ch150.tsp\": 6528,\n",
        "    #\"gr202.tsp\": 40160,\n",
        "    #\"gr229.tsp\": 134602,\n",
        "    #\"pcb442.tsp\": 50778 ,\n",
        "    #\"d493.tsp\": 35002,\n",
        "    #\"dsj1000.tsp\":18659688\n",
        "}\n",
        "for dataset_name in inputs.keys():\n",
        "    dimension, weight_type, vertexes = import_dataset(path + dataset_name)\n",
        "    # Held and Karp initialization section\n",
        "    subsets = {} # Dictionary to enumerate the subsets\n",
        "    counter = 0\n",
        "    subsets[encode(vertexes)] = counter # Add the first subset, with all vertexes\n",
        "    counter += 1\n",
        "    d = np.zeros(shape = (dimension, 2 ** (dimension - 1))) # d[v, S]: distance of the TSP starting from 0 to v, passing through al points of S\n",
        "    phi = np.zeros(shape = (dimension, 2 ** (dimension - 1))) # phi[v, S]: predecessor of v\n",
        "\n",
        "    results.append(execute_algs(dataset_name))"
      ],
      "execution_count": 342,
      "outputs": [
        {
          "output_type": "stream",
          "text": [
            "-------------------------------------------------------------------\n",
            "Executing Held Karp algorithm on burma14.tsp dataset.\n",
            "Best solution found in 2.46868 seconds : 3323.0\n",
            "Executing Nearest Neighbor algorithm on burma14.tsp dataset.\n",
            "Best solution found in 0.00084 seconds : 4048\n",
            "Executing 2-Approximation algorithm on burma14.tsp dataset.\n",
            "Best solution found in 0.00354 seconds : 4003\n",
            "\n",
            "-------------------------------------------------------------------\n",
            "Executing Held Karp algorithm on ulysses16.tsp dataset.\n",
            "Best solution found in 13.27754 seconds : 6859.0\n",
            "Executing Nearest Neighbor algorithm on ulysses16.tsp dataset.\n",
            "Best solution found in 0.00042 seconds : 9988\n",
            "Executing 2-Approximation algorithm on ulysses16.tsp dataset.\n",
            "Best solution found in 0.00263 seconds : 7788\n",
            "\n",
            "-------------------------------------------------------------------\n",
            "Executing Held Karp algorithm on ulysses22.tsp dataset.\n",
            "Best solution found in 90.00021 seconds : 8194.0\n",
            "Executing Nearest Neighbor algorithm on ulysses22.tsp dataset.\n",
            "Best solution found in 0.00157 seconds : 10586\n",
            "Executing 2-Approximation algorithm on ulysses22.tsp dataset.\n",
            "Best solution found in 0.00693 seconds : 8308\n",
            "\n"
          ],
          "name": "stdout"
        }
      ]
    },
    {
      "cell_type": "code",
      "metadata": {
        "id": "rBaY_ZLHofgc",
        "colab_type": "code",
        "colab": {
          "base_uri": "https://localhost:8080/",
          "height": 169
        },
        "outputId": "baea4cee-376d-4dc0-8b2c-26094d731a11"
      },
      "source": [
        "import pandas as pd\n",
        "header = pd.MultiIndex.from_product([['Held-Karp','Nearest Neighbor','2-Approssimato'], ['Soluzione', 'Tempo (s)', 'Errore (%)']], names=['','Istanza'])\n",
        "table_properties = {'font-size': '10pt','border-color': 'black','border-style' :'solid' ,'border-width': '1px','padding': '5px','text-align': 'center'}\n",
        "header_properties = [{'selector': 'th', 'props': [('font-size', '10pt'),('padding-top', '5px'),('padding-bottom', '5px'),('padding-left', '10px'),('padding-right', '10px'),('border-color', 'black'),('border-style' ,'solid') ,('border-width', '1px')]}]\n",
        "\n",
        "df = pd.DataFrame(results, index=inputs.keys(), columns=header).style.set_properties(**table_properties).set_table_styles(header_properties)\n",
        "df"
      ],
      "execution_count": 343,
      "outputs": [
        {
          "output_type": "execute_result",
          "data": {
            "text/html": [
              "<style  type=\"text/css\" >\n",
              "    #T_95f3296e_a33b_11ea_ad7f_0242ac1c0002 th {\n",
              "          font-size: 10pt;\n",
              "          padding-top: 5px;\n",
              "          padding-bottom: 5px;\n",
              "          padding-left: 10px;\n",
              "          padding-right: 10px;\n",
              "          border-color: black;\n",
              "          border-style: solid;\n",
              "          border-width: 1px;\n",
              "    }    #T_95f3296e_a33b_11ea_ad7f_0242ac1c0002row0_col0 {\n",
              "            font-size:  10pt;\n",
              "            border-color:  black;\n",
              "            border-style:  solid;\n",
              "            border-width:  1px;\n",
              "            padding:  5px;\n",
              "            text-align:  center;\n",
              "        }    #T_95f3296e_a33b_11ea_ad7f_0242ac1c0002row0_col1 {\n",
              "            font-size:  10pt;\n",
              "            border-color:  black;\n",
              "            border-style:  solid;\n",
              "            border-width:  1px;\n",
              "            padding:  5px;\n",
              "            text-align:  center;\n",
              "        }    #T_95f3296e_a33b_11ea_ad7f_0242ac1c0002row0_col2 {\n",
              "            font-size:  10pt;\n",
              "            border-color:  black;\n",
              "            border-style:  solid;\n",
              "            border-width:  1px;\n",
              "            padding:  5px;\n",
              "            text-align:  center;\n",
              "        }    #T_95f3296e_a33b_11ea_ad7f_0242ac1c0002row0_col3 {\n",
              "            font-size:  10pt;\n",
              "            border-color:  black;\n",
              "            border-style:  solid;\n",
              "            border-width:  1px;\n",
              "            padding:  5px;\n",
              "            text-align:  center;\n",
              "        }    #T_95f3296e_a33b_11ea_ad7f_0242ac1c0002row0_col4 {\n",
              "            font-size:  10pt;\n",
              "            border-color:  black;\n",
              "            border-style:  solid;\n",
              "            border-width:  1px;\n",
              "            padding:  5px;\n",
              "            text-align:  center;\n",
              "        }    #T_95f3296e_a33b_11ea_ad7f_0242ac1c0002row0_col5 {\n",
              "            font-size:  10pt;\n",
              "            border-color:  black;\n",
              "            border-style:  solid;\n",
              "            border-width:  1px;\n",
              "            padding:  5px;\n",
              "            text-align:  center;\n",
              "        }    #T_95f3296e_a33b_11ea_ad7f_0242ac1c0002row0_col6 {\n",
              "            font-size:  10pt;\n",
              "            border-color:  black;\n",
              "            border-style:  solid;\n",
              "            border-width:  1px;\n",
              "            padding:  5px;\n",
              "            text-align:  center;\n",
              "        }    #T_95f3296e_a33b_11ea_ad7f_0242ac1c0002row0_col7 {\n",
              "            font-size:  10pt;\n",
              "            border-color:  black;\n",
              "            border-style:  solid;\n",
              "            border-width:  1px;\n",
              "            padding:  5px;\n",
              "            text-align:  center;\n",
              "        }    #T_95f3296e_a33b_11ea_ad7f_0242ac1c0002row0_col8 {\n",
              "            font-size:  10pt;\n",
              "            border-color:  black;\n",
              "            border-style:  solid;\n",
              "            border-width:  1px;\n",
              "            padding:  5px;\n",
              "            text-align:  center;\n",
              "        }    #T_95f3296e_a33b_11ea_ad7f_0242ac1c0002row1_col0 {\n",
              "            font-size:  10pt;\n",
              "            border-color:  black;\n",
              "            border-style:  solid;\n",
              "            border-width:  1px;\n",
              "            padding:  5px;\n",
              "            text-align:  center;\n",
              "        }    #T_95f3296e_a33b_11ea_ad7f_0242ac1c0002row1_col1 {\n",
              "            font-size:  10pt;\n",
              "            border-color:  black;\n",
              "            border-style:  solid;\n",
              "            border-width:  1px;\n",
              "            padding:  5px;\n",
              "            text-align:  center;\n",
              "        }    #T_95f3296e_a33b_11ea_ad7f_0242ac1c0002row1_col2 {\n",
              "            font-size:  10pt;\n",
              "            border-color:  black;\n",
              "            border-style:  solid;\n",
              "            border-width:  1px;\n",
              "            padding:  5px;\n",
              "            text-align:  center;\n",
              "        }    #T_95f3296e_a33b_11ea_ad7f_0242ac1c0002row1_col3 {\n",
              "            font-size:  10pt;\n",
              "            border-color:  black;\n",
              "            border-style:  solid;\n",
              "            border-width:  1px;\n",
              "            padding:  5px;\n",
              "            text-align:  center;\n",
              "        }    #T_95f3296e_a33b_11ea_ad7f_0242ac1c0002row1_col4 {\n",
              "            font-size:  10pt;\n",
              "            border-color:  black;\n",
              "            border-style:  solid;\n",
              "            border-width:  1px;\n",
              "            padding:  5px;\n",
              "            text-align:  center;\n",
              "        }    #T_95f3296e_a33b_11ea_ad7f_0242ac1c0002row1_col5 {\n",
              "            font-size:  10pt;\n",
              "            border-color:  black;\n",
              "            border-style:  solid;\n",
              "            border-width:  1px;\n",
              "            padding:  5px;\n",
              "            text-align:  center;\n",
              "        }    #T_95f3296e_a33b_11ea_ad7f_0242ac1c0002row1_col6 {\n",
              "            font-size:  10pt;\n",
              "            border-color:  black;\n",
              "            border-style:  solid;\n",
              "            border-width:  1px;\n",
              "            padding:  5px;\n",
              "            text-align:  center;\n",
              "        }    #T_95f3296e_a33b_11ea_ad7f_0242ac1c0002row1_col7 {\n",
              "            font-size:  10pt;\n",
              "            border-color:  black;\n",
              "            border-style:  solid;\n",
              "            border-width:  1px;\n",
              "            padding:  5px;\n",
              "            text-align:  center;\n",
              "        }    #T_95f3296e_a33b_11ea_ad7f_0242ac1c0002row1_col8 {\n",
              "            font-size:  10pt;\n",
              "            border-color:  black;\n",
              "            border-style:  solid;\n",
              "            border-width:  1px;\n",
              "            padding:  5px;\n",
              "            text-align:  center;\n",
              "        }    #T_95f3296e_a33b_11ea_ad7f_0242ac1c0002row2_col0 {\n",
              "            font-size:  10pt;\n",
              "            border-color:  black;\n",
              "            border-style:  solid;\n",
              "            border-width:  1px;\n",
              "            padding:  5px;\n",
              "            text-align:  center;\n",
              "        }    #T_95f3296e_a33b_11ea_ad7f_0242ac1c0002row2_col1 {\n",
              "            font-size:  10pt;\n",
              "            border-color:  black;\n",
              "            border-style:  solid;\n",
              "            border-width:  1px;\n",
              "            padding:  5px;\n",
              "            text-align:  center;\n",
              "        }    #T_95f3296e_a33b_11ea_ad7f_0242ac1c0002row2_col2 {\n",
              "            font-size:  10pt;\n",
              "            border-color:  black;\n",
              "            border-style:  solid;\n",
              "            border-width:  1px;\n",
              "            padding:  5px;\n",
              "            text-align:  center;\n",
              "        }    #T_95f3296e_a33b_11ea_ad7f_0242ac1c0002row2_col3 {\n",
              "            font-size:  10pt;\n",
              "            border-color:  black;\n",
              "            border-style:  solid;\n",
              "            border-width:  1px;\n",
              "            padding:  5px;\n",
              "            text-align:  center;\n",
              "        }    #T_95f3296e_a33b_11ea_ad7f_0242ac1c0002row2_col4 {\n",
              "            font-size:  10pt;\n",
              "            border-color:  black;\n",
              "            border-style:  solid;\n",
              "            border-width:  1px;\n",
              "            padding:  5px;\n",
              "            text-align:  center;\n",
              "        }    #T_95f3296e_a33b_11ea_ad7f_0242ac1c0002row2_col5 {\n",
              "            font-size:  10pt;\n",
              "            border-color:  black;\n",
              "            border-style:  solid;\n",
              "            border-width:  1px;\n",
              "            padding:  5px;\n",
              "            text-align:  center;\n",
              "        }    #T_95f3296e_a33b_11ea_ad7f_0242ac1c0002row2_col6 {\n",
              "            font-size:  10pt;\n",
              "            border-color:  black;\n",
              "            border-style:  solid;\n",
              "            border-width:  1px;\n",
              "            padding:  5px;\n",
              "            text-align:  center;\n",
              "        }    #T_95f3296e_a33b_11ea_ad7f_0242ac1c0002row2_col7 {\n",
              "            font-size:  10pt;\n",
              "            border-color:  black;\n",
              "            border-style:  solid;\n",
              "            border-width:  1px;\n",
              "            padding:  5px;\n",
              "            text-align:  center;\n",
              "        }    #T_95f3296e_a33b_11ea_ad7f_0242ac1c0002row2_col8 {\n",
              "            font-size:  10pt;\n",
              "            border-color:  black;\n",
              "            border-style:  solid;\n",
              "            border-width:  1px;\n",
              "            padding:  5px;\n",
              "            text-align:  center;\n",
              "        }</style><table id=\"T_95f3296e_a33b_11ea_ad7f_0242ac1c0002\" ><thead>    <tr>        <th class=\"index_name level0\" ></th>        <th class=\"col_heading level0 col0\" colspan=3>Held-Karp</th>        <th class=\"col_heading level0 col3\" colspan=3>Nearest Neighbor</th>        <th class=\"col_heading level0 col6\" colspan=3>2-Approssimato</th>    </tr>    <tr>        <th class=\"index_name level1\" >Istanza</th>        <th class=\"col_heading level1 col0\" >Soluzione</th>        <th class=\"col_heading level1 col1\" >Tempo (s)</th>        <th class=\"col_heading level1 col2\" >Errore (%)</th>        <th class=\"col_heading level1 col3\" >Soluzione</th>        <th class=\"col_heading level1 col4\" >Tempo (s)</th>        <th class=\"col_heading level1 col5\" >Errore (%)</th>        <th class=\"col_heading level1 col6\" >Soluzione</th>        <th class=\"col_heading level1 col7\" >Tempo (s)</th>        <th class=\"col_heading level1 col8\" >Errore (%)</th>    </tr></thead><tbody>\n",
              "                <tr>\n",
              "                        <th id=\"T_95f3296e_a33b_11ea_ad7f_0242ac1c0002level0_row0\" class=\"row_heading level0 row0\" >burma14.tsp</th>\n",
              "                        <td id=\"T_95f3296e_a33b_11ea_ad7f_0242ac1c0002row0_col0\" class=\"data row0 col0\" >3323</td>\n",
              "                        <td id=\"T_95f3296e_a33b_11ea_ad7f_0242ac1c0002row0_col1\" class=\"data row0 col1\" >2.46868</td>\n",
              "                        <td id=\"T_95f3296e_a33b_11ea_ad7f_0242ac1c0002row0_col2\" class=\"data row0 col2\" >0.00</td>\n",
              "                        <td id=\"T_95f3296e_a33b_11ea_ad7f_0242ac1c0002row0_col3\" class=\"data row0 col3\" >4048</td>\n",
              "                        <td id=\"T_95f3296e_a33b_11ea_ad7f_0242ac1c0002row0_col4\" class=\"data row0 col4\" >0.00084</td>\n",
              "                        <td id=\"T_95f3296e_a33b_11ea_ad7f_0242ac1c0002row0_col5\" class=\"data row0 col5\" >21.82</td>\n",
              "                        <td id=\"T_95f3296e_a33b_11ea_ad7f_0242ac1c0002row0_col6\" class=\"data row0 col6\" >4003</td>\n",
              "                        <td id=\"T_95f3296e_a33b_11ea_ad7f_0242ac1c0002row0_col7\" class=\"data row0 col7\" >0.00354</td>\n",
              "                        <td id=\"T_95f3296e_a33b_11ea_ad7f_0242ac1c0002row0_col8\" class=\"data row0 col8\" >20.46</td>\n",
              "            </tr>\n",
              "            <tr>\n",
              "                        <th id=\"T_95f3296e_a33b_11ea_ad7f_0242ac1c0002level0_row1\" class=\"row_heading level0 row1\" >ulysses16.tsp</th>\n",
              "                        <td id=\"T_95f3296e_a33b_11ea_ad7f_0242ac1c0002row1_col0\" class=\"data row1 col0\" >6859</td>\n",
              "                        <td id=\"T_95f3296e_a33b_11ea_ad7f_0242ac1c0002row1_col1\" class=\"data row1 col1\" >13.27754</td>\n",
              "                        <td id=\"T_95f3296e_a33b_11ea_ad7f_0242ac1c0002row1_col2\" class=\"data row1 col2\" >0.00</td>\n",
              "                        <td id=\"T_95f3296e_a33b_11ea_ad7f_0242ac1c0002row1_col3\" class=\"data row1 col3\" >9988</td>\n",
              "                        <td id=\"T_95f3296e_a33b_11ea_ad7f_0242ac1c0002row1_col4\" class=\"data row1 col4\" >0.00042</td>\n",
              "                        <td id=\"T_95f3296e_a33b_11ea_ad7f_0242ac1c0002row1_col5\" class=\"data row1 col5\" >45.62</td>\n",
              "                        <td id=\"T_95f3296e_a33b_11ea_ad7f_0242ac1c0002row1_col6\" class=\"data row1 col6\" >7788</td>\n",
              "                        <td id=\"T_95f3296e_a33b_11ea_ad7f_0242ac1c0002row1_col7\" class=\"data row1 col7\" >0.00263</td>\n",
              "                        <td id=\"T_95f3296e_a33b_11ea_ad7f_0242ac1c0002row1_col8\" class=\"data row1 col8\" >13.54</td>\n",
              "            </tr>\n",
              "            <tr>\n",
              "                        <th id=\"T_95f3296e_a33b_11ea_ad7f_0242ac1c0002level0_row2\" class=\"row_heading level0 row2\" >ulysses22.tsp</th>\n",
              "                        <td id=\"T_95f3296e_a33b_11ea_ad7f_0242ac1c0002row2_col0\" class=\"data row2 col0\" >8194</td>\n",
              "                        <td id=\"T_95f3296e_a33b_11ea_ad7f_0242ac1c0002row2_col1\" class=\"data row2 col1\" >90.00021</td>\n",
              "                        <td id=\"T_95f3296e_a33b_11ea_ad7f_0242ac1c0002row2_col2\" class=\"data row2 col2\" >16.84</td>\n",
              "                        <td id=\"T_95f3296e_a33b_11ea_ad7f_0242ac1c0002row2_col3\" class=\"data row2 col3\" >10586</td>\n",
              "                        <td id=\"T_95f3296e_a33b_11ea_ad7f_0242ac1c0002row2_col4\" class=\"data row2 col4\" >0.00157</td>\n",
              "                        <td id=\"T_95f3296e_a33b_11ea_ad7f_0242ac1c0002row2_col5\" class=\"data row2 col5\" >50.95</td>\n",
              "                        <td id=\"T_95f3296e_a33b_11ea_ad7f_0242ac1c0002row2_col6\" class=\"data row2 col6\" >8308</td>\n",
              "                        <td id=\"T_95f3296e_a33b_11ea_ad7f_0242ac1c0002row2_col7\" class=\"data row2 col7\" >0.00693</td>\n",
              "                        <td id=\"T_95f3296e_a33b_11ea_ad7f_0242ac1c0002row2_col8\" class=\"data row2 col8\" >18.47</td>\n",
              "            </tr>\n",
              "    </tbody></table>"
            ],
            "text/plain": [
              "<pandas.io.formats.style.Styler at 0x7fb19a009438>"
            ]
          },
          "metadata": {
            "tags": []
          },
          "execution_count": 343
        }
      ]
    },
    {
      "cell_type": "code",
      "metadata": {
        "id": "v-x0ZE-5p8IP",
        "colab_type": "code",
        "colab": {
          "base_uri": "https://localhost:8080/",
          "height": 544
        },
        "outputId": "cdfe4ebd-93c1-4f85-c99f-8048c3762151"
      },
      "source": [
        "\n",
        "res_np=np.array(results, dtype=\"float64\")\n",
        "\n",
        "held_karp_times=res_np[:,1]\n",
        "closest_times=res_np[:,4]\n",
        "two_approximation_times=res_np[:,7]\n",
        "\n",
        "held_karp_errors=res_np[:,2]\n",
        "closest_errors=res_np[:,5]\n",
        "two_approximation_errors=res_np[:,8]\n",
        "\n",
        "import matplotlib.pylab as plt\n",
        "\n",
        "fig, ax = plt.subplots(nrows=1, ncols=2)\n",
        "ax1,ax2=ax\n",
        "\n",
        "fig.set_figwidth(24)\n",
        "fig.set_figheight(8)\n",
        "\n",
        "ax1.plot(list(inputs), held_karp_times)\n",
        "ax1.scatter(list(inputs), held_karp_times)\n",
        "ax1.plot(list(inputs), closest_times)\n",
        "ax1.scatter(list(inputs), closest_times)\n",
        "ax1.plot(list(inputs), two_approximation_times)\n",
        "ax1.scatter(list(inputs), two_approximation_times)\n",
        "\n",
        "ax2.plot(list(inputs), held_karp_errors)\n",
        "ax2.scatter(list(inputs), held_karp_errors)\n",
        "ax2.plot(list(inputs), closest_errors)\n",
        "ax2.scatter(list(inputs), closest_errors)\n",
        "ax2.plot(list(inputs), two_approximation_errors)\n",
        "ax2.scatter(list(inputs), two_approximation_errors)\n",
        "\n",
        "ax1.set_xticklabels(list(inputs),rotation=45)\n",
        "ax2.set_xticklabels(list(inputs),rotation=45)\n",
        "\n",
        "ax1.legend([\"Held and Karp\", \"Nearest Neighbor\",\"2-Approximation\"])\n",
        "ax1.set_title(\"Running Times Comparation\")\n",
        "ax1.set_ylabel(\"Time in seconds\")\n",
        "ax1.set_yscale(\"log\")\n",
        "\n",
        "ax2.set_title(\"Error(%) Comparation\")\n",
        "ax2.legend([\"Held and Karp\", \"Nearest Neighbor\",\"2-Approximation\"])\n",
        "ax2.set_ylabel(\"Error(%)\")\n",
        "\n",
        "fig.show()"
      ],
      "execution_count": 344,
      "outputs": [
        {
          "output_type": "display_data",
          "data": {
            "image/png": "[encoded data removed]",
            "text/plain": [
              "<Figure size 1728x576 with 2 Axes>"
            ]
          },
          "metadata": {
            "tags": [],
            "needs_background": "light"
          }
        }
      ]
    }
  ]
}