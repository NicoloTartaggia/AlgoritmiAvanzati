{
 "cells": [
  {
   "cell_type": "markdown",
   "metadata": {
    "pycharm": {
     "name": "#%% md\n"
    }
   },
   "source": [
    "# Algoritmo di 2-approssimazione per TSP"
   ]
  },
  {
   "cell_type": "code",
   "execution_count": 92,
   "outputs": [
    {
     "name": "stdout",
     "output_type": "stream",
     "text": [
      "Requirement already satisfied: ipython-autotime in c:\\users\\cip\\appdata\\local\\programs\\python\\python38\\lib\\site-packages (0.1)\n"
     ]
    },
    {
     "name": "stderr",
     "output_type": "stream",
     "text": [
      "WARNING: You are using pip version 20.0.2; however, version 20.1.1 is available.\n",
      "You should consider upgrading via the 'c:\\users\\cip\\appdata\\local\\programs\\python\\python38\\python.exe -m pip install --upgrade pip' command.\n"
     ]
    }
   ],
   "source": [
    "!pip install ipython-autotime\n",
    "#%load_ext autotime"
   ],
   "metadata": {
    "collapsed": false,
    "pycharm": {
     "name": "#%%\n"
    }
   }
  },
  {
   "cell_type": "code",
   "execution_count": 93,
   "metadata": {},
   "outputs": [],
   "source": [
    "import time\n",
    "import copy\n",
    "import math\n",
    "from collections import defaultdict"
   ]
  },
  {
   "cell_type": "markdown",
   "metadata": {
    "pycharm": {
     "name": "#%% md\n"
    }
   },
   "source": [
    "Imposto la directory in cui sono presenti i dataset:"
   ]
  },
  {
   "cell_type": "code",
   "execution_count": 94,
   "outputs": [],
   "source": [
    "ds_dir = \"tsp_dataset/\""
   ],
   "metadata": {
    "collapsed": false,
    "pycharm": {
     "name": "#%%\n"
    }
   }
  },
  {
   "cell_type": "markdown",
   "source": [
    "Definisco una lista con i nomi dei file del dataset dato e le soluzioni ottime date per ciascun file, da confrontare poi con le soluzioni calcolate:"
   ],
   "metadata": {
    "collapsed": false
   }
  },
  {
   "cell_type": "code",
   "execution_count": 95,
   "outputs": [],
   "source": [
    "data = [\n",
    "    [\"burma14.tsp\", 3323],\n",
    "    [\"ulysses16.tsp\", 6859],\n",
    "    [\"ulysses22.tsp\", 7013],\n",
    "    [\"eil51.tsp\", 426],\n",
    "    [\"berlin52.tsp\", 7542],\n",
    "    [\"kroD100.tsp\", 21294],\n",
    "    [\"kroA100.tsp\", 21282],\n",
    "    [\"ch150.tsp\", 6528],\n",
    "    [\"gr202.tsp\", 40160],\n",
    "    [\"gr229.tsp\", 134602],\n",
    "    [\"pcb442.tsp\", 50778],\n",
    "    [\"d493.tsp\", 35002],\n",
    "    [\"dsj1000.tsp\", 18659688]\n",
    "]"
   ],
   "metadata": {
    "collapsed": false,
    "pycharm": {
     "name": "#%%\n"
    }
   }
  },
  {
   "cell_type": "code",
   "execution_count": 96,
   "outputs": [],
   "source": [
    "class Node:\n",
    "    def __init__(self, tag: int):\n",
    "        self.tag = tag\n",
    "        self.key = None\n",
    "        self.parent = None\n",
    "        self.isPresent = True\n",
    "        self.index = tag # Track the index of the node in the heap instead of using list.index() method which is O(n)\n",
    "        self.adjacencyList = []\n",
    "\n",
    "    # For test\n",
    "    def print(self):\n",
    "        print(\"tag =\", self.tag, \"adjList=\", self.adjacencyList, \"key=\", self.key)\n",
    "\n",
    "class Graph:\n",
    "    def __init__(self):\n",
    "        self.nodes = defaultdict(Node)\n",
    "\n",
    "    def createNodes(self, nums: int):\n",
    "        for i in range(0, nums): # nums+1 in order to cover the last node\n",
    "            self.nodes[i] = Node(i)\n",
    "\n",
    "    def addNode(self, tag:int, adjTag:int, adjCost):\n",
    "        #self.nodes[tag].adjacencyList.append([self.nodes[adjTag], adjCost])\n",
    "        self.nodes[adjTag].adjacencyList.append([self.nodes[tag], adjCost]) # Graph is undirected\n",
    "\n",
    "    def buildGraphTSP(self, input_file):\n",
    "        t, V = parser(input_file)\n",
    "        self.createNodes(len(V))\n",
    "        for v in V:\n",
    "            tag_v = int(v[0])\n",
    "            U = copy.deepcopy(V)\n",
    "            U.remove(v)\n",
    "            for u in U:\n",
    "                tag_u = int(u[0])\n",
    "                curr_weight = weight(v[1], u[1], t)\n",
    "                self.addNode(tag_v, tag_u, curr_weight)\n",
    "\n",
    "        return t, V"
   ],
   "metadata": {
    "collapsed": false,
    "pycharm": {
     "name": "#%%\n"
    }
   }
  },
  {
   "cell_type": "code",
   "execution_count": 97,
   "outputs": [],
   "source": [
    "# ArrayHeap object extends list\n",
    "class ArrayHeap(list):\n",
    "    def __init__(self, array):\n",
    "        super().__init__(array)\n",
    "        self.heapSize = len(array)\n",
    "\n",
    "\n",
    "class MinHeap:\n",
    "    def __init__(self, array: list, root: Node):\n",
    "        self.arrayHeap = ArrayHeap(array)\n",
    "        # Check if the root node is not the first\n",
    "        if self.arrayHeap[0] != self.arrayHeap[root.tag]:  # reset the starting node and update all indexes\n",
    "            rootNode = self.arrayHeap[root.tag]\n",
    "            self.arrayHeap.remove(rootNode)\n",
    "            self.arrayHeap.insert(0, rootNode)\n",
    "            for i in range(0, self.arrayHeap.heapSize):\n",
    "                self.arrayHeap[i].index = i\n",
    "\n",
    "    # All the following methods work with zero based array. Hence, we need to handle separately odd and even indexes.\n",
    "    def parent(self, i: int):\n",
    "        if i % 2 == 0:  # even\n",
    "            return i // 2 - 1\n",
    "        else:\n",
    "            return i // 2\n",
    "\n",
    "    def left(self, i):\n",
    "        return 2 * i + 1\n",
    "\n",
    "    def right(self, i):\n",
    "        return 2 * i + 2\n",
    "\n",
    "    # Execution time: O(lg n)\n",
    "    def minHeapify(self, i: int):\n",
    "        l = self.left(i)\n",
    "        r = self.right(i)\n",
    "        if l <= self.arrayHeap.heapSize - 1 and self.arrayHeap[l].key < self.arrayHeap[i].key:\n",
    "            minimo = l\n",
    "        else:\n",
    "            minimo = i\n",
    "        if r <= self.arrayHeap.heapSize - 1 and self.arrayHeap[r].key < self.arrayHeap[minimo].key:\n",
    "            minimo = r\n",
    "        if minimo != i:\n",
    "            self.arrayHeap[i].index, self.arrayHeap[minimo].index = minimo, i  # Update indexes\n",
    "            self.arrayHeap[i], self.arrayHeap[minimo] = self.arrayHeap[minimo], self.arrayHeap[i]\n",
    "            self.minHeapify(minimo)\n",
    "\n",
    "    def bubbleUp(self, index: int):\n",
    "        parent = self.parent(index)\n",
    "        current = index\n",
    "        while current > 0 and self.arrayHeap[parent].key > self.arrayHeap[current].key:\n",
    "            self.arrayHeap[current].index, self.arrayHeap[parent].index = parent, current  # Update indexes\n",
    "            self.arrayHeap[current], self.arrayHeap[parent] = self.arrayHeap[parent], self.arrayHeap[current]\n",
    "            current = parent\n",
    "            parent = self.parent(parent)\n",
    "\n",
    "    # Execution time: O(lg n)\n",
    "    # First we update the heap structure, then we remove the last element.\n",
    "    def extractMin(self):\n",
    "        if self.arrayHeap.heapSize < 1:\n",
    "            print(\"Error: extractMin underflow\")\n",
    "            return\n",
    "        else:\n",
    "            minimum = self.arrayHeap[0]  # Save the minimum node\n",
    "            self.arrayHeap[0].isPresent = False  # Set its flag to false\n",
    "            # Swap the first node and right most one\n",
    "            self.arrayHeap[0], self.arrayHeap[self.arrayHeap.heapSize - 1] = self.arrayHeap[\n",
    "                                                                                 self.arrayHeap.heapSize - 1], \\\n",
    "                                                                             self.arrayHeap[0]\n",
    "            self.arrayHeap[0].index = 0  # Update its index\n",
    "            self.arrayHeap.heapSize -= 1  # Decreasing heapsize\n",
    "            self.minHeapify(0)  # Call minHeapify in order to move the new first node to the correct position\n",
    "\n",
    "            return minimum"
   ],
   "metadata": {
    "collapsed": false,
    "pycharm": {
     "name": "#%%\n"
    }
   }
  },
  {
   "cell_type": "code",
   "execution_count": 98,
   "metadata": {
    "pycharm": {
     "name": "#%%\n"
    }
   },
   "outputs": [],
   "source": [
    "def parser(file):\n",
    "\n",
    "  lines = open(ds_dir + file, \"r\").readlines()\n",
    "  index_start_coordinates = 0\n",
    "  cont = 0\n",
    "  V = []\n",
    "\n",
    "  for line in lines:\n",
    "      cont += 1\n",
    "      if line.startswith(\"EOF\") or line.startswith(\" EOF\"):\n",
    "          break\n",
    "      elif line.startswith(\"DIMENSION\"):\n",
    "          n = int(line.split(\":\")[1][1:])\n",
    "      elif line.startswith(\"EDGE_WEIGHT_TYPE\"):\n",
    "          t = line.split(\":\")[1][1:-1]  # TODO: remove space at the end\n",
    "      elif line.startswith(\"NODE_COORD_SECTION\"):\n",
    "          index_start_coordinates = cont\n",
    "      elif index_start_coordinates > 0:\n",
    "          V.append((int(line.split()[0]) - 1,\n",
    "                    [float(line.split()[1]), float(line.split()[2])]))  # (i, [x_value, y_value])\n",
    "  # n = int(lines[3].split()[1]) #.split()[0] # extract number of vertexes\n",
    "  # t = lines[4].split()[1]\n",
    "\n",
    "  return t, V"
   ]
  },
  {
   "cell_type": "code",
   "execution_count": 99,
   "outputs": [],
   "source": [
    "def weight (u, v, t):\n",
    "  if t == 'EUC_2D':\n",
    "    return round(math.sqrt(sum([(a - b) ** 2 for a, b in zip(u, v)])))\n",
    "  else:\n",
    "    PI = 3.141592\n",
    "    deg_xu = int(u[0])\n",
    "    min_xu = u[0] - deg_xu\n",
    "    rad_xu = PI * (deg_xu + 5.0 * min_xu/ 3.0) / 180.0\n",
    "\n",
    "    deg_yu = int(u[1])\n",
    "    min_yu = u[1] - deg_yu\n",
    "    rad_yu = PI * (deg_yu + 5.0 * min_yu/ 3.0) / 180.0\n",
    "\n",
    "    deg_xv = int(v[0])\n",
    "    min_xv = v[0] - deg_xv\n",
    "    rad_xv= PI * (deg_xv + 5.0 * min_xv/ 3.0) / 180.0\n",
    "\n",
    "    deg_yv = int(v[1])\n",
    "    min_yv = v[1]- deg_yv\n",
    "    rad_yv = PI * (deg_yv + 5.0 * min_yv/ 3.0) / 180.0\n",
    "\n",
    "    RRR = 6378.388\n",
    "    q1 = math.cos(rad_yu - rad_yv)\n",
    "    q2 = math.cos(rad_xu - rad_xv)\n",
    "    q3 = math.cos(rad_xu + rad_xv)\n",
    "    return (int) (RRR * math.acos(0.5 * ((1.0 + q1) * q2 - (1.0 - q1) * q3)) + 1.0)"
   ],
   "metadata": {
    "collapsed": false,
    "pycharm": {
     "name": "#%%\n"
    }
   }
  },
  {
   "cell_type": "code",
   "execution_count": 100,
   "outputs": [],
   "source": [
    "def ham_circ_weight(V, ham_circ):\n",
    "\n",
    "    total_weight = 0\n",
    "    for j in range(1, len(ham_circ)):\n",
    "        i = j - 1\n",
    "        total_weight += weight(V[ham_circ[i]][1], V[ham_circ[j]][1] , t) #get_weight(ham_circ[i], ham_circ[j])\n",
    "\n",
    "    return total_weight"
   ],
   "metadata": {
    "collapsed": false,
    "pycharm": {
     "name": "#%%\n"
    }
   }
  },
  {
   "cell_type": "code",
   "execution_count": 101,
   "outputs": [],
   "source": [
    "def MSTPrim(g: Graph, r: Node):\n",
    "\n",
    "    for node in g.nodes.values():\n",
    "        node.key = math.inf # Set key. Parent is already set through Node constructor.\n",
    "        node.parent = r\n",
    "\n",
    "    r.key = 0\n",
    "\n",
    "    q = MinHeap(list(g.nodes.values()), r) # Pass also the root node in order to build the heap starting from it\n",
    "\n",
    "    while q.arrayHeap.heapSize != 0:\n",
    "        u = q.extractMin()\n",
    "        for v in u.adjacencyList:\n",
    "            if v[0].isPresent and v[1] < v[0].key:\n",
    "                v[0].parent = u\n",
    "                v[0].key = v[1]\n",
    "                q.bubbleUp(v[0].index) # bubbleUp maintains the minheap condition\n",
    "\n",
    "    return g"
   ],
   "metadata": {
    "collapsed": false,
    "pycharm": {
     "name": "#%%\n"
    }
   }
  },
  {
   "cell_type": "markdown",
   "source": [
    "Definisco la funzione MST_TO_TREE che, data in input la mappa dei predecessori ciascun nodo, la converte in un albero"
   ],
   "metadata": {
    "collapsed": false,
    "pycharm": {
     "name": "#%% md\n"
    }
   }
  },
  {
   "cell_type": "code",
   "execution_count": 102,
   "outputs": [],
   "source": [
    "def MST_TO_TREE(predec):\n",
    "\n",
    "    if len(predec) == 0:\n",
    "        return None\n",
    "\n",
    "    if len(predec) == 1:\n",
    "        nodo, padre = predec.popitem()\n",
    "        return {padre: [nodo]}\n",
    "\n",
    "    nodo, padre = predec.popitem()\n",
    "    tree = MST_TO_TREE(predec)\n",
    "\n",
    "    if padre in tree:\n",
    "        tree[padre].append(nodo)\n",
    "    else:\n",
    "        tree[padre] = [nodo]\n",
    "\n",
    "    return tree"
   ],
   "metadata": {
    "collapsed": false,
    "pycharm": {
     "name": "#%%\n"
    }
   }
  },
  {
   "cell_type": "markdown",
   "source": [
    "Implemento la funzione di 2-approssimazione che, dato in input il grafo completo pesato G, risolve il problema TSP sul grafo G usando il suo albero di copertura minimo di G.\n",
    "Ritorna una soluzione 2-approssimata, ovvero il valore massimo di questa è 2 volte la soluzione ottima, definita precedentemente per ciascun file nella lista `data`.\n",
    "Questo metodo restituisce un ciclo hamiltoniano che visita tutti i nodi."
   ],
   "metadata": {
    "collapsed": false,
    "pycharm": {
     "name": "#%% md\n"
    }
   }
  },
  {
   "cell_type": "markdown",
   "source": [
    "Definisco la funzione preorder che, presi in input tree (la mappa dei successori) e u (vertice di partenza), ritorna una lista della visita in profondità dell'albero a partire dal nodo passato."
   ],
   "metadata": {
    "collapsed": false
   }
  },
  {
   "cell_type": "code",
   "execution_count": 103,
   "outputs": [],
   "source": [
    "def preorder(tree, u):\n",
    "\n",
    "    if u not in tree:\n",
    "        return [u]\n",
    "\n",
    "    A = [u]\n",
    "    for v in tree[u] :\n",
    "        if v != u :\n",
    "            A = A + preorder(tree, v)\n",
    "\n",
    "    return A\n"
   ],
   "metadata": {
    "collapsed": false,
    "pycharm": {
     "name": "#%%\n"
    }
   }
  },
  {
   "cell_type": "markdown",
   "metadata": {
    "pycharm": {
     "name": "#%% md\n"
    }
   },
   "source": [
    "Eseguo l'algortimo appena definito per ciascun file presente nel dataset:"
   ]
  },
  {
   "cell_type": "code",
   "execution_count": 104,
   "outputs": [
    {
     "name": "stdout",
     "output_type": "stream",
     "text": [
      "File name:  burma14.tsp\n",
      "Optimal solution:  3323\n",
      "Costo soluzione:  4003\n",
      "Tempo di esecuzione:  5.01E-03\n",
      "\n",
      "File name:  ulysses16.tsp\n",
      "Optimal solution:  6859\n",
      "Costo soluzione:  7788\n",
      "Tempo di esecuzione:  5.00E-03\n",
      "\n",
      "File name:  ulysses22.tsp\n",
      "Optimal solution:  7013\n",
      "Costo soluzione:  8308\n",
      "Tempo di esecuzione:  1.00E-02\n",
      "\n",
      "File name:  eil51.tsp\n",
      "Optimal solution:  426\n",
      "Costo soluzione:  605\n",
      "Tempo di esecuzione:  4.50E-02\n",
      "\n",
      "File name:  berlin52.tsp\n",
      "Optimal solution:  7542\n",
      "Costo soluzione:  10402\n",
      "Tempo di esecuzione:  4.20E-02\n",
      "\n",
      "File name:  kroD100.tsp\n",
      "Optimal solution:  21294\n",
      "Costo soluzione:  28599\n",
      "Tempo di esecuzione:  1.53E-01\n",
      "\n",
      "File name:  kroA100.tsp\n",
      "Optimal solution:  21282\n",
      "Costo soluzione:  30516\n",
      "Tempo di esecuzione:  1.15E+00\n",
      "\n",
      "File name:  ch150.tsp\n",
      "Optimal solution:  6528\n",
      "Costo soluzione:  9126\n",
      "Tempo di esecuzione:  3.44E-01\n",
      "\n",
      "File name:  gr202.tsp\n",
      "Optimal solution:  40160\n",
      "Costo soluzione:  52615\n",
      "Tempo di esecuzione:  6.75E-01\n",
      "\n",
      "File name:  gr229.tsp\n",
      "Optimal solution:  134602\n",
      "Costo soluzione:  179335\n",
      "Tempo di esecuzione:  9.90E-01\n",
      "\n",
      "File name:  pcb442.tsp\n",
      "Optimal solution:  50778\n",
      "Costo soluzione:  72853\n",
      "Tempo di esecuzione:  3.49E+00\n",
      "\n",
      "File name:  d493.tsp\n",
      "Optimal solution:  35002\n",
      "Costo soluzione:  45595\n",
      "Tempo di esecuzione:  4.83E+00\n",
      "\n",
      "File name:  dsj1000.tsp\n",
      "Optimal solution:  18659688\n",
      "Costo soluzione:  25526005\n",
      "Tempo di esecuzione:  1.88E+01\n",
      "\n"
     ]
    }
   ],
   "source": [
    "for file, optimal_solution in data:\n",
    "\n",
    "    start_time = time.time()\n",
    "\n",
    "    ###################\n",
    "\n",
    "    result = Graph()\n",
    "    t, V = result.buildGraphTSP(file)\n",
    "\n",
    "    current_solution = MSTPrim(result, result.nodes.get(0))\n",
    "\n",
    "    parents = dict()\n",
    "    for i in current_solution.nodes.values():\n",
    "        parents[i.tag] = i.parent.tag\n",
    "\n",
    "    TREE = MST_TO_TREE(parents)\n",
    "    HAM_CYCLE = preorder(TREE, 0)\n",
    "    HAM_CYCLE.append(0)\n",
    "\n",
    "    current_solution = ham_circ_weight(V, HAM_CYCLE)\n",
    "\n",
    "    ###################\n",
    "\n",
    "    total_time = time.time() - start_time\n",
    "    total_time = '%.2E' % total_time\n",
    "\n",
    "    print(\"File name: \", file)\n",
    "    print(\"Optimal solution: \", optimal_solution)\n",
    "    print(\"Costo soluzione: \", str(current_solution))\n",
    "    print(\"Tempo di esecuzione: \", str(total_time))\n",
    "    #print(\"Percentuale di errore: \", str(errore))\n",
    "\n",
    "    print()"
   ],
   "metadata": {
    "collapsed": false,
    "pycharm": {
     "name": "#%%\n"
    }
   }
  }
 ],
 "metadata": {
  "language_info": {
   "codemirror_mode": {
    "name": "ipython",
    "version": 3
   },
   "file_extension": ".py",
   "mimetype": "text/x-python",
   "name": "python",
   "nbconvert_exporter": "python",
   "pygments_lexer": "ipython3",
   "version": "2.7.17-final"
  },
  "orig_nbformat": 2,
  "kernelspec": {
   "name": "python3",
   "language": "python",
   "display_name": "Python 3"
  }
 },
 "nbformat": 4,
 "nbformat_minor": 2
}