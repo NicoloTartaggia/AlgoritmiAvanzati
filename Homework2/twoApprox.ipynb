{
 "cells": [
  {
   "cell_type": "markdown",
   "metadata": {
    "pycharm": {
     "name": "#%% md\n"
    }
   },
   "source": [
    "# Algoritmo di 2-approssimazione per TSP"
   ]
  },
  {
   "cell_type": "code",
   "execution_count": 189,
   "metadata": {},
   "outputs": [
    {
     "output_type": "stream",
     "name": "stdout",
     "text": "Collecting ipython-autotime\n  Using cached https://files.pythonhosted.org/packages/59/0d/f5e65097c5b4847c36d2b4ad04995a04fc6b6c4c2587b052c7707a195ab0/ipython_autotime-0.1-py2-none-any.whl\nInstalling collected packages: ipython-autotime\nSuccessfully installed ipython-autotime-0.1\n"
    }
   ],
   "source": [
    "!pip install ipython-autotime\n",
    "#%load_ext autotime"
   ]
  },
  {
   "cell_type": "code",
   "execution_count": 190,
   "metadata": {},
   "outputs": [],
   "source": [
    "import os\n",
    "import time\n",
    "import math\n",
    "from heap import * "
   ]
  },
  {
   "cell_type": "markdown",
   "metadata": {
    "pycharm": {
     "name": "#%% md\n"
    }
   },
   "source": [
    "Imposto la directory in cui sono presenti i dataset:"
   ]
  },
  {
   "cell_type": "code",
   "execution_count": 191,
   "outputs": [],
   "source": [
    "ds_dir = \"tsp_dataset/\""
   ],
   "metadata": {
    "collapsed": false,
    "pycharm": {
     "name": "#%%\n"
    }
   }
  },
  {
   "cell_type": "markdown",
   "source": [
    "Definisco una lista con i nomi dei file del dataset dato e le soluzioni ottime date per ciascun file, da confrontare poi con le soluzioni calcolate:"
   ],
   "metadata": {
    "collapsed": false
   }
  },
  {
   "cell_type": "code",
   "execution_count": 192,
   "outputs": [],
   "source": [
    "data = [\n",
    "    [\"burma14.tsp\", 3323],\n",
    "    [\"ulysses16.tsp\", 6859],\n",
    "    [\"ulysses22.tsp\", 7013],\n",
    "    [\"eil51.tsp\", 426],\n",
    "    [\"berlin52.tsp\", 7542],\n",
    "    [\"kroD100.tsp\", 21294],\n",
    "    [\"kroA100.tsp\", 21282],\n",
    "    [\"ch150.tsp\", 6528],\n",
    "    [\"gr202.tsp\", 40160],\n",
    "    [\"gr229.tsp\", 134602],\n",
    "    [\"pcb442.tsp\", 50778],\n",
    "    [\"d493.tsp\", 35002],\n",
    "    [\"dsj1000.tsp\", 18659688]\n",
    "]"
   ],
   "metadata": {
    "collapsed": false,
    "pycharm": {
     "name": "#%%\n"
    }
   }
  },
  {
   "cell_type": "markdown",
   "source": [
    "Definisco una funzione parser che legga i file nel formato specificato nella consegna. Questa ritorna t, la stringa che indica il tipo di coordinate contenute nel file e V, lista contenente i nodi e le loro coordinate."
   ],
   "metadata": {
    "collapsed": false
   }
  },
  {
   "cell_type": "code",
   "execution_count": 193,
   "outputs": [],
   "source": [
    "def parser(file):\n",
    "    \n",
    "    lines = open(ds_dir + file, \"r\").readlines()\n",
    "    index_start_coordinates = 0\n",
    "    cont = 0\n",
    "    V = []\n",
    "\n",
    "    for line in lines:\n",
    "      cont += 1\n",
    "      if line.startswith(\"EOF\") or line.startswith(\" EOF\"):\n",
    "        break\n",
    "      elif line.startswith(\"DIMENSION\"):\n",
    "        n = int(line.split(\":\")[1][1:])\n",
    "      elif line.startswith(\"EDGE_WEIGHT_TYPE\"):\n",
    "        t = line.split(\":\")[1][1:-1] # TODO: remove space at the end\n",
    "      elif line.startswith(\"NODE_COORD_SECTION\"):\n",
    "        index_start_coordinates = cont\n",
    "      elif index_start_coordinates > 0:\n",
    "        V.append((int(line.split()[0]) - 1, [float(line.split()[1]), float(line.split()[2])])) # (i, [x_value, y_value])\n",
    "    #n = int(lines[3].split()[1]) #.split()[0] # extract number of vertexes\n",
    "    #t = lines[4].split()[1]\n",
    "\n",
    "    return t, V"
   ],
   "metadata": {
    "collapsed": false,
    "pycharm": {
     "name": "#%%\n"
    }
   }
  },
  {
   "cell_type": "markdown",
   "source": [
    "Definisco la funzione di weight che converte le coordinate date nel file letto. A questa vengono passati due nodi, u e v, e il tipo delle coordinate in cui questi sono rappresentati. La funzione ritorna quindi il peso dell'arco che li connette."
   ],
   "metadata": {
    "collapsed": false
   }
  },
  {
   "cell_type": "code",
   "execution_count": 194,
   "outputs": [],
   "source": [
    "def weight (u, v, t):\n",
    "  if t == 'EUC_2D':\n",
    "    return round(math.sqrt(sum([(a - b) ** 2 for a, b in zip(u, v)])))\n",
    "  else:\n",
    "    PI = 3.141592\n",
    "    deg_xu = int(u[0])\n",
    "    min_xu = u[0] - deg_xu\n",
    "    rad_xu = PI * (deg_xu + 5.0 * min_xu/ 3.0) / 180.0\n",
    "\n",
    "    deg_yu = int(u[1])\n",
    "    min_yu = u[1] - deg_yu\n",
    "    rad_yu = PI * (deg_yu + 5.0 * min_yu/ 3.0) / 180.0\n",
    "\n",
    "    deg_xv = int(v[0])\n",
    "    min_xv = v[0] - deg_xv\n",
    "    rad_xv= PI * (deg_xv + 5.0 * min_xv/ 3.0) / 180.0\n",
    "\n",
    "    deg_yv = int(v[1])\n",
    "    min_yv = v[1]- deg_yv\n",
    "    rad_yv = PI * (deg_yv + 5.0 * min_yv/ 3.0) / 180.0\n",
    "\n",
    "    RRR = 6378.388\n",
    "    q1 = math.cos(rad_yu - rad_yv)\n",
    "    q2 = math.cos(rad_xu - rad_xv)\n",
    "    q3 = math.cos(rad_xu + rad_xv)\n",
    "    return (int) (RRR * math.acos(0.5 * ((1.0 + q1) * q2 - (1.0 - q1) * q3)) + 1.0)\n",
    "    "
   ],
   "metadata": {
    "collapsed": false,
    "pycharm": {
     "name": "#%%\n"
    }
   }
  },
  {
   "cell_type": "markdown",
   "source": [
    "Definisco la classe COMPLETE_GRAPH che rappresenta in maniera specifica i grafi completi mantenendo una matrice a due dimensioni che contiene i pesi degli archi.\n",
    "Questa ha i seguenti metodi:\n",
    "- __init__(self, n): inizializzo total_nodes, che indica il numero di nodi totali del grafo, e creo una matrice bidimensionale di pesi (weights) che rappresenta il grafo completo, queste vengono tutte inizializzate a 0. La complessità di questa operazione è O(n^2);\n",
    "- set_weight(self, u, v, weight): dati due nodi u e v, inserisce nella matrice il peso dell'arco che li connette, questa operazione è O(1);\n",
    "- get_weight(self, u, v): dati  i due nodi u e v, restituisce il peso dell'arco che gli connette, questa operazione è O(1);\n",
    "- ham_circ_weight(self, ham_circ): dato in input un circuito hamiltoniano ham_circ, la funzione calcola il peso totale dei nodi del circuito dato. Questa funzione ha peso O(n) dove n rappresentail numero di nodi del circuito dato."
   ],
   "metadata": {
    "collapsed": false
   }
  },
  {
   "cell_type": "code",
   "execution_count": 195,
   "outputs": [],
   "source": [
    "class COMPLETE_GRAPH:\n",
    "\n",
    "    def __init__(self,n):\n",
    "        self.weights = [ [0 for i in range(n)] for j in range(n)]\n",
    "        self.total_nodes = n\n",
    "\n",
    "    def set_weight(self, u, v, weight):\n",
    "        if u != v: \n",
    "            self.weights[u][v] = self.weights[v][u] = weight\n",
    "    \n",
    "    def get_weight(self, u, v): \n",
    "        return self.weights[u][v]\n",
    "\n",
    "    def ham_circ_weight(self, ham_circ):\n",
    "        total_weight = 0\n",
    "        for j in range(1, len(ham_circ)):\n",
    "            i = j - 1\n",
    "            total_weight += self.get_weight(ham_circ[i], ham_circ[j])\n",
    "        return total_weight\n"
   ],
   "metadata": {
    "collapsed": false,
    "pycharm": {
     "name": "#%%\n"
    }
   }
  },
  {
   "cell_type": "markdown",
   "source": [
    "Metodo che, dato in input il nome del file contente i dati relativi al grafo, lo genera passando per il precedente metodo di parsing, definendo un oggetto COMPLETE_GRAPH e, per ciascun arco del grafo, inserirne i pesi calcolati con il precedente metodo weight.\n",
    "Questo metodo ritorna quindi il grafo completo appena creato."
   ],
   "metadata": {
    "collapsed": false
   }
  },
  {
   "cell_type": "code",
   "execution_count": 196,
   "outputs": [],
   "source": [
    "def graph_from_file(file):\n",
    "\n",
    "    t, V = parser(file)\n",
    "    G = COMPLETE_GRAPH(len(V))\n",
    "\n",
    "    xy_pairs = [(x,y) for x in range(len(V)) for y in range(x + 1, len(V))]\n",
    "    for (x,y) in xy_pairs:\n",
    "        curr_weight = weight(V[x][1], V[y][1], t)\n",
    "        G.set_weight(x, y, curr_weight)\n",
    "        \n",
    "    return G"
   ],
   "metadata": {
    "collapsed": false,
    "pycharm": {
     "name": "#%%\n"
    }
   }
  },
  {
   "cell_type": "markdown",
   "source": [
    "Implemento l'algoritmo di Prim tramite un metodo che prende in input il grafo G e l'indice del vertice da cui far partire il MST. Questa funzione utilizza la struttura dati heap, definita in un file a parte."
   ],
   "metadata": {
    "collapsed": false
   }
  },
  {
   "cell_type": "code",
   "execution_count": 197,
   "outputs": [],
   "source": [
    "def Prim(G, root):\n",
    "\n",
    "    n = G.total_nodes\n",
    "    \n",
    "    k = dict()\n",
    "    p = dict()\n",
    "    for i in range(n):\n",
    "        k[i] = G.get_weight(root, i)\n",
    "        p[i] = root\n",
    "\n",
    "    H = heap()\n",
    "    \n",
    "    indexs = list(range(n))\n",
    "    indexs.remove(root)\n",
    "\n",
    "    for i in indexs: \n",
    "        H.add(i, k[i])\n",
    "\n",
    "    while not H.isEmpty() :\n",
    "        u = H.extractMin()\n",
    "        for v in H.A:\n",
    "            if G.get_weight(u, v) < k[v]:\n",
    "                k[v] = G.get_weight(u,v)\n",
    "                p[v] = u\n",
    "                H.decreaseKey(v, k[v])\n",
    "\n",
    "    return p\n",
    "\n",
    "def create_heap(n, k, root):\n",
    "    \n",
    "    \n",
    "\n",
    "    return H"
   ],
   "metadata": {
    "collapsed": false,
    "pycharm": {
     "name": "#%%\n"
    }
   }
  },
  {
   "cell_type": "markdown",
   "source": [
    "Definisco la funzione MST_TO_TREE che, data in input la mappa dei predecessori ciascun nodo, la converte in un albero"
   ],
   "metadata": {
    "collapsed": false
   }
  },
  {
   "cell_type": "code",
   "execution_count": 198,
   "outputs": [],
   "source": [
    "def MST_TO_TREE(predec):\n",
    "\n",
    "    if len(predec) == 0:\n",
    "        return None\n",
    "\n",
    "    if len(predec) == 1:\n",
    "        nodo, padre = predec.popitem()\n",
    "        return {padre: [nodo]}\n",
    "\n",
    "    nodo, padre = predec.popitem()\n",
    "\n",
    "    tree = MST_TO_TREE(predec)\n",
    "\n",
    "    if padre in tree:\n",
    "        tree[padre].append(nodo)\n",
    "    else:\n",
    "        tree[padre] = [nodo]\n",
    "\n",
    "    return tree\n",
    "\n"
   ],
   "metadata": {
    "collapsed": false,
    "pycharm": {
     "name": "#%%\n"
    }
   }
  },
  {
   "cell_type": "markdown",
   "source": [
    "Implemento la funzione di 2-approssimazione che, dato in input il grafo completo pesato G, risolve il problema TSP sul grafo G usando il suo albero di copertura minimo di G.\n",
    "Ritorna una soluzione 2-approssimata, ovvero il valore massimo di questa è 2 volte la soluzione ottima, definita precedentemente per ciascun file nella lista `data`.\n",
    "Questo metodo restituisce un ciclo hamiltoniano che visita tutti i nodi."
   ],
   "metadata": {
    "collapsed": false
   }
  },
  {
   "cell_type": "code",
   "execution_count": 199,
   "outputs": [],
   "source": [
    "def TWO_APPROX_TSP(G):\n",
    "\n",
    "    MST = Prim(G, 0)\n",
    "    TREE = MST_TO_TREE(MST)\n",
    "\n",
    "    HAM_CYCLE = preorder(TREE, 0)\n",
    "    HAM_CYCLE.append(0)\n",
    "\n",
    "    return HAM_CYCLE\n"
   ],
   "metadata": {
    "collapsed": false,
    "pycharm": {
     "name": "#%%\n"
    }
   }
  },
  {
   "cell_type": "markdown",
   "metadata": {
    "collapsed": false,
    "pycharm": {
     "name": "#%%\n"
    }
   },
   "source": [
    "Definisco la funzione preorder che, presi in input tree (la mappa dei successori) e u (vertice di partenza), ritorna una lista della visita in profondità dell'albero a partire dal nodo passato."
   ]
  },
  {
   "cell_type": "code",
   "execution_count": 200,
   "outputs": [],
   "source": [
    "def preorder(tree, u):\n",
    "    \n",
    "    if u not in tree:\n",
    "        return [u]\n",
    "    \n",
    "    A = [u]\n",
    "    for v in tree[u] :\n",
    "        if v != u : \n",
    "            A = A + preorder(tree, v)\n",
    "\n",
    "    return A\n"
   ],
   "metadata": {
    "collapsed": false,
    "pycharm": {
     "name": "#%%\n"
    }
   }
  },
  {
   "cell_type": "markdown",
   "metadata": {},
   "source": [
    "Eseguo l'algortimo appena definito per ciascun file presente nel dataset:"
   ]
  },
  {
   "cell_type": "code",
   "execution_count": 201,
   "outputs": [
    {
     "output_type": "stream",
     "name": "stdout",
     "text": "File name:  burma14.tsp\nOptimal solution:  3323\nCosto soluzione:  4003\nTempo di esecuzione:  3.57E-04\nPercentuale di errore:  20.46\n\nFile name:  ulysses16.tsp\nOptimal solution:  6859\nCosto soluzione:  7788\nTempo di esecuzione:  4.55E-04\nPercentuale di errore:  13.54\n\nFile name:  ulysses22.tsp\nOptimal solution:  7013\nCosto soluzione:  8308\nTempo di esecuzione:  4.70E-04\nPercentuale di errore:  18.47\n\nFile name:  eil51.tsp\nOptimal solution:  426\nCosto soluzione:  567\nTempo di esecuzione:  1.11E-03\nPercentuale di errore:  33.1\n\nFile name:  berlin52.tsp\nOptimal solution:  7542\nCosto soluzione:  10402\nTempo di esecuzione:  2.36E-03\nPercentuale di errore:  37.92\n\nFile name:  kroD100.tsp\nOptimal solution:  21294\nCosto soluzione:  28599\nTempo di esecuzione:  4.72E-03\nPercentuale di errore:  34.31\n\nFile name:  kroA100.tsp\nOptimal solution:  21282\nCosto soluzione:  30516\nTempo di esecuzione:  3.47E-03\nPercentuale di errore:  43.39\n\nFile name:  ch150.tsp\nOptimal solution:  6528\nCosto soluzione:  9315\nTempo di esecuzione:  8.41E-03\nPercentuale di errore:  42.69\n\nFile name:  gr202.tsp\nOptimal solution:  40160\nCosto soluzione:  52615\nTempo di esecuzione:  8.16E-03\nPercentuale di errore:  31.01\n\nFile name:  gr229.tsp\nOptimal solution:  134602\nCosto soluzione:  179335\nTempo di esecuzione:  8.60E-03\nPercentuale di errore:  33.23\n\nFile name:  pcb442.tsp\nOptimal solution:  50778\nCosto soluzione:  75672\nTempo di esecuzione:  5.09E-02\nPercentuale di errore:  49.03\n\nFile name:  d493.tsp\nOptimal solution:  35002\nCosto soluzione:  45627\nTempo di esecuzione:  3.85E-02\nPercentuale di errore:  30.36\n\nFile name:  dsj1000.tsp\nOptimal solution:  18659688\nCosto soluzione:  25526005\nTempo di esecuzione:  2.36E-01\nPercentuale di errore:  36.8\n\n"
    }
   ],
   "source": [
    "for file, optimal_solution in data:\n",
    "\n",
    "    G = graph_from_file(file)\n",
    "\n",
    "    start_time = time.time()\n",
    "\n",
    "    current_solution = TWO_APPROX_TSP(G)\n",
    "    current_solution = G.ham_circ_weight(current_solution)\n",
    "\n",
    "    total_time = time.time() - start_time\n",
    "    total_time = '%.2E' % total_time\n",
    "\n",
    "    errore = round(float(current_solution - int(optimal_solution)) / int(optimal_solution) * 100, 2)\n",
    "\n",
    "    print(\"File name: \", file)\n",
    "    print(\"Optimal solution: \", optimal_solution)\n",
    "    print(\"Costo soluzione: \", str(current_solution))\n",
    "    print(\"Tempo di esecuzione: \", str(total_time))\n",
    "    print(\"Percentuale di errore: \", str(errore))    \n",
    "\n",
    "    print()"
   ],
   "metadata": {
    "collapsed": false,
    "pycharm": {
     "name": "#%%\n"
    }
   }
  }
 ],
 "metadata": {
  "language_info": {
   "codemirror_mode": {
    "name": "ipython",
    "version": 3
   },
   "file_extension": ".py",
   "mimetype": "text/x-python",
   "name": "python",
   "nbconvert_exporter": "python",
   "pygments_lexer": "ipython3",
   "version": "2.7.17-final"
  },
  "orig_nbformat": 2,
  "kernelspec": {
   "name": "pycharm-34299201",
   "language": "python",
   "display_name": "PyCharm (Homework2)"
  }
 },
 "nbformat": 4,
 "nbformat_minor": 2
}