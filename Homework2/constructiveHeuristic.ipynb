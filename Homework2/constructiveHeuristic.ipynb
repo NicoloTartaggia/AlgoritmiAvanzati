{
 "cells": [
  {
   "cell_type": "markdown",
   "source": [
    "# Constructive heuristic"
   ],
   "metadata": {
    "collapsed": false,
    "pycharm": {
     "name": "#%% md\n"
    }
   }
  },
  {
   "cell_type": "code",
   "execution_count": 11,
   "outputs": [
    {
     "name": "stdout",
     "output_type": "stream",
     "text": [
      "Collecting ipython-autotime\r\n",
      "  Using cached https://files.pythonhosted.org/packages/59/0d/f5e65097c5b4847c36d2b4ad04995a04fc6b6c4c2587b052c7707a195ab0/ipython_autotime-0.1-py2-none-any.whl\r\n",
      "Installing collected packages: ipython-autotime\r\n",
      "Successfully installed ipython-autotime-0.1\r\n"
     ]
    }
   ],
   "source": [
    "import math\n",
    "import copy"
   ],
   "metadata": {
    "collapsed": false,
    "pycharm": {
     "name": "#%%\n"
    }
   }
  },
  {
   "cell_type": "code",
   "execution_count": 12,
   "outputs": [],
   "source": [
    "# u, v: vertexes/coordinates\n",
    "# t: WEIGHT_TYPE\n",
    "def weight (u, v):\n",
    "  if t == \"EUC_2D\":\n",
    "    return round(math.sqrt(sum([(a - b) ** 2 for a, b in zip(u, v)])))\n",
    "  else:\n",
    "    PI = 3.141592\n",
    "    deg_xu = int(u[0])\n",
    "    min_xu = u[0] - deg_xu\n",
    "    rad_xu = PI * (deg_xu + 5.0 * min_xu/ 3.0) / 180.0\n",
    "\n",
    "    deg_yu = int(u[1])\n",
    "    min_yu = u[1] - deg_yu\n",
    "    rad_yu = PI * (deg_yu + 5.0 * min_yu/ 3.0) / 180.0\n",
    "\n",
    "    deg_xv = int(v[0])\n",
    "    min_xv = v[0] - deg_xv\n",
    "    rad_xv= PI * (deg_xv + 5.0 * min_xv/ 3.0) / 180.0\n",
    "\n",
    "    deg_yv = int(v[1])\n",
    "    min_yv = v[1]- deg_yv\n",
    "    rad_yv = PI * (deg_yv + 5.0 * min_yv/ 3.0) / 180.0\n",
    "\n",
    "    RRR = 6378.388\n",
    "    q1 = math.cos(rad_yu - rad_yv)\n",
    "    q2 = math.cos(rad_xu - rad_xv)\n",
    "    q3 = math.cos(rad_xu + rad_xv)\n",
    "    return int(RRR * math.acos(0.5 * ((1.0 + q1) * q2 - (1.0 - q1) * q3)) + 1.0)"
   ],
   "metadata": {
    "collapsed": false,
    "pycharm": {
     "name": "#%%\n"
    }
   }
  },
  {
   "cell_type": "code",
   "execution_count": 13,
   "outputs": [],
   "source": [
    "def closest_vertex(p, V: list):\n",
    "    min_dist = math.inf\n",
    "    closest = None\n",
    "    for v in V:\n",
    "        dist = weight(p[1], v[1])\n",
    "        if dist < min_dist:\n",
    "            min_dist = dist\n",
    "            closest = v\n",
    "    return closest, min_dist"
   ],
   "metadata": {
    "collapsed": false,
    "pycharm": {
     "name": "#%%\n"
    }
   }
  },
  {
   "cell_type": "code",
   "execution_count": 14,
   "outputs": [],
   "source": [
    "def CH_VISIT(V: list):\n",
    "    shortest_path = []\n",
    "    shortest_distance = math.inf\n",
    "    for i in range(0, len(V)):\n",
    "        unvisited = copy.deepcopy(V)\n",
    "        starting_vertex = unvisited[i] # Extract starting vertex\n",
    "        partial_path = [starting_vertex]\n",
    "        unvisited.remove(starting_vertex)\n",
    "        total_dist = 0\n",
    "        while len(unvisited) > 0:\n",
    "            closest, dist = closest_vertex(partial_path[-1], unvisited) # partial_path[-1] takes the last element\n",
    "            partial_path.append(closest)\n",
    "            unvisited.remove(closest)\n",
    "            total_dist += dist\n",
    "        total_dist += weight(partial_path[-1][1], starting_vertex[1])\n",
    "        partial_path.append(starting_vertex)\n",
    "        if total_dist < shortest_distance:\n",
    "            shortest_distance = total_dist\n",
    "            shortest_path = copy.deepcopy(partial_path)\n",
    "    return shortest_path, shortest_distance"
   ],
   "metadata": {
    "collapsed": false,
    "pycharm": {
     "name": "#%%\n"
    }
   }
  },
  {
   "cell_type": "code",
   "execution_count": 15,
   "outputs": [
    {
     "name": "stdout",
     "output_type": "stream",
     "text": [
      "\n",
      "final cost = 22449665\n"
     ]
    }
   ],
   "source": [
    "lines = open(\"tsp_dataset/dsj1000.tsp\", \"r\").read().split(\"\\n\")\n",
    "index_start_coordinates = 0\n",
    "cont = 0\n",
    "V = []\n",
    "for line in lines:\n",
    "  cont += 1\n",
    "  if line.replace(\" \", \"\").startswith(\"EOF\"):\n",
    "    break\n",
    "  elif line.replace(\" \", \"\").startswith(\"DIMENSION\"):\n",
    "    n = int(line.split(\":\")[1][1:])\n",
    "  elif line.replace(\" \", \"\").startswith(\"EDGE_WEIGHT_TYPE\"):\n",
    "    t = line.split(\":\")[1][1:]\n",
    "  elif line.replace(\" \", \"\").startswith(\"NODE_COORD_SECTION\"):\n",
    "    index_start_coordinates = cont\n",
    "  elif index_start_coordinates > 0:\n",
    "    V.append((int(line.split()[0]) - 1, [float(line.split()[1]), float(line.split()[2])])) #(i, [x_value, y_value])\n",
    "#n = int(lines[3].split()[1]) #.split()[0] # extract number of vertexes\n",
    "#t = lines[4].split()[1]\n",
    "\n",
    "pc, cost = CH_VISIT(V)\n",
    "\n",
    "#for v in pc:\n",
    "#    print(v)\n",
    "\n",
    "print(\"\\nfinal cost =\",cost)"
   ],
   "metadata": {
    "collapsed": false,
    "pycharm": {
     "name": "#%%\n"
    }
   }
  }
 ],
 "metadata": {
  "kernelspec": {
   "name": "pycharm-6c910683",
   "language": "python",
   "display_name": "PyCharm (Homework1)"
  },
  "language_info": {
   "codemirror_mode": {
    "name": "ipython",
    "version": 2
   },
   "file_extension": ".py",
   "mimetype": "text/x-python",
   "name": "python",
   "nbconvert_exporter": "python",
   "pygments_lexer": "ipython2",
   "version": "2.7.6"
  }
 },
 "nbformat": 4,
 "nbformat_minor": 0
}