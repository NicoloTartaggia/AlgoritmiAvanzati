{
 "cells": [
  {
   "cell_type": "markdown",
   "source": [
    "# Constructive heuristic"
   ],
   "metadata": {
    "collapsed": false
   }
  },
  {
   "cell_type": "code",
   "execution_count": 195,
   "outputs": [
    {
     "name": "stdout",
     "output_type": "stream",
     "text": [
      "Collecting ipython-autotime\r\n",
      "  Using cached https://files.pythonhosted.org/packages/59/0d/f5e65097c5b4847c36d2b4ad04995a04fc6b6c4c2587b052c7707a195ab0/ipython_autotime-0.1-py2-none-any.whl\r\n",
      "Installing collected packages: ipython-autotime\r\n",
      "Successfully installed ipython-autotime-0.1\r\n"
     ]
    }
   ],
   "source": [
    "!pip install ipython-autotime\n",
    "#%load_ext autotime\n",
    "\n",
    "import math\n",
    "import numpy as np"
   ],
   "metadata": {
    "collapsed": false,
    "pycharm": {
     "name": "#%%\n"
    }
   }
  },
  {
   "cell_type": "code",
   "execution_count": 196,
   "outputs": [],
   "source": [
    "# u, v: vertexes/coordinates\n",
    "# t: WEIGHT_TYPE\n",
    "def weight (u, v, t):\n",
    "  if t[0] == \"E\":\n",
    "    return round(math.sqrt(sum([(a - b) ** 2 for a, b in zip(u, v)])))\n",
    "  else:\n",
    "    PI = 3.141592\n",
    "    deg_xu = int(u[0])\n",
    "    min_xu = u[0] - deg_xu\n",
    "    rad_xu = PI * (deg_xu + 5.0 * min_xu/ 3.0) / 180.0\n",
    "\n",
    "    deg_yu = int(u[1])\n",
    "    min_yu = u[1] - deg_yu\n",
    "    rad_yu = PI * (deg_yu + 5.0 * min_yu/ 3.0) / 180.0\n",
    "\n",
    "    deg_xv = int(v[0])\n",
    "    min_xv = v[0] - deg_xv\n",
    "    rad_xv= PI * (deg_xv + 5.0 * min_xv/ 3.0) / 180.0\n",
    "\n",
    "    deg_yv = int(v[1])\n",
    "    min_yv = v[1]- deg_yv\n",
    "    rad_yv = PI * (deg_yv + 5.0 * min_yv/ 3.0) / 180.0\n",
    "\n",
    "    RRR = 6378.388\n",
    "    q1 = math.cos(rad_yu - rad_yv)\n",
    "    q2 = math.cos(rad_xu - rad_xv)\n",
    "    q3 = math.cos(rad_xu + rad_xv)\n",
    "    return (int) (RRR * math.acos(0.5 * ((1.0 + q1) * q2 - (1.0 - q1) * q3)) + 1.0)"
   ],
   "metadata": {
    "collapsed": false,
    "pycharm": {
     "name": "#%%\n"
    }
   }
  },
  {
   "cell_type": "code",
   "execution_count": 197,
   "outputs": [],
   "source": [
    "def CH_VISIT(V):\n",
    "    mindist = math.inf\n",
    "    closest_vertex_to_zero = None\n",
    "    starting_vertex = V.pop(0) # Extract the vertex 0\n",
    "    partial_circuit = []\n",
    "    partial_circuit.append(starting_vertex) # Initialize the partial circuit with vertex 0\n",
    "    for v in V:\n",
    "        current_weight = weight(starting_vertex[1], v[1], t)\n",
    "        if current_weight < mindist:\n",
    "            closest_vertex_to_zero = v\n",
    "            mindist = current_weight\n",
    "    partial_circuit.append(closest_vertex_to_zero)\n",
    "    partial_circuit.append(starting_vertex) # Build initial (0,j,0) circuit, with j = vertex which minimizes weight(0,j)\n",
    "    V.remove(closest_vertex_to_zero)\n",
    "    ## TODO: probably we need a flag to save when a vertex has been inserted in the partial_circuit instead of using remove\n"
   ],
   "metadata": {
    "collapsed": false,
    "pycharm": {
     "name": "#%%\n"
    }
   }
  },
  {
   "cell_type": "code",
   "execution_count": 198,
   "outputs": [
    {
     "name": "stdout",
     "output_type": "stream",
     "text": [
      "442 EUC_2D\n",
      "\n",
      "100\n"
     ]
    }
   ],
   "source": [
    "lines = open(\"tsp_dataset/pcb442.tsp\", \"r\").readlines()\n",
    "index_start_coordinates = 0\n",
    "cont = 0\n",
    "V = []\n",
    "\n",
    "for line in lines:\n",
    "  cont += 1\n",
    "  if line.startswith(\"EOF\"):\n",
    "    break\n",
    "  elif line.startswith(\"DIMENSION\"):\n",
    "    n = int(line.split(\":\")[1][1:])\n",
    "  elif line.startswith(\"EDGE_WEIGHT_TYPE\"):\n",
    "    t = line.split(\":\")[1][1:] # TODO: remove space at the end\n",
    "  elif line.startswith(\"NODE_COORD_SECTION\"):\n",
    "    index_start_coordinates = cont\n",
    "  elif (index_start_coordinates > 0):\n",
    "    V.append((int(line.split()[0]) - 1, [float(line.split()[1]), float(line.split()[2])])) #(i, [x_value, y_value])\n",
    "#n = int(lines[3].split()[1]) #.split()[0] # extract number of vertexes\n",
    "#t = lines[4].split()[1]\n",
    "print(n,t)\n",
    "\n",
    "CH_VISIT(V)"
   ],
   "metadata": {
    "collapsed": false,
    "pycharm": {
     "name": "#%%\n"
    }
   }
  }
 ],
 "metadata": {
  "kernelspec": {
   "name": "pycharm-6c910683",
   "language": "python",
   "display_name": "PyCharm (Homework1)"
  },
  "language_info": {
   "codemirror_mode": {
    "name": "ipython",
    "version": 2
   },
   "file_extension": ".py",
   "mimetype": "text/x-python",
   "name": "python",
   "nbconvert_exporter": "python",
   "pygments_lexer": "ipython2",
   "version": "2.7.6"
  }
 },
 "nbformat": 4,
 "nbformat_minor": 0
}