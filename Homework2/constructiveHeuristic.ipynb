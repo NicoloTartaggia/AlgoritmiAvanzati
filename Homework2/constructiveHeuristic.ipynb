{
 "cells": [
  {
   "cell_type": "markdown",
   "source": [
    "# Constructive heuristic"
   ],
   "metadata": {
    "collapsed": false,
    "pycharm": {
     "name": "#%% md\n"
    }
   }
  },
  {
   "cell_type": "code",
   "execution_count": 210,
   "outputs": [
    {
     "ename": "IndexError",
     "evalue": "list index out of range",
     "output_type": "error",
     "traceback": [
      "\u001B[0;31m---------------------------------------------------------------------------\u001B[0m",
      "\u001B[0;31mIndexError\u001B[0m                                Traceback (most recent call last)",
      "\u001B[0;32m<ipython-input-210-be4abeae2a50>\u001B[0m in \u001B[0;36m<module>\u001B[0;34m\u001B[0m\n\u001B[1;32m     26\u001B[0m \u001B[0;32mfor\u001B[0m \u001B[0mline\u001B[0m \u001B[0;32min\u001B[0m \u001B[0mfile\u001B[0m\u001B[0;34m:\u001B[0m\u001B[0;34m\u001B[0m\u001B[0;34m\u001B[0m\u001B[0m\n\u001B[1;32m     27\u001B[0m         \u001B[0mwords\u001B[0m \u001B[0;34m=\u001B[0m \u001B[0mline\u001B[0m\u001B[0;34m.\u001B[0m\u001B[0msplit\u001B[0m\u001B[0;34m(\u001B[0m\u001B[0;34m)\u001B[0m\u001B[0;34m\u001B[0m\u001B[0;34m\u001B[0m\u001B[0m\n\u001B[0;32m---> 28\u001B[0;31m         \u001B[0;32mif\u001B[0m \u001B[0mwords\u001B[0m\u001B[0;34m[\u001B[0m\u001B[0;36m0\u001B[0m\u001B[0;34m]\u001B[0m \u001B[0;34m==\u001B[0m \u001B[0;34m'DIMENSION:'\u001B[0m\u001B[0;34m:\u001B[0m\u001B[0;34m\u001B[0m\u001B[0;34m\u001B[0m\u001B[0m\n\u001B[0m\u001B[1;32m     29\u001B[0m                         \u001B[0mcitycount\u001B[0m \u001B[0;34m=\u001B[0m \u001B[0mint\u001B[0m\u001B[0;34m(\u001B[0m\u001B[0mwords\u001B[0m\u001B[0;34m[\u001B[0m\u001B[0;36m1\u001B[0m\u001B[0;34m]\u001B[0m\u001B[0;34m)\u001B[0m\u001B[0;34m\u001B[0m\u001B[0;34m\u001B[0m\u001B[0m\n\u001B[1;32m     30\u001B[0m         \u001B[0;32mif\u001B[0m \u001B[0mwords\u001B[0m\u001B[0;34m[\u001B[0m\u001B[0;36m0\u001B[0m\u001B[0;34m]\u001B[0m\u001B[0;34m.\u001B[0m\u001B[0misdigit\u001B[0m\u001B[0;34m(\u001B[0m\u001B[0;34m)\u001B[0m\u001B[0;34m:\u001B[0m\u001B[0;34m\u001B[0m\u001B[0;34m\u001B[0m\u001B[0m\n",
      "\u001B[0;31mIndexError\u001B[0m: list index out of range"
     ]
    }
   ],
   "source": [
    "!pip install ipython-autotime\n",
    "#%load_ext autotime\n",
    "\n",
    "import math\n",
    "import copy"
   ],
   "metadata": {
    "collapsed": false,
    "pycharm": {
     "name": "#%%\n"
    }
   }
  },
  {
   "cell_type": "code",
   "execution_count": null,
   "outputs": [],
   "source": [
    "# u, v: vertexes/coordinates\n",
    "# t: WEIGHT_TYPE\n",
    "def weight (u, v):\n",
    "  if t == \"EUC_2D\":\n",
    "    return round(math.sqrt(sum([(a - b) ** 2 for a, b in zip(u, v)])))\n",
    "  else:\n",
    "    PI = 3.141592\n",
    "    deg_xu = int(u[0])\n",
    "    min_xu = u[0] - deg_xu\n",
    "    rad_xu = PI * (deg_xu + 5.0 * min_xu/ 3.0) / 180.0\n",
    "\n",
    "    deg_yu = int(u[1])\n",
    "    min_yu = u[1] - deg_yu\n",
    "    rad_yu = PI * (deg_yu + 5.0 * min_yu/ 3.0) / 180.0\n",
    "\n",
    "    deg_xv = int(v[0])\n",
    "    min_xv = v[0] - deg_xv\n",
    "    rad_xv= PI * (deg_xv + 5.0 * min_xv/ 3.0) / 180.0\n",
    "\n",
    "    deg_yv = int(v[1])\n",
    "    min_yv = v[1]- deg_yv\n",
    "    rad_yv = PI * (deg_yv + 5.0 * min_yv/ 3.0) / 180.0\n",
    "\n",
    "    RRR = 6378.388\n",
    "    q1 = math.cos(rad_yu - rad_yv)\n",
    "    q2 = math.cos(rad_xu - rad_xv)\n",
    "    q3 = math.cos(rad_xu + rad_xv)\n",
    "    return int(RRR * math.acos(0.5 * ((1.0 + q1) * q2 - (1.0 - q1) * q3)) + 1.0)"
   ],
   "metadata": {
    "collapsed": false,
    "pycharm": {
     "name": "#%%\n"
    }
   }
  },
  {
   "cell_type": "code",
   "execution_count": null,
   "outputs": [],
   "source": [
    "def closest_vertex(p, V: list):\n",
    "    min_dist = math.inf\n",
    "    closest = None\n",
    "    for v in V:\n",
    "        dist = weight(p[1], v[1])\n",
    "        if dist < min_dist:\n",
    "            min_dist = dist\n",
    "            closest = v\n",
    "    return closest, min_dist"
   ],
   "metadata": {
    "collapsed": false,
    "pycharm": {
     "name": "#%%\n"
    }
   }
  },
  {
   "cell_type": "code",
   "execution_count": null,
   "outputs": [],
   "source": [
    "def CH_VISIT(V: list):\n",
    "    shortest_path = []\n",
    "    shortest_distance = math.inf\n",
    "    for i in range(len(V)):\n",
    "        unvisited = copy.deepcopy(V)\n",
    "        starting_vertex = unvisited[i] # Extract starting vertex\n",
    "        partial_path = [starting_vertex]\n",
    "        unvisited.remove(starting_vertex)\n",
    "        sum = 0\n",
    "        while len(unvisited) > 0:\n",
    "            closest, dist = closest_vertex(partial_path[-1], unvisited) # partial_circuit[-1] takes the last element\n",
    "            partial_path.append(closest)\n",
    "            unvisited.remove(closest)\n",
    "            sum += dist\n",
    "        partial_path.append(starting_vertex)\n",
    "        sum += weight(partial_path[-1][1], starting_vertex[1])\n",
    "        if shortest_distance > sum:\n",
    "            shortest_distance = sum\n",
    "            shortest_path = copy.deepcopy(partial_path)\n",
    "    return shortest_path, sum"
   ],
   "metadata": {
    "collapsed": false,
    "pycharm": {
     "name": "#%%\n"
    }
   }
  },
  {
   "cell_type": "code",
   "execution_count": null,
   "outputs": [],
   "source": [
    "lines = open(\"tsp_dataset/berlin52.tsp\", \"r\").readlines()\n",
    "index_start_coordinates = 0\n",
    "cont = 0\n",
    "V = []\n",
    "for line in lines:\n",
    "  cont += 1\n",
    "  if line.replace(\" \", \"\").startswith(\"EOF\"):\n",
    "    break\n",
    "  elif line.replace(\" \", \"\").startswith(\"DIMENSION\"):\n",
    "    n = int(line.split(\":\")[1][1:])\n",
    "  elif line.replace(\" \", \"\").startswith(\"EDGE_WEIGHT_TYPE\"):\n",
    "    t = line.replace(\" \", \"\").split(\":\")[1][1:]\n",
    "  elif line.replace(\" \", \"\").startswith(\"NODE_COORD_SECTION\"):\n",
    "    index_start_coordinates = cont\n",
    "  elif index_start_coordinates > 0:\n",
    "    V.append((int(line.split()[0]) - 1, [float(line.split()[1]), float(line.split()[2])])) #(i, [x_value, y_value])\n",
    "#n = int(lines[3].split()[1]) #.split()[0] # extract number of vertexes\n",
    "#t = lines[4].split()[1]\n",
    "\n",
    "pc, sum = CH_VISIT(V)\n",
    "\n",
    "#for v in pc:\n",
    "#    print(v)\n",
    "\n",
    "print(\"\\nfinal cost =\",sum)"
   ],
   "metadata": {
    "collapsed": false,
    "pycharm": {
     "name": "#%%\n"
    }
   }
  }
 ],
 "metadata": {
  "kernelspec": {
   "name": "pycharm-6c910683",
   "language": "python",
   "display_name": "PyCharm (Homework1)"
  },
  "language_info": {
   "codemirror_mode": {
    "name": "ipython",
    "version": 2
   },
   "file_extension": ".py",
   "mimetype": "text/x-python",
   "name": "python",
   "nbconvert_exporter": "python",
   "pygments_lexer": "ipython2",
   "version": "2.7.6"
  }
 },
 "nbformat": 4,
 "nbformat_minor": 0
}