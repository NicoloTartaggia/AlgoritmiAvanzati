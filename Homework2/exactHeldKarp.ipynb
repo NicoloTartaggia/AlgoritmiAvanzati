{
  "nbformat": 4,
  "nbformat_minor": 0,
  "metadata": {
    "kernelspec": {
      "display_name": "Python 3",
      "language": "python",
      "name": "python3"
    },
    "language_info": {
      "codemirror_mode": {
        "name": "ipython",
        "version": 2
      },
      "file_extension": ".py",
      "mimetype": "text/x-python",
      "name": "python",
      "nbconvert_exporter": "python",
      "pygments_lexer": "ipython2",
      "version": "2.7.6"
    },
    "colab": {
      "name": "exactHeldKarp.ipynb",
      "provenance": [],
      "toc_visible": true,
      "include_colab_link": true
    }
  },
  "cells": [
    {
      "cell_type": "markdown",
      "metadata": {
        "id": "view-in-github",
        "colab_type": "text"
      },
      "source": [
        "<a href=\"https://colab.research.google.com/github/cipz/AlgoritmiAvanzati/blob/master/Homework2/exactHeldKarp.ipynb\" target=\"_parent\"><img src=\"https://colab.research.google.com/assets/colab-badge.svg\" alt=\"Open In Colab\"/></a>"
      ]
    },
    {
      "cell_type": "markdown",
      "metadata": {
        "collapsed": true,
        "pycharm": {
          "name": "#%% md\n"
        },
        "id": "qmzTRawkKeML",
        "colab_type": "text"
      },
      "source": [
        "# Held and Karp algorithm"
      ]
    },
    {
      "cell_type": "code",
      "metadata": {
        "id": "M4SA5OiWgBbx",
        "colab_type": "code",
        "colab": {}
      },
      "source": [
        "!pip install ipython-autotime\n",
        "\n",
        "%load_ext autotime"
      ],
      "execution_count": 0,
      "outputs": []
    },
    {
      "cell_type": "code",
      "metadata": {
        "id": "CFDLmbuaU4er",
        "colab_type": "code",
        "colab": {}
      },
      "source": [
        "class Graph:\n",
        "  def __init__(self, n):\n",
        "    self.n = n # number of nodes\n",
        "    self.w = [][] # matrix of distances w(u, v) "
      ],
      "execution_count": 0,
      "outputs": []
    },
    {
      "cell_type": "code",
      "metadata": {
        "id": "EbkyLmiNpsAf",
        "colab_type": "code",
        "colab": {
          "base_uri": "https://localhost:8080/",
          "height": 71
        },
        "outputId": "a2c9a039-7888-4bd9-e7ee-aadfb15040dc"
      },
      "source": [
        "lines = open(\"burma14.tsp\", \"r\").readlines()\n",
        "print(lines)\n",
        "n = int(lines[3].split()[1]) #.split()[0] # extract number of vertexes\n",
        "t = lines[4].split()[1]\n",
        "coordinates = lines[9]\n",
        "\n",
        "'''for line in lines:\n",
        "  if line.split()[0] == 'DIMENSION:':\n",
        "    n = line.split()[0]\n",
        "  else if line.split()[0] == 'EDGE_WEIGHT_TYPE:'\n",
        "    t = line.split()[0]\n",
        "  print()'''\n",
        "\n",
        "V = [] # array of vertexes/coordinates\n",
        "for i in range(9, 9 + n - 1):\n",
        "  V.append([lines[i].split()[1], lines[i].split()[2]])\n",
        "\n",
        "print(V)"
      ],
      "execution_count": 33,
      "outputs": [
        {
          "output_type": "stream",
          "text": [
            "['NAME: burma14\\n', 'TYPE: TSP\\n', 'COMMENT: 14-Staedte in Burma (Zaw Win)\\n', 'DIMENSION: 14\\n', 'EDGE_WEIGHT_TYPE: GEO\\n', 'EDGE_WEIGHT_FORMAT: FUNCTION \\n', 'DISPLAY_DATA_TYPE: COORD_DISPLAY\\n', 'NODE_COORD_SECTION\\n', '   1  16.47       96.10\\n', '   2  16.47       94.44\\n', '   3  20.09       92.54\\n', '   4  22.39       93.37\\n', '   5  25.23       97.24\\n', '   6  22.00       96.05\\n', '   7  20.47       97.02\\n', '   8  17.20       96.29\\n', '   9  16.30       97.38\\n', '  10  14.05       98.12\\n', '  11  16.53       97.38\\n', '  12  21.52       95.59\\n', '  13  19.41       97.13\\n', '  14  20.09       94.55\\n', 'EOF\\n', '\\n', '\\n', '\\n']\n",
            "[['16.47', '94.44'], ['20.09', '92.54'], ['22.39', '93.37'], ['25.23', '97.24'], ['22.00', '96.05'], ['20.47', '97.02'], ['17.20', '96.29'], ['16.30', '97.38'], ['14.05', '98.12'], ['16.53', '97.38'], ['21.52', '95.59'], ['19.41', '97.13'], ['20.09', '94.55']]\n"
          ],
          "name": "stdout"
        }
      ]
    },
    {
      "cell_type": "code",
      "metadata": {
        "id": "3zkZ7dgUVYCj",
        "colab_type": "code",
        "colab": {}
      },
      "source": [
        "# global values\n",
        "d = [][]\n",
        "phi = [][]\n",
        "\n"
      ],
      "execution_count": 0,
      "outputs": []
    },
    {
      "cell_type": "code",
      "metadata": {
        "id": "uh7auihJeXfB",
        "colab_type": "code",
        "colab": {}
      },
      "source": [
        "import math\n",
        "# u, v: vertexes/coordinates\n",
        "# t: WEIGHT_TYPE\n",
        "def weight (u, v, t):\n",
        "  if t == \"EUC_2D\":\n",
        "    return round(math.sqrt(sum([(a - b) ** 2 for a, b in zip(u, v)])))\n",
        "  else:\n",
        "    RRR = 6378.388\n",
        "    q1 = math.cos(u[1] - v[1])\n",
        "    q2 = math.cos(u[0] - v[0])\n",
        "    q3 = math.cos(u[0] + v[0])\n",
        "    return (int) (RRR * math.acos(0.5 * ((1.0 + q1) * q2 - (1.0 - q1) * q3)) + 1.0)"
      ],
      "execution_count": 0,
      "outputs": []
    },
    {
      "cell_type": "code",
      "metadata": {
        "id": "wD_G4AO3LUWF",
        "colab_type": "code",
        "colab": {}
      },
      "source": [
        "def HK_VISIT (v, S): # v: arrival vertex of S, S: subset of vertexes \n",
        "  if S = {v}: # Caso base: la soluzione è il peso dell’arco {v,0}\n",
        "    return w[v, 0]\n",
        "  else if d[v, S] != NULL: # Distanza già calcolata, ritorna il valore memorizzato\n",
        "    return d[v,S] \n",
        "  else  # Caso ricorsivo: trova il minimo tra tutti i sottocammini\n",
        "    mindist = ∞\n",
        "    minprec = NULL\n",
        "    for u in S \\ {v}:\n",
        "      dist = HK_VISIT(u, S \\ {v})\n",
        "      if (dist + weight(u, v)) < mindist:\n",
        "        mindist = dist + weight(u, v)\n",
        "        minprec = u\n",
        "    d[v, S] = mindist\n",
        "    phi[v, S] = minprec\n",
        "    return mindist"
      ],
      "execution_count": 0,
      "outputs": []
    },
    {
      "cell_type": "code",
      "metadata": {
        "id": "H12eIqTmLfgd",
        "colab_type": "code",
        "colab": {}
      },
      "source": [
        "def HK_TSP (G):\n",
        "  G = (V, E) # build graph\n",
        "  d = 0 # initialize matrix d\n",
        "  phi = 0 # initialize matrix phi\n",
        "  return HK_VISIT(0, V)\n",
        "\n"
      ],
      "execution_count": 0,
      "outputs": []
    }
  ]
}