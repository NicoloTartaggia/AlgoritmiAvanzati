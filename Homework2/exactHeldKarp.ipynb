{
  "nbformat": 4,
  "nbformat_minor": 0,
  "metadata": {
    "kernelspec": {
      "name": "pycharm-6c910683",
      "language": "python",
      "display_name": "PyCharm (Homework1)"
    },
    "language_info": {
      "codemirror_mode": {
        "name": "ipython",
        "version": 2
      },
      "file_extension": ".py",
      "mimetype": "text/x-python",
      "name": "python",
      "nbconvert_exporter": "python",
      "pygments_lexer": "ipython2",
      "version": "2.7.6"
    },
    "colab": {
      "name": "exactHeldKarp.ipynb",
      "provenance": [],
      "toc_visible": true,
      "include_colab_link": true
    }
  },
  "cells": [
    {
      "cell_type": "markdown",
      "metadata": {
        "id": "view-in-github",
        "colab_type": "text"
      },
      "source": [
        "<a href=\"https://colab.research.google.com/github/cipz/AlgoritmiAvanzati/blob/master/Homework2/exactHeldKarp.ipynb\" target=\"_parent\"><img src=\"https://colab.research.google.com/assets/colab-badge.svg\" alt=\"Open In Colab\"/></a>"
      ]
    },
    {
      "cell_type": "markdown",
      "metadata": {
        "collapsed": false,
        "id": "lXKA4EEB04gg",
        "colab_type": "text"
      },
      "source": [
        "# Held and Karp algorithm"
      ]
    },
    {
      "cell_type": "code",
      "metadata": {
        "pycharm": {
          "name": "#%%\n"
        },
        "id": "p9p3hXyC04gh",
        "colab_type": "code",
        "outputId": "d7ebf3d9-fd7c-45c7-82da-3ad96d5b11ef",
        "colab": {
          "base_uri": "https://localhost:8080/",
          "height": 85
        }
      },
      "source": [
        "!pip install ipython-autotime\n",
        "\n",
        "%load_ext autotime"
      ],
      "execution_count": 68,
      "outputs": [
        {
          "output_type": "stream",
          "text": [
            "Requirement already satisfied: ipython-autotime in /usr/local/lib/python3.6/dist-packages (0.1)\n",
            "The autotime extension is already loaded. To reload it, use:\n",
            "  %reload_ext autotime\n",
            "time: 3.31 s\n"
          ],
          "name": "stdout"
        }
      ]
    },
    {
      "cell_type": "code",
      "metadata": {
        "pycharm": {
          "name": "#%%\n"
        },
        "id": "0L80xIT704gl",
        "colab_type": "code",
        "outputId": "034b0b4f-26e7-4cd9-f4a0-d40b65b79c30",
        "colab": {
          "base_uri": "https://localhost:8080/",
          "height": 34
        }
      },
      "source": [
        "import math\n",
        "import numpy as np\n",
        "# u, v: vertexes/coordinates\n",
        "# t: WEIGHT_TYPE\n",
        "def weight (u, v, t):\n",
        "  if t == 'EUC_2D':\n",
        "    return round(math.sqrt(sum([(a - b) ** 2 for a, b in zip(u, v)])))\n",
        "  else:\n",
        "    PI = 3.141592\n",
        "    deg_xu = int(u[0])\n",
        "    min_xu = u[0] - deg_xu\n",
        "    rad_xu = PI * (deg_xu + 5.0 * min_xu/ 3.0) / 180.0\n",
        "\n",
        "    deg_yu = int(u[1])\n",
        "    min_yu = u[1] - deg_yu\n",
        "    rad_yu = PI * (deg_yu + 5.0 * min_yu/ 3.0) / 180.0\n",
        "\n",
        "    deg_xv = int(v[0])\n",
        "    min_xv = v[0] - deg_xv\n",
        "    rad_xv= PI * (deg_xv + 5.0 * min_xv/ 3.0) / 180.0\n",
        "\n",
        "    deg_yv = int(v[1])\n",
        "    min_yv = v[1]- deg_yv\n",
        "    rad_yv = PI * (deg_yv + 5.0 * min_yv/ 3.0) / 180.0\n",
        "\n",
        "    RRR = 6378.388\n",
        "    q1 = math.cos(rad_yu - rad_yv)\n",
        "    q2 = math.cos(rad_xu - rad_xv)\n",
        "    q3 = math.cos(rad_xu + rad_xv)\n",
        "    return (int) (RRR * math.acos(0.5 * ((1.0 + q1) * q2 - (1.0 - q1) * q3)) + 1.0)"
      ],
      "execution_count": 69,
      "outputs": [
        {
          "output_type": "stream",
          "text": [
            "time: 18 ms\n"
          ],
          "name": "stdout"
        }
      ]
    },
    {
      "cell_type": "code",
      "metadata": {
        "pycharm": {
          "name": "#%%\n"
        },
        "id": "lv6Rwtso04gn",
        "colab_type": "code",
        "outputId": "4942da30-aee4-405d-bf47-8e50eb27d703",
        "colab": {
          "base_uri": "https://localhost:8080/",
          "height": 34
        }
      },
      "source": [
        "lines = open(\"burma14.tsp\", \"r\").readlines()\n",
        "index_start_coordinates = 0\n",
        "cont = 0\n",
        "V = []\n",
        "\n",
        "for line in lines:\n",
        "  cont += 1\n",
        "  if line.replace(\" \", \"\").startswith(\"EOF\"):\n",
        "    break\n",
        "  elif line.replace(\" \", \"\").startswith(\"DIMENSION\"):\n",
        "    n = int(line.split(\":\")[1][1:])\n",
        "  elif line.replace(\" \", \"\").startswith(\"EDGE_WEIGHT_TYPE\"):\n",
        "    t = line.replace(\" \", \"\").split(\":\")[1][1:]\n",
        "  elif line.replace(\" \", \"\").startswith(\"NODE_COORD_SECTION\"):\n",
        "    index_start_coordinates = cont\n",
        "  elif index_start_coordinates > 0:\n",
        "    V.append((int(line.split()[0]) - 1, [float(line.split()[1]), float(line.split()[2])])) #(i, [x_value, y_value])\n",
        "\n",
        "#n = int(lines[3].split()[1]) #.split()[0] # extract number of vertexes\n",
        "#t = lines[4].split()[1]"
      ],
      "execution_count": 70,
      "outputs": [
        {
          "output_type": "stream",
          "text": [
            "time: 13 ms\n"
          ],
          "name": "stdout"
        }
      ]
    },
    {
      "cell_type": "code",
      "metadata": {
        "pycharm": {
          "name": "#%%\n"
        },
        "id": "7l9cm5ib04gp",
        "colab_type": "code",
        "outputId": "bdbc7fcd-2cb9-4d4b-d440-ac0a31e72a60",
        "colab": {
          "base_uri": "https://localhost:8080/",
          "height": 34
        }
      },
      "source": [
        "# build a unique identifier for the subset S, joining the indexes of the vertexes with a blank space between them\n",
        "def encode(S):\n",
        "  encoded_string = \"\"\n",
        "  for s in S:\n",
        "    encoded_string += \" \" + str(s[0])\n",
        "  return encoded_string\n",
        "\n",
        "subsets = {} # dictionary to enumerate the subsets\n",
        "counter = 0\n",
        "subsets[encode(V)] = counter # add the first subset, with all vertexes\n",
        "counter += 1\n",
        "\n",
        "d = np.zeros(shape = (n, 2 ** (n - 1))) # d[v, S]: distance of the TSP starting from 0 to v, passing through al points of S\n",
        "phi = np.zeros(shape = (n, 2 ** (n - 1))) # phi[v, S]: predecessor of v "
      ],
      "execution_count": 71,
      "outputs": [
        {
          "output_type": "stream",
          "text": [
            "time: 14 ms\n"
          ],
          "name": "stdout"
        }
      ]
    },
    {
      "cell_type": "code",
      "metadata": {
        "pycharm": {
          "name": "#%%\n"
        },
        "id": "teIFOkhc04gs",
        "colab_type": "code",
        "outputId": "c7d12687-ea1d-4426-872c-6b3d8b2f79cb",
        "colab": {
          "base_uri": "https://localhost:8080/",
          "height": 34
        }
      },
      "source": [
        "import time\n",
        "def held_karp (v, S, max_time): # v: arrival vertex of S starting from 0, S: subset of vertexes \n",
        "  S_index = subsets[encode(S)] # build a unique identifier for the subset S\n",
        "  if time.time() > max_time: # max time: 3 min\n",
        "    return None\n",
        "  elif (len(S) == 1) & (S[0][0] == v): # base case: the solution is the weight of the edge {v, 0}\n",
        "    return weight(V[v][1], V[0][1], t)\n",
        "  elif d[v, S_index] != 0: # distance already computed\n",
        "    return d[v, S_index] \n",
        "  else:  # recursive case: find the minimum among all the sub-paths\n",
        "    mindist = math.inf\n",
        "    minprec = None\n",
        "    subset = [i for i in S if i[0] != v] # S \\ {v} \n",
        "    if encode(subset) not in subsets: \n",
        "      global counter\n",
        "      subsets[encode(subset)] = counter\n",
        "      counter += 1\n",
        "    for u in subset:\n",
        "      dist = held_karp(u[0], subset, max_time) # compute the partial result\n",
        "      if dist is None:\n",
        "        break\n",
        "      else:\n",
        "        w = weight(u[1], V[v][1], t)\n",
        "        if (dist + w) < mindist:\n",
        "          mindist = dist + w\n",
        "          minprec = u[0]\n",
        "    d[v, S_index] = mindist # update d with the minimum distance\n",
        "    phi[v, S_index] = minprec # update phi with predecessor of v\n",
        "    return mindist"
      ],
      "execution_count": 72,
      "outputs": [
        {
          "output_type": "stream",
          "text": [
            "time: 17.7 ms\n"
          ],
          "name": "stdout"
        }
      ]
    },
    {
      "cell_type": "code",
      "metadata": {
        "pycharm": {
          "name": "#%%\n"
        },
        "id": "MD2kcHAp04gu",
        "colab_type": "code",
        "outputId": "72464124-13ce-461d-d5d2-860b70c06a19",
        "colab": {
          "base_uri": "https://localhost:8080/",
          "height": 51
        }
      },
      "source": [
        "start = time.time()\n",
        "max_time = 120\n",
        "print(held_karp(0, V, (start + max_time)))"
      ],
      "execution_count": 73,
      "outputs": [
        {
          "output_type": "stream",
          "text": [
            "3323.0\n",
            "time: 2.15 s\n"
          ],
          "name": "stdout"
        }
      ]
    }
  ]
}