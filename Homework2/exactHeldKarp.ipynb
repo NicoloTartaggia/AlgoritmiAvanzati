{
  "nbformat": 4,
  "nbformat_minor": 0,
  "metadata": {
    "kernelspec": {
      "display_name": "Python 3",
      "language": "python",
      "name": "python3"
    },
    "language_info": {
      "codemirror_mode": {
        "name": "ipython",
        "version": 2
      },
      "file_extension": ".py",
      "mimetype": "text/x-python",
      "name": "python",
      "nbconvert_exporter": "python",
      "pygments_lexer": "ipython2",
      "version": "2.7.6"
    },
    "colab": {
      "name": "exactHeldKarp.ipynb",
      "provenance": [],
      "toc_visible": true,
      "include_colab_link": true
    }
  },
  "cells": [
    {
      "cell_type": "markdown",
      "metadata": {
        "id": "view-in-github",
        "colab_type": "text"
      },
      "source": [
        "<a href=\"https://colab.research.google.com/github/cipz/AlgoritmiAvanzati/blob/master/Homework2/exactHeldKarp.ipynb\" target=\"_parent\"><img src=\"https://colab.research.google.com/assets/colab-badge.svg\" alt=\"Open In Colab\"/></a>"
      ]
    },
    {
      "cell_type": "markdown",
      "metadata": {
        "collapsed": true,
        "pycharm": {
          "name": "#%% md\n"
        },
        "id": "qmzTRawkKeML",
        "colab_type": "text"
      },
      "source": [
        "# Held and Karp algorithm"
      ]
    },
    {
      "cell_type": "code",
      "metadata": {
        "id": "M4SA5OiWgBbx",
        "colab_type": "code",
        "outputId": "96f9abb9-5b4b-46f3-985e-1fce8835b1dc",
        "colab": {
          "base_uri": "https://localhost:8080/",
          "height": 84
        }
      },
      "source": [
        "!pip install ipython-autotime\n",
        "\n",
        "%load_ext autotime"
      ],
      "execution_count": 462,
      "outputs": [
        {
          "output_type": "stream",
          "text": [
            "Requirement already satisfied: ipython-autotime in /usr/local/lib/python3.6/dist-packages (0.1)\n",
            "The autotime extension is already loaded. To reload it, use:\n",
            "  %reload_ext autotime\n",
            "time: 4.34 s\n"
          ],
          "name": "stdout"
        }
      ]
    },
    {
      "cell_type": "code",
      "metadata": {
        "id": "uh7auihJeXfB",
        "colab_type": "code",
        "outputId": "6c514a94-4bba-4ca1-a1a9-01af85d4e95b",
        "colab": {
          "base_uri": "https://localhost:8080/",
          "height": 34
        }
      },
      "source": [
        "import math\n",
        "import numpy as np\n",
        "# u, v: vertexes/coordinates\n",
        "# t: WEIGHT_TYPE\n",
        "def weight (u, v, t):\n",
        "  if t == \"EUC_2D\":\n",
        "    return round(math.sqrt(sum([(a - b) ** 2 for a, b in zip(u, v)])))\n",
        "  else:\n",
        "    PI = 3.141592\n",
        "    deg_xu = int(u[0])\n",
        "    min_xu = u[0] - deg_xu\n",
        "    rad_xu = PI * (deg_xu + 5.0 * min_xu/ 3.0) / 180.0\n",
        "\n",
        "    deg_yu = int(u[1])\n",
        "    min_yu = u[1] - deg_yu\n",
        "    rad_yu = PI * (deg_yu + 5.0 * min_yu/ 3.0) / 180.0\n",
        "\n",
        "    deg_xv = int(v[0])\n",
        "    min_xv = v[0] - deg_xv\n",
        "    rad_xv= PI * (deg_xv + 5.0 * min_xv/ 3.0) / 180.0\n",
        "\n",
        "    deg_yv = int(v[1])\n",
        "    min_yv = v[1]- deg_yv\n",
        "    rad_yv = PI * (deg_yv + 5.0 * min_yv/ 3.0) / 180.0\n",
        "\n",
        "    RRR = 6378.388\n",
        "    q1 = math.cos(rad_yu - rad_yv)\n",
        "    q2 = math.cos(rad_xu - rad_xv)\n",
        "    q3 = math.cos(rad_xu + rad_xv)\n",
        "    return (int) (RRR * math.acos(0.5 * ((1.0 + q1) * q2 - (1.0 - q1) * q3)) + 1.0)"
      ],
      "execution_count": 463,
      "outputs": [
        {
          "output_type": "stream",
          "text": [
            "time: 35.7 ms\n"
          ],
          "name": "stdout"
        }
      ]
    },
    {
      "cell_type": "code",
      "metadata": {
        "id": "EbkyLmiNpsAf",
        "colab_type": "code",
        "outputId": "4ee7dc17-14d5-425d-d5ba-b100bfd46bef",
        "colab": {
          "base_uri": "https://localhost:8080/",
          "height": 188
        }
      },
      "source": [
        "lines = open(\"burma14.tsp\", \"r\").readlines()\n",
        "print(lines)\n",
        "n = int(lines[3].split()[1]) #.split()[0] # extract number of vertexes\n",
        "t = lines[4].split()[1]\n",
        "\n",
        "'''for line in lines:\n",
        "  if line.split()[0] == 'DIMENSION:':\n",
        "    n = line.split()[0]\n",
        "  else if line.split()[0] == 'EDGE_WEIGHT_TYPE:'\n",
        "    t = line.split()[0]\n",
        "  print()'''\n",
        "\n",
        "V = [] # array of vertexes/coordinates\n",
        "for i in range(8, 8 + n):\n",
        "  V.append((int(lines[i].split()[0]) - 1, [float(lines[i].split()[1]), float(lines[i].split()[2])])) #(i, [x_value, y_value])\n",
        "\n",
        "print(V)\n",
        "\n",
        "print(weight(V[0][1], V[1][1], t))\n",
        "print(weight(V[0][1], V[2][1], t))\n",
        "print(weight(V[1][1], V[2][1], t))\n",
        "print(weight(V[0][1], V[3][1], t))\n",
        "print(weight(V[1][1], V[3][1], t))\n",
        "print(weight(V[2][1], V[3][1], t))"
      ],
      "execution_count": 464,
      "outputs": [
        {
          "output_type": "stream",
          "text": [
            "['NAME: burma14\\n', 'TYPE: TSP\\n', 'COMMENT: 14-Staedte in Burma (Zaw Win)\\n', 'DIMENSION: 14\\n', 'EDGE_WEIGHT_TYPE: GEO\\n', 'EDGE_WEIGHT_FORMAT: FUNCTION \\n', 'DISPLAY_DATA_TYPE: COORD_DISPLAY\\n', 'NODE_COORD_SECTION\\n', '   1  16.47       96.10\\n', '   2  16.47       94.44\\n', '   3  20.09       92.54\\n', '   4  22.39       93.37\\n', '   5  25.23       97.24\\n', '   6  22.00       96.05\\n', '   7  20.47       97.02\\n', '   8  17.20       96.29\\n', '   9  16.30       97.38\\n', '  10  14.05       98.12\\n', '  11  16.53       97.38\\n', '  12  21.52       95.59\\n', '  13  19.41       97.13\\n', '  14  20.09       94.55\\n', 'EOF\\n', '\\n', '\\n', '\\n']\n",
            "[(0, [16.47, 96.1]), (1, [16.47, 94.44]), (2, [20.09, 92.54]), (3, [22.39, 93.37]), (4, [25.23, 97.24]), (5, [22.0, 96.05]), (6, [20.47, 97.02]), (7, [17.2, 96.29]), (8, [16.3, 97.38]), (9, [14.05, 98.12]), (10, [16.53, 97.38]), (11, [21.52, 95.59]), (12, [19.41, 97.13]), (13, [20.09, 94.55])]\n",
            "153\n",
            "510\n",
            "422\n",
            "706\n",
            "664\n",
            "289\n",
            "time: 30.4 ms\n"
          ],
          "name": "stdout"
        }
      ]
    },
    {
      "cell_type": "code",
      "metadata": {
        "id": "3zkZ7dgUVYCj",
        "colab_type": "code",
        "outputId": "11892f47-8ea7-4365-a4a4-39b46946b442",
        "colab": {
          "base_uri": "https://localhost:8080/",
          "height": 34
        }
      },
      "source": [
        "# global values\n",
        "\n",
        "subsets = []\n",
        "subsets.append(V)\n",
        "#phi = [[None] * 10] * 10 #[[]]\n",
        "#d = [[None] * 10] * 10\n",
        "d = np.zeros(shape=(n,1000000)) # 2^(n-1)\n",
        "phi = np.zeros(shape=(n,1000000))\n",
        "\n",
        "def get_subset_index (S):\n",
        "  cont = 0\n",
        "  for s in subsets:\n",
        "    if s == S:\n",
        "      return cont\n",
        "    else:\n",
        "      cont += 1\n",
        "  return False\n"
      ],
      "execution_count": 465,
      "outputs": [
        {
          "output_type": "stream",
          "text": [
            "time: 84.2 ms\n"
          ],
          "name": "stdout"
        }
      ]
    },
    {
      "cell_type": "code",
      "metadata": {
        "id": "wD_G4AO3LUWF",
        "colab_type": "code",
        "outputId": "ed93d86b-0b1e-49c5-cbb3-76780db12055",
        "colab": {
          "base_uri": "https://localhost:8080/",
          "height": 34
        }
      },
      "source": [
        "def HK_VISIT (v, S): # v: arrival vertex of S, S: subset of vertexes \n",
        "  S_index = get_subset_index(S)\n",
        "  #print(S_index)\n",
        "  if (S_index is not False) & (len(S) == 1) & (S[0][0] == v): # Caso base: la soluzione è il peso dell’arco {v, 0}\n",
        "    #print(\"1 case\")\n",
        "    return weight(V[v][1], V[0][1], t)\n",
        "  elif d[v,S_index] != 0: # Distanza già calcolata, ritorna il valore memorizzato\n",
        "    #print(\"2 case\")\n",
        "    return d[v,S_index] \n",
        "  else:  # Caso ricorsivo: trova il minimo tra tutti i sottocammini\n",
        "    #print(\"3 case\")\n",
        "    mindist = math.inf\n",
        "    minprec = None\n",
        "    temp = [i for i in S if i[0] != v] # S \\ {v} \n",
        "    subsets.append(temp) if temp not in subsets else subsets\n",
        "    for u in temp:\n",
        "      dist = HK_VISIT(u[0], temp)\n",
        "      if (dist + weight(u[1], V[v][1], t)) < mindist:\n",
        "        mindist = dist + weight(u[1], V[v][1], t)\n",
        "        minprec = u[0]\n",
        "    #print(v, S_index)\n",
        "    d[v,S_index] = mindist\n",
        "    phi[v,S_index] = minprec\n",
        "    return mindist"
      ],
      "execution_count": 466,
      "outputs": [
        {
          "output_type": "stream",
          "text": [
            "time: 15.6 ms\n"
          ],
          "name": "stdout"
        }
      ]
    },
    {
      "cell_type": "code",
      "metadata": {
        "id": "H12eIqTmLfgd",
        "colab_type": "code",
        "outputId": "5b0553f9-a9b5-4b76-f27f-d7455305199c",
        "colab": {
          "base_uri": "https://localhost:8080/",
          "height": 34
        }
      },
      "source": [
        "def HK_TSP (G):\n",
        "  G = (V, E) # build graph\n",
        "  d = 0 # initialize matrix d\n",
        "  phi = 0 # initialize matrix phi\n",
        "  return HK_VISIT(0, V)"
      ],
      "execution_count": 467,
      "outputs": [
        {
          "output_type": "stream",
          "text": [
            "time: 1.95 ms\n"
          ],
          "name": "stdout"
        }
      ]
    },
    {
      "cell_type": "code",
      "metadata": {
        "id": "VgwWbkEsdIYo",
        "colab_type": "code",
        "colab": {
          "base_uri": "https://localhost:8080/",
          "height": 67
        },
        "outputId": "e7accd81-d93c-4dd4-b198-c925369e803b"
      },
      "source": [
        "print(HK_VISIT(0, V))\n",
        "print(len(subsets))\n",
        "#print(np.matrix(subsets))\n",
        "#print(np.matrix(d))"
      ],
      "execution_count": 468,
      "outputs": [
        {
          "output_type": "stream",
          "text": [
            "3323.0\n",
            "8192\n",
            "time: 1min 37s\n"
          ],
          "name": "stdout"
        }
      ]
    }
  ]
}