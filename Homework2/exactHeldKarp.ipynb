{
  "nbformat": 4,
  "nbformat_minor": 0,
  "metadata": {
    "kernelspec": {
      "display_name": "Python 3",
      "language": "python",
      "name": "python3"
    },
    "language_info": {
      "codemirror_mode": {
        "name": "ipython",
        "version": 2
      },
      "file_extension": ".py",
      "mimetype": "text/x-python",
      "name": "python",
      "nbconvert_exporter": "python",
      "pygments_lexer": "ipython2",
      "version": "2.7.6"
    },
    "colab": {
      "name": "exactHeldKarp.ipynb",
      "provenance": [],
      "toc_visible": true,
      "include_colab_link": true
    }
  },
  "cells": [
    {
      "cell_type": "markdown",
      "metadata": {
        "id": "view-in-github",
        "colab_type": "text"
      },
      "source": [
        "<a href=\"https://colab.research.google.com/github/cipz/AlgoritmiAvanzati/blob/master/Homework2/exactHeldKarp.ipynb\" target=\"_parent\"><img src=\"https://colab.research.google.com/assets/colab-badge.svg\" alt=\"Open In Colab\"/></a>"
      ]
    },
    {
      "cell_type": "markdown",
      "metadata": {
        "collapsed": true,
        "pycharm": {
          "name": "#%% md\n"
        },
        "id": "qmzTRawkKeML",
        "colab_type": "text"
      },
      "source": [
        "# Held and Karp algorithm"
      ]
    },
    {
      "cell_type": "code",
      "metadata": {
        "id": "M4SA5OiWgBbx",
        "colab_type": "code",
        "outputId": "b9a9203a-b6bf-4c98-e8ad-8e0684ce915d",
        "colab": {
          "base_uri": "https://localhost:8080/",
          "height": 85
        }
      },
      "source": [
        "!pip install ipython-autotime\n",
        "\n",
        "%load_ext autotime"
      ],
      "execution_count": 409,
      "outputs": [
        {
          "output_type": "stream",
          "text": [
            "Requirement already satisfied: ipython-autotime in /usr/local/lib/python3.6/dist-packages (0.1)\n",
            "The autotime extension is already loaded. To reload it, use:\n",
            "  %reload_ext autotime\n",
            "time: 4.3 s\n"
          ],
          "name": "stdout"
        }
      ]
    },
    {
      "cell_type": "code",
      "metadata": {
        "id": "EbkyLmiNpsAf",
        "colab_type": "code",
        "outputId": "8f681373-29a2-47c1-8c2d-ea0c90668ff7",
        "colab": {
          "base_uri": "https://localhost:8080/",
          "height": 462
        }
      },
      "source": [
        "lines = open(\"ulysses22.tsp\", \"r\").readlines()\n",
        "print(lines)\n",
        "n = int(lines[3].split()[1]) #.split()[0] # extract number of vertexes\n",
        "t = lines[4].split()[1]\n",
        "coordinates = lines[6]\n",
        "\n",
        "'''for line in lines:\n",
        "  if line.split()[0] == 'DIMENSION:':\n",
        "    n = line.split()[0]\n",
        "  else if line.split()[0] == 'EDGE_WEIGHT_TYPE:'\n",
        "    t = line.split()[0]\n",
        "  print()'''\n",
        "\n",
        "V = [] # array of vertexes/coordinates\n",
        "for i in range(7, 7 + n):\n",
        "  V.append((int(lines[i].split()[0]) - 1, [float(lines[i].split()[1]), float(lines[i].split()[2])])) #(i, [x_value, y_value])\n",
        "\n",
        "import copy\n",
        "\n",
        "print(V)\n",
        "\n",
        "x1 = 38.24\n",
        "y1 = 20.42\n",
        "c1 = []\n",
        "c1.append(x1)\n",
        "c1.append(y1)\n",
        "x2 = 38.42\n",
        "y2 = 13.11\n",
        "\n",
        "\n",
        "for v in V:\n",
        "  print(weight(c1, v[1], t) + 6576)"
      ],
      "execution_count": 416,
      "outputs": [
        {
          "output_type": "stream",
          "text": [
            "['NAME: ulysses22.tsp\\n', 'TYPE: TSP\\n', 'COMMENT: Odyssey of Ulysses (Groetschel/Padberg)\\n', 'DIMENSION: 22\\n', 'EDGE_WEIGHT_TYPE: GEO\\n', 'DISPLAY_DATA_TYPE: COORD_DISPLAY\\n', 'NODE_COORD_SECTION\\n', ' 1 38.24 20.42\\n', ' 2 39.57 26.15\\n', ' 3 40.56 25.32\\n', ' 4 36.26 23.12\\n', ' 5 33.48 10.54\\n', ' 6 37.56 12.19\\n', ' 7 38.42 13.11\\n', ' 8 37.52 20.44\\n', ' 9 41.23 9.10\\n', ' 10 41.17 13.05\\n', ' 11 36.08 -5.21\\n', ' 12 38.47 15.13\\n', ' 13 38.15 15.35\\n', ' 14 37.51 15.17\\n', ' 15 35.49 14.32\\n', ' 16 39.36 19.56\\n', ' 17 38.09 24.36\\n', ' 18 36.09 23.00\\n', ' 19 40.44 13.57\\n', ' 20 40.33 14.15\\n', ' 21 40.37 14.23\\n', ' 22 37.57 22.56\\n', 'EOF\\n', '\\n']\n",
            "[(0, [38.24, 20.42]), (1, [39.57, 26.15]), (2, [40.56, 25.32]), (3, [36.26, 23.12]), (4, [33.48, 10.54]), (5, [37.56, 12.19]), (6, [38.42, 13.11]), (7, [37.52, 20.44]), (8, [41.23, 9.1]), (9, [41.17, 13.05]), (10, [36.08, -5.21]), (11, [38.47, 15.13]), (12, [38.15, 15.35]), (13, [37.51, 15.17]), (14, [35.49, 14.32]), (15, [39.36, 19.56]), (16, [38.09, 24.36]), (17, [36.09, 23.0]), (18, [40.44, 13.57]), (19, [40.33, 14.15]), (20, [40.37, 14.23]), (21, [37.57, 22.56])]\n",
            "6577\n",
            "7085\n",
            "7077\n",
            "6888\n",
            "7595\n",
            "7312\n",
            "7232\n",
            "6636\n",
            "7615\n",
            "7302\n",
            "8890\n",
            "7055\n",
            "7024\n",
            "7055\n",
            "7195\n",
            "6726\n",
            "6918\n",
            "6899\n",
            "7211\n",
            "7180\n",
            "7172\n",
            "6778\n",
            "time: 19.6 ms\n"
          ],
          "name": "stdout"
        }
      ]
    },
    {
      "cell_type": "code",
      "metadata": {
        "id": "3zkZ7dgUVYCj",
        "colab_type": "code",
        "outputId": "94c3d74e-7ea7-4ee7-bcc6-2fbbb3b4d685",
        "colab": {
          "base_uri": "https://localhost:8080/",
          "height": 51
        }
      },
      "source": [
        "# global values\n",
        "\n",
        "subsets = []\n",
        "subsets.append(V)\n",
        "phi = [[None] * 10000] * 100000\n",
        "d = [[None] * 1000000] * 1000000\n",
        "\n",
        "def get_subset_index (S):\n",
        "  cont = 0\n",
        "  for s in subsets:\n",
        "    if s == S:\n",
        "      return cont\n",
        "    else:\n",
        "      cont += 1\n",
        "  return False\n",
        "\n",
        "print(get_subset_index(V))"
      ],
      "execution_count": 411,
      "outputs": [
        {
          "output_type": "stream",
          "text": [
            "0\n",
            "time: 23.2 ms\n"
          ],
          "name": "stdout"
        }
      ]
    },
    {
      "cell_type": "code",
      "metadata": {
        "id": "uh7auihJeXfB",
        "colab_type": "code",
        "outputId": "eb26a40d-b5b8-470d-e75b-804f46df2470",
        "colab": {
          "base_uri": "https://localhost:8080/",
          "height": 34
        }
      },
      "source": [
        "import math\n",
        "# u, v: vertexes/coordinates\n",
        "# t: WEIGHT_TYPE\n",
        "def weight (u, v, t):\n",
        "  if t == \"EUC_2D\":\n",
        "    return round(math.sqrt(sum([(a - b) ** 2 for a, b in zip(u, v)])))\n",
        "  else:\n",
        "    PI = 3.141592\n",
        "    deg_xu = int(u[0])\n",
        "    min_xu = u[0] - deg_xu\n",
        "    rad_xu = PI * (deg_xu + 5.0 * min_xu/ 3.0) / 180.0\n",
        "\n",
        "    deg_yu = int(u[1])\n",
        "    min_yu = u[1] - deg_yu\n",
        "    rad_yu = PI * (deg_yu + 5.0 * min_yu/ 3.0) / 180.0\n",
        "\n",
        "    deg_xv = int(v[0])\n",
        "    min_xv = v[0] - deg_xv\n",
        "    rad_xv= PI * (deg_xv + 5.0 * min_xv/ 3.0) / 180.0\n",
        "\n",
        "    deg_yv = int(v[1])\n",
        "    min_yv = v[1]- deg_yv\n",
        "    rad_yv = PI * (deg_yv + 5.0 * min_yv/ 3.0) / 180.0\n",
        "\n",
        "    RRR = 6378.388\n",
        "    q1 = math.cos(rad_yu - rad_yv)\n",
        "    q2 = math.cos(rad_xu - rad_xv)\n",
        "    q3 = math.cos(rad_xu + rad_xv)\n",
        "    return (int) (RRR * math.acos(0.5 * ((1.0 + q1) * q2 - (1.0 - q1) * q3)) + 1.0)"
      ],
      "execution_count": 412,
      "outputs": [
        {
          "output_type": "stream",
          "text": [
            "time: 19.8 ms\n"
          ],
          "name": "stdout"
        }
      ]
    },
    {
      "cell_type": "code",
      "metadata": {
        "id": "wD_G4AO3LUWF",
        "colab_type": "code",
        "outputId": "37bac140-6a2b-4761-b890-e86f2ee1d411",
        "colab": {
          "base_uri": "https://localhost:8080/",
          "height": 34
        }
      },
      "source": [
        "def HK_VISIT (v, S): # v: arrival vertex of S, S: subset of vertexes \n",
        "  S_index = get_subset_index(S)\n",
        "  #print(S_index)\n",
        "  if (len(S) == 1) & (S[0][0] == v): # Caso base: la soluzione è il peso dell’arco {v, 0}\n",
        "    #print(\"1 case\")\n",
        "    return weight(V[v][1], V[0][1], t)\n",
        "  elif d[v][S_index] is not None: # Distanza già calcolata, ritorna il valore memorizzato\n",
        "    #print(\"2 case\")\n",
        "    return d[v][S_index] \n",
        "  else:  # Caso ricorsivo: trova il minimo tra tutti i sottocammini\n",
        "    #print(\"3 case\")\n",
        "    mindist = math.inf\n",
        "    minprec = None\n",
        "    temp = copy.deepcopy(S)\n",
        "    temp = [i for i in temp if i[0] != v] # S \\ {v}\n",
        "    for u in temp:\n",
        "      dist = HK_VISIT(u[0], temp)\n",
        "      subsets.append(temp)\n",
        "      if (dist + weight(u[1], V[v][1], t)) < mindist:\n",
        "        mindist = dist + weight(u[1], V[v][1], t)\n",
        "        minprec = u\n",
        "    d[v][S_index] = mindist\n",
        "    phi[v][S_index] = minprec\n",
        "    return mindist"
      ],
      "execution_count": 413,
      "outputs": [
        {
          "output_type": "stream",
          "text": [
            "time: 28.6 ms\n"
          ],
          "name": "stdout"
        }
      ]
    },
    {
      "cell_type": "code",
      "metadata": {
        "id": "H12eIqTmLfgd",
        "colab_type": "code",
        "outputId": "56f6a7e5-9d65-4406-c226-45bd0ee6944d",
        "colab": {
          "base_uri": "https://localhost:8080/",
          "height": 34
        }
      },
      "source": [
        "def HK_TSP (G):\n",
        "  G = (V, E) # build graph\n",
        "  d = 0 # initialize matrix d\n",
        "  phi = 0 # initialize matrix phi\n",
        "  return HK_VISIT(0, V)"
      ],
      "execution_count": 414,
      "outputs": [
        {
          "output_type": "stream",
          "text": [
            "time: 2.58 ms\n"
          ],
          "name": "stdout"
        }
      ]
    },
    {
      "cell_type": "code",
      "metadata": {
        "id": "VgwWbkEsdIYo",
        "colab_type": "code",
        "colab": {}
      },
      "source": [
        "print(HK_VISIT(0, V))\n",
        "print(len(subsets))\n",
        "import numpy as np\n",
        "#print(np.matrix(subsets))\n",
        "#print(np.matrix(d))"
      ],
      "execution_count": 0,
      "outputs": []
    }
  ]
}