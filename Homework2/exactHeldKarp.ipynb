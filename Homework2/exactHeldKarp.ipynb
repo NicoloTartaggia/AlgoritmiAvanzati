{
  "nbformat": 4,
  "nbformat_minor": 0,
  "metadata": {
    "kernelspec": {
      "name": "pycharm-6c910683",
      "language": "python",
      "display_name": "PyCharm (Homework1)"
    },
    "language_info": {
      "codemirror_mode": {
        "name": "ipython",
        "version": 2
      },
      "file_extension": ".py",
      "mimetype": "text/x-python",
      "name": "python",
      "nbconvert_exporter": "python",
      "pygments_lexer": "ipython2",
      "version": "2.7.6"
    },
    "colab": {
      "name": "exactHeldKarp.ipynb",
      "provenance": [],
      "toc_visible": true,
      "include_colab_link": true
    }
  },
  "cells": [
    {
      "cell_type": "markdown",
      "metadata": {
        "id": "view-in-github",
        "colab_type": "text"
      },
      "source": [
        "<a href=\"https://colab.research.google.com/github/cipz/AlgoritmiAvanzati/blob/master/Homework2/exactHeldKarp.ipynb\" target=\"_parent\"><img src=\"https://colab.research.google.com/assets/colab-badge.svg\" alt=\"Open In Colab\"/></a>"
      ]
    },
    {
      "cell_type": "markdown",
      "metadata": {
        "collapsed": false,
        "id": "lXKA4EEB04gg",
        "colab_type": "text"
      },
      "source": [
        "# Held and Karp algorithm"
      ]
    },
    {
      "cell_type": "code",
      "metadata": {
        "pycharm": {
          "name": "#%%\n"
        },
        "id": "p9p3hXyC04gh",
        "colab_type": "code",
        "outputId": "97926147-83b8-4ffb-9b47-b1e719d9bff4",
        "colab": {
          "base_uri": "https://localhost:8080/",
          "height": 85
        }
      },
      "source": [
        "!pip install ipython-autotime\n",
        "\n",
        "%load_ext autotime"
      ],
      "execution_count": 25,
      "outputs": [
        {
          "output_type": "stream",
          "text": [
            "Requirement already satisfied: ipython-autotime in /usr/local/lib/python3.6/dist-packages (0.1)\n",
            "The autotime extension is already loaded. To reload it, use:\n",
            "  %reload_ext autotime\n",
            "time: 3.18 s\n"
          ],
          "name": "stdout"
        }
      ]
    },
    {
      "cell_type": "code",
      "metadata": {
        "pycharm": {
          "name": "#%%\n"
        },
        "id": "0L80xIT704gl",
        "colab_type": "code",
        "outputId": "a00ff9bc-9f03-40a5-b26b-464d79bc4590",
        "colab": {
          "base_uri": "https://localhost:8080/",
          "height": 34
        }
      },
      "source": [
        "import math\n",
        "import numpy as np\n",
        "# u, v: vertexes/coordinates\n",
        "# t: WEIGHT_TYPE\n",
        "def weight (u, v, t):\n",
        "  if t == 'EUC_2D':\n",
        "    return round(math.sqrt(sum([(a - b) ** 2 for a, b in zip(u, v)])))\n",
        "  else:\n",
        "    PI = 3.141592\n",
        "    deg_xu = int(u[0])\n",
        "    min_xu = u[0] - deg_xu\n",
        "    rad_xu = PI * (deg_xu + 5.0 * min_xu/ 3.0) / 180.0\n",
        "\n",
        "    deg_yu = int(u[1])\n",
        "    min_yu = u[1] - deg_yu\n",
        "    rad_yu = PI * (deg_yu + 5.0 * min_yu/ 3.0) / 180.0\n",
        "\n",
        "    deg_xv = int(v[0])\n",
        "    min_xv = v[0] - deg_xv\n",
        "    rad_xv= PI * (deg_xv + 5.0 * min_xv/ 3.0) / 180.0\n",
        "\n",
        "    deg_yv = int(v[1])\n",
        "    min_yv = v[1]- deg_yv\n",
        "    rad_yv = PI * (deg_yv + 5.0 * min_yv/ 3.0) / 180.0\n",
        "\n",
        "    RRR = 6378.388\n",
        "    q1 = math.cos(rad_yu - rad_yv)\n",
        "    q2 = math.cos(rad_xu - rad_xv)\n",
        "    q3 = math.cos(rad_xu + rad_xv)\n",
        "    return (int) (RRR * math.acos(0.5 * ((1.0 + q1) * q2 - (1.0 - q1) * q3)) + 1.0)"
      ],
      "execution_count": 26,
      "outputs": [
        {
          "output_type": "stream",
          "text": [
            "time: 18.8 ms\n"
          ],
          "name": "stdout"
        }
      ]
    },
    {
      "cell_type": "code",
      "metadata": {
        "pycharm": {
          "name": "#%%\n"
        },
        "id": "lv6Rwtso04gn",
        "colab_type": "code",
        "outputId": "fa2508d2-8c9a-498f-97b4-a6f6f3d0295b",
        "colab": {
          "base_uri": "https://localhost:8080/",
          "height": 34
        }
      },
      "source": [
        "lines = open(\"burma14.tsp\", \"r\").readlines()\n",
        "index_start_coordinates = 0\n",
        "cont = 0\n",
        "V = []\n",
        "\n",
        "for line in lines:\n",
        "  cont += 1\n",
        "  if line.replace(\" \", \"\").startswith(\"EOF\"):\n",
        "    break\n",
        "  elif line.replace(\" \", \"\").startswith(\"DIMENSION\"):\n",
        "    n = int(line.split(\":\")[1][1:])\n",
        "  elif line.replace(\" \", \"\").startswith(\"EDGE_WEIGHT_TYPE\"):\n",
        "    t = line.replace(\" \", \"\").split(\":\")[1][1:]\n",
        "  elif line.replace(\" \", \"\").startswith(\"NODE_COORD_SECTION\"):\n",
        "    index_start_coordinates = cont\n",
        "  elif index_start_coordinates > 0:\n",
        "    V.append((int(line.split()[0]) - 1, [float(line.split()[1]), float(line.split()[2])])) #(i, [x_value, y_value])\n",
        "\n",
        "#n = int(lines[3].split()[1]) #.split()[0] # extract number of vertexes\n",
        "#t = lines[4].split()[1]"
      ],
      "execution_count": 27,
      "outputs": [
        {
          "output_type": "stream",
          "text": [
            "time: 10.6 ms\n"
          ],
          "name": "stdout"
        }
      ]
    },
    {
      "cell_type": "code",
      "metadata": {
        "pycharm": {
          "name": "#%%\n"
        },
        "id": "7l9cm5ib04gp",
        "colab_type": "code",
        "outputId": "7f9ad4df-32b0-459d-dd23-65b553808bb1",
        "colab": {
          "base_uri": "https://localhost:8080/",
          "height": 34
        }
      },
      "source": [
        "# build a unique identifier for the subset S, joining the indexes of the vertexes with a blank space between them\n",
        "def encode(S):\n",
        "  encoded_string = \"\"\n",
        "  for s in S:\n",
        "    encoded_string += \" \" + str(s[0])\n",
        "  return encoded_string\n",
        "\n",
        "subsets = {} # dictionary to enumerate the subsets\n",
        "counter = 0\n",
        "subsets[encode(V)] = counter # add the first subset, with all vertexes\n",
        "counter += 1\n",
        "\n",
        "d = np.zeros(shape = (n, 2 ** (n - 1))) # d[v, S]: distance of the TSP starting from 0 to v, passing through al points of S\n",
        "phi = np.zeros(shape = (n, 2 ** (n - 1))) # phi[v, S]: predecessor of v "
      ],
      "execution_count": 28,
      "outputs": [
        {
          "output_type": "stream",
          "text": [
            "time: 9.12 ms\n"
          ],
          "name": "stdout"
        }
      ]
    },
    {
      "cell_type": "code",
      "metadata": {
        "pycharm": {
          "name": "#%%\n"
        },
        "id": "teIFOkhc04gs",
        "colab_type": "code",
        "outputId": "3902ec34-b0f1-4979-f6fc-3587c8858901",
        "colab": {
          "base_uri": "https://localhost:8080/",
          "height": 34
        }
      },
      "source": [
        "import time\n",
        "start = time.time()\n",
        "def held_karp (v, S): # v: arrival vertex of S starting from 0, S: subset of vertexes \n",
        "  S_index = subsets[encode(S)] # build a unique identifier for the subset S\n",
        "  if (time.time() - start) > 180: # max time: 3 min\n",
        "    return None\n",
        "  elif (len(S) == 1) & (S[0][0] == v): # base case: the solution is the weight of the edge {v, 0}\n",
        "    return weight(V[v][1], V[0][1], t)\n",
        "  elif d[v, S_index] != 0: # distance already computed\n",
        "    return d[v, S_index] \n",
        "  else:  # recursive case: find the minimum among all the sub-paths\n",
        "    mindist = math.inf\n",
        "    minprec = None\n",
        "    subset = [i for i in S if i[0] != v] # S \\ {v} \n",
        "    if encode(subset) not in subsets: \n",
        "      global counter\n",
        "      subsets[encode(subset)] = counter\n",
        "      counter += 1\n",
        "    for u in subset:\n",
        "      dist = held_karp(u[0], subset) # compute the partial result\n",
        "      if dist is None:\n",
        "        break\n",
        "      else:\n",
        "        w = weight(u[1], V[v][1], t)\n",
        "        if (dist + w) < mindist:\n",
        "          mindist = dist + w\n",
        "          minprec = u[0]\n",
        "    d[v, S_index] = mindist # update d with the minimum distance\n",
        "    phi[v, S_index] = minprec # update phi with predecessor of v\n",
        "    return mindist"
      ],
      "execution_count": 29,
      "outputs": [
        {
          "output_type": "stream",
          "text": [
            "time: 21 ms\n"
          ],
          "name": "stdout"
        }
      ]
    },
    {
      "cell_type": "code",
      "metadata": {
        "pycharm": {
          "name": "#%%\n"
        },
        "id": "MD2kcHAp04gu",
        "colab_type": "code",
        "outputId": "f7d7485c-8f9e-4083-aa22-5ee720c145a6",
        "colab": {
          "base_uri": "https://localhost:8080/",
          "height": 51
        }
      },
      "source": [
        "print(held_karp(0, V))"
      ],
      "execution_count": 30,
      "outputs": [
        {
          "output_type": "stream",
          "text": [
            "3323.0\n",
            "time: 2.18 s\n"
          ],
          "name": "stdout"
        }
      ]
    }
  ]
}