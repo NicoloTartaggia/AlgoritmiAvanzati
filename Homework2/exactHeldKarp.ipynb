{
  "nbformat": 4,
  "nbformat_minor": 0,
  "metadata": {
    "kernelspec": {
      "display_name": "Python 3",
      "language": "python",
      "name": "python3"
    },
    "language_info": {
      "codemirror_mode": {
        "name": "ipython",
        "version": 2
      },
      "file_extension": ".py",
      "mimetype": "text/x-python",
      "name": "python",
      "nbconvert_exporter": "python",
      "pygments_lexer": "ipython2",
      "version": "2.7.6"
    },
    "colab": {
      "name": "exactHeldKarp.ipynb",
      "provenance": [],
      "toc_visible": true,
      "include_colab_link": true
    }
  },
  "cells": [
    {
      "cell_type": "markdown",
      "metadata": {
        "id": "view-in-github",
        "colab_type": "text"
      },
      "source": [
        "<a href=\"https://colab.research.google.com/github/cipz/AlgoritmiAvanzati/blob/master/Homework2/exactHeldKarp.ipynb\" target=\"_parent\"><img src=\"https://colab.research.google.com/assets/colab-badge.svg\" alt=\"Open In Colab\"/></a>"
      ]
    },
    {
      "cell_type": "markdown",
      "metadata": {
        "collapsed": true,
        "pycharm": {
          "name": "#%% md\n"
        },
        "id": "qmzTRawkKeML",
        "colab_type": "text"
      },
      "source": [
        "# Held and Karp algorithm"
      ]
    },
    {
      "cell_type": "code",
      "metadata": {
        "id": "M4SA5OiWgBbx",
        "colab_type": "code",
        "colab": {
          "base_uri": "https://localhost:8080/",
          "height": 85
        },
        "outputId": "3067344f-1993-4d75-8b0a-9889a18549bf"
      },
      "source": [
        "!pip install ipython-autotime\n",
        "\n",
        "%load_ext autotime"
      ],
      "execution_count": 82,
      "outputs": [
        {
          "output_type": "stream",
          "text": [
            "Requirement already satisfied: ipython-autotime in /usr/local/lib/python3.6/dist-packages (0.1)\n",
            "The autotime extension is already loaded. To reload it, use:\n",
            "  %reload_ext autotime\n",
            "time: 3.13 s\n"
          ],
          "name": "stdout"
        }
      ]
    },
    {
      "cell_type": "code",
      "metadata": {
        "id": "EbkyLmiNpsAf",
        "colab_type": "code",
        "outputId": "2d415822-d86c-4f81-8258-4dc93de4f38e",
        "colab": {
          "base_uri": "https://localhost:8080/",
          "height": 105
        }
      },
      "source": [
        "lines = open(\"test.tsp\", \"r\").readlines()\n",
        "print(lines)\n",
        "n = int(lines[3].split()[1]) #.split()[0] # extract number of vertexes\n",
        "t = lines[4].split()[1]\n",
        "coordinates = lines[9]\n",
        "\n",
        "'''for line in lines:\n",
        "  if line.split()[0] == 'DIMENSION:':\n",
        "    n = line.split()[0]\n",
        "  else if line.split()[0] == 'EDGE_WEIGHT_TYPE:'\n",
        "    t = line.split()[0]\n",
        "  print()'''\n",
        "\n",
        "\n",
        "V = [] # array of vertexes/coordinates\n",
        "for i in range(8, 8 + n):\n",
        "  V.append((int(lines[i].split()[0]) - 1, [lines[i].split()[1], lines[i].split()[2]])) #(i, [x_value, y_value])\n",
        "\n",
        "\n",
        "print(V)\n",
        "temp = [i for i in V if i[0] != 0]\n",
        "print(temp)\n"
      ],
      "execution_count": 83,
      "outputs": [
        {
          "output_type": "stream",
          "text": [
            "['NAME: burma14\\n', 'TYPE: TSP\\n', 'COMMENT: 14-Staedte in Burma (Zaw Win)\\n', 'DIMENSION: 3\\n', 'EDGE_WEIGHT_TYPE: GEO\\n', 'EDGE_WEIGHT_FORMAT: FUNCTION \\n', 'DISPLAY_DATA_TYPE: COORD_DISPLAY\\n', 'NODE_COORD_SECTION\\n', '   1  16.47       96.10\\n', 'EOF\\n']\n",
            "[(0, ['16.47', '96.10'])]\n",
            "[]\n",
            "time: 10.4 ms\n"
          ],
          "name": "stdout"
        }
      ]
    },
    {
      "cell_type": "code",
      "metadata": {
        "id": "3zkZ7dgUVYCj",
        "colab_type": "code",
        "colab": {
          "base_uri": "https://localhost:8080/",
          "height": 51
        },
        "outputId": "a31ad58d-726b-48c0-b389-998d5305c324"
      },
      "source": [
        "# global values\n",
        "\n",
        "subsets = []\n",
        "subsets.append(V)\n",
        "phi = [[None] * n] * n\n",
        "d = [[None] * n] * n\n",
        "\n",
        "def get_subset_index (S):\n",
        "  cont = 0\n",
        "  for s in subsets:\n",
        "    if s == S:\n",
        "      return cont\n",
        "    else:\n",
        "      cont += 1\n",
        "  return False\n",
        "\n",
        "print(get_subset_index(V))"
      ],
      "execution_count": 84,
      "outputs": [
        {
          "output_type": "stream",
          "text": [
            "0\n",
            "time: 6.54 ms\n"
          ],
          "name": "stdout"
        }
      ]
    },
    {
      "cell_type": "code",
      "metadata": {
        "id": "uh7auihJeXfB",
        "colab_type": "code",
        "colab": {
          "base_uri": "https://localhost:8080/",
          "height": 34
        },
        "outputId": "534b0470-130e-462e-a248-e9671459accc"
      },
      "source": [
        "import math\n",
        "# u, v: vertexes/coordinates\n",
        "# t: WEIGHT_TYPE\n",
        "def weight (u, v, t):\n",
        "  if t == \"EUC_2D\":\n",
        "    return round(math.sqrt(sum([(a - b) ** 2 for a, b in zip(u, v)])))\n",
        "  else:\n",
        "    RRR = 6378.388\n",
        "    q1 = math.cos(u[1] - v[1])\n",
        "    q2 = math.cos(u[0] - v[0])\n",
        "    q3 = math.cos(u[0] + v[0])\n",
        "    return (int) (RRR * math.acos(0.5 * ((1.0 + q1) * q2 - (1.0 - q1) * q3)) + 1.0)"
      ],
      "execution_count": 85,
      "outputs": [
        {
          "output_type": "stream",
          "text": [
            "time: 7.39 ms\n"
          ],
          "name": "stdout"
        }
      ]
    },
    {
      "cell_type": "code",
      "metadata": {
        "id": "wD_G4AO3LUWF",
        "colab_type": "code",
        "colab": {
          "base_uri": "https://localhost:8080/",
          "height": 34
        },
        "outputId": "d14f4fb1-22ce-40f5-85ef-78d239909d3e"
      },
      "source": [
        "import copy\n",
        "\n",
        "def HK_VISIT (v, S): # v: arrival vertex of S, S: subset of vertexes \n",
        "  S_index = get_subset_index(S)\n",
        "  if (len(S) == 0) & (S[0][0] == v): # Caso base: la soluzione è il peso dell’arco {v, 0}\n",
        "    return weight(v, 0)\n",
        "  elif d[v][S_index] is not None: # Distanza già calcolata, ritorna il valore memorizzato\n",
        "    return d[v, S_index] \n",
        "  else:  # Caso ricorsivo: trova il minimo tra tutti i sottocammini\n",
        "    mindist = math.inf\n",
        "    minprec = None\n",
        "    temp = copy.deepcopy(S)\n",
        "    temp = [i for i in V if i[0] != 0] # S \\ {v}\n",
        "    for u in temp:\n",
        "      dist = HK_VISIT(u[0], temp)\n",
        "      if (dist + weight(u[1], V[v][1])) < mindist:\n",
        "        mindist = dist + weight(u[1], V[v][1])\n",
        "        minprec = u\n",
        "    d[v][S_index] = mindist\n",
        "    phi[v][S_index] = minprec\n",
        "    return mindist"
      ],
      "execution_count": 86,
      "outputs": [
        {
          "output_type": "stream",
          "text": [
            "time: 16.2 ms\n"
          ],
          "name": "stdout"
        }
      ]
    },
    {
      "cell_type": "code",
      "metadata": {
        "id": "H12eIqTmLfgd",
        "colab_type": "code",
        "colab": {
          "base_uri": "https://localhost:8080/",
          "height": 34
        },
        "outputId": "eacc42b4-1b19-4304-ac2e-8adc6d62e1fe"
      },
      "source": [
        "def HK_TSP (G):\n",
        "  G = (V, E) # build graph\n",
        "  d = 0 # initialize matrix d\n",
        "  phi = 0 # initialize matrix phi\n",
        "  return HK_VISIT(0, V)\n",
        "\n"
      ],
      "execution_count": 87,
      "outputs": [
        {
          "output_type": "stream",
          "text": [
            "time: 4.59 ms\n"
          ],
          "name": "stdout"
        }
      ]
    },
    {
      "cell_type": "code",
      "metadata": {
        "id": "VgwWbkEsdIYo",
        "colab_type": "code",
        "colab": {
          "base_uri": "https://localhost:8080/",
          "height": 51
        },
        "outputId": "5715bcca-81d2-4c83-80bd-785ac1080144"
      },
      "source": [
        "print(HK_VISIT(0, V))"
      ],
      "execution_count": 88,
      "outputs": [
        {
          "output_type": "stream",
          "text": [
            "inf\n",
            "time: 796 µs\n"
          ],
          "name": "stdout"
        }
      ]
    }
  ]
}