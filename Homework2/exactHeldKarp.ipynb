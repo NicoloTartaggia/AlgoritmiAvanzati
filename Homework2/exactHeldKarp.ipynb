{
  "nbformat": 4,
  "nbformat_minor": 0,
  "metadata": {
    "kernelspec": {
      "name": "pycharm-6c910683",
      "language": "python",
      "display_name": "PyCharm (Homework1)"
    },
    "language_info": {
      "codemirror_mode": {
        "name": "ipython",
        "version": 2
      },
      "file_extension": ".py",
      "mimetype": "text/x-python",
      "name": "python",
      "nbconvert_exporter": "python",
      "pygments_lexer": "ipython2",
      "version": "2.7.6"
    },
    "colab": {
      "name": "exactHeldKarp.ipynb",
      "provenance": [],
      "toc_visible": true,
      "include_colab_link": true
    }
  },
  "cells": [
    {
      "cell_type": "markdown",
      "metadata": {
        "id": "view-in-github",
        "colab_type": "text"
      },
      "source": [
        "<a href=\"https://colab.research.google.com/github/cipz/AlgoritmiAvanzati/blob/master/Homework2/exactHeldKarp.ipynb\" target=\"_parent\"><img src=\"https://colab.research.google.com/assets/colab-badge.svg\" alt=\"Open In Colab\"/></a>"
      ]
    },
    {
      "cell_type": "markdown",
      "metadata": {
        "collapsed": false,
        "id": "lXKA4EEB04gg",
        "colab_type": "text"
      },
      "source": [
        "# Held and Karp algorithm"
      ]
    },
    {
      "cell_type": "code",
      "metadata": {
        "pycharm": {
          "name": "#%%\n"
        },
        "id": "p9p3hXyC04gh",
        "colab_type": "code",
        "outputId": "9a1044bf-701f-42f5-8905-748f11b77919",
        "colab": {
          "base_uri": "https://localhost:8080/",
          "height": 85
        }
      },
      "source": [
        "!pip install ipython-autotime\n",
        "\n",
        "%load_ext autotime"
      ],
      "execution_count": 91,
      "outputs": [
        {
          "output_type": "stream",
          "text": [
            "Requirement already satisfied: ipython-autotime in /usr/local/lib/python3.6/dist-packages (0.1)\n",
            "The autotime extension is already loaded. To reload it, use:\n",
            "  %reload_ext autotime\n",
            "time: 4.55 s\n"
          ],
          "name": "stdout"
        }
      ]
    },
    {
      "cell_type": "code",
      "metadata": {
        "pycharm": {
          "name": "#%%\n"
        },
        "id": "0L80xIT704gl",
        "colab_type": "code",
        "outputId": "4ef664de-5d27-4958-9325-d2cfc9206733",
        "colab": {
          "base_uri": "https://localhost:8080/",
          "height": 34
        }
      },
      "source": [
        "import math\n",
        "import numpy as np\n",
        "# u, v: vertexes/coordinates\n",
        "# t: WEIGHT_TYPE\n",
        "def weight (u, v, t):\n",
        "  if t == 'EUC_2D':\n",
        "    return round(math.sqrt(sum([(a - b) ** 2 for a, b in zip(u, v)])))\n",
        "  else:\n",
        "    PI = 3.141592\n",
        "    deg_xu = int(u[0])\n",
        "    min_xu = u[0] - deg_xu\n",
        "    rad_xu = PI * (deg_xu + 5.0 * min_xu/ 3.0) / 180.0\n",
        "\n",
        "    deg_yu = int(u[1])\n",
        "    min_yu = u[1] - deg_yu\n",
        "    rad_yu = PI * (deg_yu + 5.0 * min_yu/ 3.0) / 180.0\n",
        "\n",
        "    deg_xv = int(v[0])\n",
        "    min_xv = v[0] - deg_xv\n",
        "    rad_xv= PI * (deg_xv + 5.0 * min_xv/ 3.0) / 180.0\n",
        "\n",
        "    deg_yv = int(v[1])\n",
        "    min_yv = v[1]- deg_yv\n",
        "    rad_yv = PI * (deg_yv + 5.0 * min_yv/ 3.0) / 180.0\n",
        "\n",
        "    RRR = 6378.388\n",
        "    q1 = math.cos(rad_yu - rad_yv)\n",
        "    q2 = math.cos(rad_xu - rad_xv)\n",
        "    q3 = math.cos(rad_xu + rad_xv)\n",
        "    return (int) (RRR * math.acos(0.5 * ((1.0 + q1) * q2 - (1.0 - q1) * q3)) + 1.0)"
      ],
      "execution_count": 92,
      "outputs": [
        {
          "output_type": "stream",
          "text": [
            "time: 19.7 ms\n"
          ],
          "name": "stdout"
        }
      ]
    },
    {
      "cell_type": "code",
      "metadata": {
        "pycharm": {
          "name": "#%%\n"
        },
        "id": "lv6Rwtso04gn",
        "colab_type": "code",
        "outputId": "5a9949cc-6bea-4e2a-e337-f08e7f07c4bf",
        "colab": {
          "base_uri": "https://localhost:8080/",
          "height": 34
        }
      },
      "source": [
        "lines = open(\"ulysses22.tsp\", \"r\").readlines()\n",
        "index_start_coordinates = 0\n",
        "cont = 0\n",
        "V = []\n",
        "\n",
        "for line in lines:\n",
        "  cont += 1\n",
        "  if line.replace(\" \", \"\").startswith(\"EOF\"):\n",
        "    break\n",
        "  elif line.replace(\" \", \"\").startswith(\"DIMENSION\"):\n",
        "    n = int(line.split(\":\")[1][1:])\n",
        "  elif line.replace(\" \", \"\").startswith(\"EDGE_WEIGHT_TYPE\"):\n",
        "    t = line.replace(\" \", \"\").split(\":\")[1][1:]\n",
        "  elif line.replace(\" \", \"\").startswith(\"NODE_COORD_SECTION\"):\n",
        "    index_start_coordinates = cont\n",
        "  elif index_start_coordinates > 0:\n",
        "    V.append((int(line.split()[0]) - 1, [float(line.split()[1]), float(line.split()[2])])) #(i, [x_value, y_value])\n",
        "\n",
        "#n = int(lines[3].split()[1]) #.split()[0] # extract number of vertexes\n",
        "#t = lines[4].split()[1]"
      ],
      "execution_count": 93,
      "outputs": [
        {
          "output_type": "stream",
          "text": [
            "time: 12 ms\n"
          ],
          "name": "stdout"
        }
      ]
    },
    {
      "cell_type": "code",
      "metadata": {
        "pycharm": {
          "name": "#%%\n"
        },
        "id": "7l9cm5ib04gp",
        "colab_type": "code",
        "outputId": "4d21da19-9e48-4ff2-8f0b-319d110bfdd8",
        "colab": {
          "base_uri": "https://localhost:8080/",
          "height": 34
        }
      },
      "source": [
        "# global variables\n",
        "\n",
        "def encode(S):\n",
        "  encoded_string = \"\"\n",
        "  for s in S:\n",
        "    encoded_string += \" \" + str(s[0])\n",
        "  return encoded_string\n",
        "\n",
        "subsets = {}\n",
        "counter = 0\n",
        "subsets[encode(V)] = counter\n",
        "counter += 1\n",
        "\n",
        "d = np.zeros(shape = (n, 2 ** (n - 1))) # 2^(n-1)\n",
        "phi = np.zeros(shape = (n, 2 ** (n - 1)))"
      ],
      "execution_count": 94,
      "outputs": [
        {
          "output_type": "stream",
          "text": [
            "time: 388 ms\n"
          ],
          "name": "stdout"
        }
      ]
    },
    {
      "cell_type": "code",
      "metadata": {
        "pycharm": {
          "name": "#%%\n"
        },
        "id": "teIFOkhc04gs",
        "colab_type": "code",
        "outputId": "9a41c8a0-2f83-40a0-f977-dee45f9eb398",
        "colab": {
          "base_uri": "https://localhost:8080/",
          "height": 34
        }
      },
      "source": [
        "import time\n",
        "start = time.time()\n",
        "def HK_VISIT (v, S): # v: arrival vertex of S, S: subset of vertexes \n",
        "  S_index = subsets[encode(S)]\n",
        "  if (time.time() - start) > 600: # max time: 10 min\n",
        "    return None\n",
        "  elif (len(S) == 1) & (S[0][0] == v): # Caso base: la soluzione è il peso dell’arco {v, 0}\n",
        "    return weight(V[v][1], V[0][1], t)\n",
        "  elif d[v, S_index] != 0: # Distanza già calcolata, ritorna il valore memorizzato\n",
        "    return d[v, S_index] \n",
        "  else:  # Caso ricorsivo: trova il minimo tra tutti i sottocammini\n",
        "    mindist = math.inf\n",
        "    minprec = None\n",
        "    temp = [i for i in S if i[0] != v] # S \\ {v} \n",
        "    if encode(temp) not in subsets:\n",
        "      global counter\n",
        "      subsets[encode(temp)] = counter\n",
        "      counter += 1\n",
        "    for u in temp:\n",
        "      dist = HK_VISIT(u[0], temp)\n",
        "      if dist is None:\n",
        "        break\n",
        "      else:\n",
        "        w = weight(u[1], V[v][1], t)\n",
        "        if (dist + w) < mindist:\n",
        "          mindist = dist + w\n",
        "          minprec = u[0]\n",
        "    d[v, S_index] = mindist\n",
        "    phi[v, S_index] = minprec\n",
        "    return mindist"
      ],
      "execution_count": 95,
      "outputs": [
        {
          "output_type": "stream",
          "text": [
            "time: 17.2 ms\n"
          ],
          "name": "stdout"
        }
      ]
    },
    {
      "cell_type": "code",
      "metadata": {
        "pycharm": {
          "name": "#%%\n"
        },
        "id": "MD2kcHAp04gu",
        "colab_type": "code",
        "outputId": "266d3974-a118-49f3-d31a-d6b316080ab8",
        "colab": {
          "base_uri": "https://localhost:8080/",
          "height": 51
        }
      },
      "source": [
        "print(HK_VISIT(0, V))"
      ],
      "execution_count": 96,
      "outputs": [
        {
          "output_type": "stream",
          "text": [
            "7188.0\n",
            "time: 9min 59s\n"
          ],
          "name": "stdout"
        }
      ]
    }
  ]
}