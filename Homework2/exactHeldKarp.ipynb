{
  "nbformat": 4,
  "nbformat_minor": 0,
  "metadata": {
    "kernelspec": {
      "display_name": "Python 3",
      "language": "python",
      "name": "python3"
    },
    "language_info": {
      "codemirror_mode": {
        "name": "ipython",
        "version": 2
      },
      "file_extension": ".py",
      "mimetype": "text/x-python",
      "name": "python",
      "nbconvert_exporter": "python",
      "pygments_lexer": "ipython2",
      "version": "2.7.6"
    },
    "colab": {
      "name": "exactHeldKarp.ipynb",
      "provenance": [],
      "toc_visible": true,
      "include_colab_link": true
    }
  },
  "cells": [
    {
      "cell_type": "markdown",
      "metadata": {
        "id": "view-in-github",
        "colab_type": "text"
      },
      "source": [
        "<a href=\"https://colab.research.google.com/github/cipz/AlgoritmiAvanzati/blob/master/Homework2/exactHeldKarp.ipynb\" target=\"_parent\"><img src=\"https://colab.research.google.com/assets/colab-badge.svg\" alt=\"Open In Colab\"/></a>"
      ]
    },
    {
      "cell_type": "markdown",
      "metadata": {
        "collapsed": true,
        "pycharm": {
          "name": "#%% md\n"
        },
        "id": "qmzTRawkKeML",
        "colab_type": "text"
      },
      "source": [
        "# Held and Karp algorithm"
      ]
    },
    {
      "cell_type": "code",
      "metadata": {
        "id": "M4SA5OiWgBbx",
        "colab_type": "code",
        "outputId": "defff0dd-640e-4980-bd54-7ad8eaab47f7",
        "colab": {
          "base_uri": "https://localhost:8080/",
          "height": 85
        }
      },
      "source": [
        "!pip install ipython-autotime\n",
        "\n",
        "%load_ext autotime"
      ],
      "execution_count": 125,
      "outputs": [
        {
          "output_type": "stream",
          "text": [
            "Requirement already satisfied: ipython-autotime in /usr/local/lib/python3.6/dist-packages (0.1)\n",
            "The autotime extension is already loaded. To reload it, use:\n",
            "  %reload_ext autotime\n",
            "time: 2.96 s\n"
          ],
          "name": "stdout"
        }
      ]
    },
    {
      "cell_type": "code",
      "metadata": {
        "id": "uh7auihJeXfB",
        "colab_type": "code",
        "outputId": "aeffa59d-7e59-48f1-b0c2-eb44c4c3f656",
        "colab": {
          "base_uri": "https://localhost:8080/",
          "height": 34
        }
      },
      "source": [
        "import math\n",
        "import numpy as np\n",
        "# u, v: vertexes/coordinates\n",
        "# t: WEIGHT_TYPE\n",
        "def weight (u, v, t):\n",
        "  if t == \"EUC_2D\":\n",
        "    return round(math.sqrt(sum([(a - b) ** 2 for a, b in zip(u, v)])))\n",
        "  else:\n",
        "    PI = 3.141592\n",
        "    deg_xu = int(u[0])\n",
        "    min_xu = u[0] - deg_xu\n",
        "    rad_xu = PI * (deg_xu + 5.0 * min_xu/ 3.0) / 180.0\n",
        "\n",
        "    deg_yu = int(u[1])\n",
        "    min_yu = u[1] - deg_yu\n",
        "    rad_yu = PI * (deg_yu + 5.0 * min_yu/ 3.0) / 180.0\n",
        "\n",
        "    deg_xv = int(v[0])\n",
        "    min_xv = v[0] - deg_xv\n",
        "    rad_xv= PI * (deg_xv + 5.0 * min_xv/ 3.0) / 180.0\n",
        "\n",
        "    deg_yv = int(v[1])\n",
        "    min_yv = v[1]- deg_yv\n",
        "    rad_yv = PI * (deg_yv + 5.0 * min_yv/ 3.0) / 180.0\n",
        "\n",
        "    RRR = 6378.388\n",
        "    q1 = math.cos(rad_yu - rad_yv)\n",
        "    q2 = math.cos(rad_xu - rad_xv)\n",
        "    q3 = math.cos(rad_xu + rad_xv)\n",
        "    return (int) (RRR * math.acos(0.5 * ((1.0 + q1) * q2 - (1.0 - q1) * q3)) + 1.0)"
      ],
      "execution_count": 126,
      "outputs": [
        {
          "output_type": "stream",
          "text": [
            "time: 14.3 ms\n"
          ],
          "name": "stdout"
        }
      ]
    },
    {
      "cell_type": "code",
      "metadata": {
        "id": "EbkyLmiNpsAf",
        "colab_type": "code",
        "outputId": "d8dbd96a-039b-47c0-9381-e198a8e7ba32",
        "colab": {
          "base_uri": "https://localhost:8080/",
          "height": 85
        }
      },
      "source": [
        "lines = open(\"test.tsp\", \"r\").readlines()\n",
        "index_start_coordinates = 0\n",
        "cont = 0\n",
        "V = []\n",
        "\n",
        "for line in lines:\n",
        "  cont += 1\n",
        "  if line.startswith(\"EOF\"):\n",
        "    break\n",
        "  elif line.startswith(\"DIMENSION\"):\n",
        "    n = int(line.split(\":\")[1][1:])\n",
        "  elif line.startswith(\"EDGE_WEIGHT_TYPE\"):\n",
        "    t = line.split(\":\")[1][1:]\n",
        "  elif line.startswith(\"NODE_COORD_SECTION\"):\n",
        "    index_start_coordinates = cont\n",
        "  elif (index_start_coordinates > 0):\n",
        "    V.append((int(line.split()[0]) - 1, [float(line.split()[1]), float(line.split()[2])])) #(i, [x_value, y_value])\n",
        "#n = int(lines[3].split()[1]) #.split()[0] # extract number of vertexes\n",
        "#t = lines[4].split()[1]\n",
        "print(n,t)\n",
        "'''\n",
        "for line in lines:\n",
        "  if line.split()[0] == 'DIMENSION:':\n",
        "    n = line.split()[0]\n",
        "  else if line.split()[0] == 'EDGE_WEIGHT_TYPE:'\n",
        "    t = line.split()[0]\n",
        "  print()'''\n",
        "\n",
        "'''V = [] # array of vertexes/coordinates\n",
        "for i in range(8, 8 + n):\n",
        "  V.append((int(lines[i].split()[0]) - 1, [float(lines[i].split()[1]), float(lines[i].split()[2])])) #(i, [x_value, y_value])\n",
        "'''\n",
        "print(V)"
      ],
      "execution_count": 127,
      "outputs": [
        {
          "output_type": "stream",
          "text": [
            "4 GEO\n",
            "\n",
            "[(0, [16.47, 96.1]), (1, [16.47, 94.44]), (2, [20.09, 92.54]), (3, [22.39, 93.37])]\n",
            "time: 15.4 ms\n"
          ],
          "name": "stdout"
        }
      ]
    },
    {
      "cell_type": "code",
      "metadata": {
        "id": "3zkZ7dgUVYCj",
        "colab_type": "code",
        "outputId": "42575a63-1e0f-4572-e5b8-4a4b4ce4710b",
        "colab": {
          "base_uri": "https://localhost:8080/",
          "height": 34
        }
      },
      "source": [
        "# global values\n",
        "\n",
        "subsets = []\n",
        "subsets.append(V)\n",
        "#phi = [[None] * 10] * 10 #[[]]\n",
        "#d = [[None] * 10] * 10\n",
        "d = np.zeros(shape = (n, 2 ** (n - 1))) # 2^(n-1)\n",
        "phi = np.zeros(shape = (n, 2 ** (n - 1)))\n",
        "\n",
        "def get_subset_index (S):\n",
        "  cont = 0\n",
        "  for s in subsets:\n",
        "    if s == S:\n",
        "      return cont\n",
        "    else:\n",
        "      cont += 1\n",
        "  return False\n"
      ],
      "execution_count": 128,
      "outputs": [
        {
          "output_type": "stream",
          "text": [
            "time: 5.98 ms\n"
          ],
          "name": "stdout"
        }
      ]
    },
    {
      "cell_type": "code",
      "metadata": {
        "id": "wD_G4AO3LUWF",
        "colab_type": "code",
        "outputId": "5e91c9b7-836d-43e8-a23d-ca2b1701c955",
        "colab": {
          "base_uri": "https://localhost:8080/",
          "height": 34
        }
      },
      "source": [
        "import time\n",
        "start = time.time()\n",
        "def HK_VISIT (v, S): # v: arrival vertex of S, S: subset of vertexes \n",
        "  S_index = get_subset_index(S)\n",
        "  if (time.time() - start) > 0.16:\n",
        "    return 100\n",
        "  #print(S_index)\n",
        "  elif (S_index is not False) & (len(S) == 1) & (S[0][0] == v): # Caso base: la soluzione è il peso dell’arco {v, 0}\n",
        "    #print(\"1 case\")\n",
        "    return weight(V[v][1], V[0][1], t)\n",
        "  elif d[v,S_index] != 0: # Distanza già calcolata, ritorna il valore memorizzato\n",
        "    #print(\"2 case\")\n",
        "    return d[v,S_index] \n",
        "  else:  # Caso ricorsivo: trova il minimo tra tutti i sottocammini\n",
        "    #print(\"3 case\")\n",
        "    mindist = math.inf\n",
        "    minprec = None\n",
        "    temp = [i for i in S if i[0] != v] # S \\ {v} \n",
        "    subsets.append(temp) if temp not in subsets else subsets\n",
        "    for u in temp:\n",
        "      dist = HK_VISIT(u[0], temp)\n",
        "      if (dist + weight(u[1], V[v][1], t)) < mindist:\n",
        "        mindist = dist + weight(u[1], V[v][1], t)\n",
        "        minprec = u[0]\n",
        "    #print(v, S_index)\n",
        "    d[v,S_index] = mindist\n",
        "    phi[v,S_index] = minprec\n",
        "    return mindist"
      ],
      "execution_count": 129,
      "outputs": [
        {
          "output_type": "stream",
          "text": [
            "time: 20.7 ms\n"
          ],
          "name": "stdout"
        }
      ]
    },
    {
      "cell_type": "code",
      "metadata": {
        "id": "VgwWbkEsdIYo",
        "colab_type": "code",
        "outputId": "22fd6584-7d3e-42e3-d8e6-1a92ebd51170",
        "colab": {
          "base_uri": "https://localhost:8080/",
          "height": 272
        }
      },
      "source": [
        "print(HK_VISIT(0, V))\n",
        "print(time.time() - start , \"s\")\n",
        "print(len(subsets))\n",
        "print(np.matrix(subsets))\n",
        "#print(subsets)\n",
        "print(np.matrix(d))"
      ],
      "execution_count": 130,
      "outputs": [
        {
          "output_type": "stream",
          "text": [
            "1570\n",
            "0.011000871658325195 s\n",
            "8\n",
            "[[list([(0, [16.47, 96.1]), (1, [16.47, 94.44]), (2, [20.09, 92.54]), (3, [22.39, 93.37])])\n",
            "  list([(1, [16.47, 94.44]), (2, [20.09, 92.54]), (3, [22.39, 93.37])])\n",
            "  list([(2, [20.09, 92.54]), (3, [22.39, 93.37])])\n",
            "  list([(3, [22.39, 93.37])]) list([(2, [20.09, 92.54])])\n",
            "  list([(1, [16.47, 94.44]), (3, [22.39, 93.37])])\n",
            "  list([(1, [16.47, 94.44])])\n",
            "  list([(1, [16.47, 94.44]), (2, [20.09, 92.54])])]]\n",
            "[[1570.    0.    0.    0.    0.    0.    0.    0.]\n",
            " [   0. 1417.    0.    0.    0. 1370.    0.  932.]\n",
            " [   0. 1106.  995.    0.    0.    0.    0.  575.]\n",
            " [   0.  864.  799.    0.    0.  817.    0.    0.]]\n",
            "time: 7.95 ms\n"
          ],
          "name": "stdout"
        }
      ]
    }
  ]
}